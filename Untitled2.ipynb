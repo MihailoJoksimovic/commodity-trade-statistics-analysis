{
 "cells": [
  {
   "cell_type": "code",
   "execution_count": 118,
   "metadata": {},
   "outputs": [],
   "source": [
    "import pandas as pd\n",
    "import seaborn as sns\n",
    "import numpy as np\n",
    "from sklearn.model_selection import train_test_split\n",
    "from sklearn.cluster import KMeans\n",
    "from sklearn.cluster import DBSCAN\n",
    "from sklearn import preprocessing\n",
    "from collections import defaultdict\n",
    "\n",
    "\n",
    "%matplotlib inline"
   ]
  },
  {
   "cell_type": "code",
   "execution_count": 2,
   "metadata": {},
   "outputs": [
    {
     "name": "stderr",
     "output_type": "stream",
     "text": [
      "/Users/mihailojoksimovic/miniconda3/lib/python3.6/site-packages/IPython/core/interactiveshell.py:2698: DtypeWarning: Columns (2) have mixed types. Specify dtype option on import or set low_memory=False.\n",
      "  interactivity=interactivity, compiler=compiler, result=result)\n"
     ]
    }
   ],
   "source": [
    "data = pd.read_csv('./commodity_trade_statistics_data.csv')"
   ]
  },
  {
   "cell_type": "code",
   "execution_count": 4,
   "metadata": {},
   "outputs": [
    {
     "data": {
      "text/html": [
       "<div>\n",
       "<style scoped>\n",
       "    .dataframe tbody tr th:only-of-type {\n",
       "        vertical-align: middle;\n",
       "    }\n",
       "\n",
       "    .dataframe tbody tr th {\n",
       "        vertical-align: top;\n",
       "    }\n",
       "\n",
       "    .dataframe thead th {\n",
       "        text-align: right;\n",
       "    }\n",
       "</style>\n",
       "<table border=\"1\" class=\"dataframe\">\n",
       "  <thead>\n",
       "    <tr style=\"text-align: right;\">\n",
       "      <th></th>\n",
       "      <th>country_or_area</th>\n",
       "      <th>year</th>\n",
       "      <th>comm_code</th>\n",
       "      <th>commodity</th>\n",
       "      <th>flow</th>\n",
       "      <th>trade_usd</th>\n",
       "      <th>weight_kg</th>\n",
       "      <th>quantity_name</th>\n",
       "      <th>quantity</th>\n",
       "      <th>category</th>\n",
       "    </tr>\n",
       "  </thead>\n",
       "  <tbody>\n",
       "    <tr>\n",
       "      <th>0</th>\n",
       "      <td>Afghanistan</td>\n",
       "      <td>2016</td>\n",
       "      <td>10410</td>\n",
       "      <td>Sheep, live</td>\n",
       "      <td>Export</td>\n",
       "      <td>6088</td>\n",
       "      <td>2339.0</td>\n",
       "      <td>Number of items</td>\n",
       "      <td>51.0</td>\n",
       "      <td>01_live_animals</td>\n",
       "    </tr>\n",
       "    <tr>\n",
       "      <th>1</th>\n",
       "      <td>Afghanistan</td>\n",
       "      <td>2016</td>\n",
       "      <td>10420</td>\n",
       "      <td>Goats, live</td>\n",
       "      <td>Export</td>\n",
       "      <td>3958</td>\n",
       "      <td>984.0</td>\n",
       "      <td>Number of items</td>\n",
       "      <td>53.0</td>\n",
       "      <td>01_live_animals</td>\n",
       "    </tr>\n",
       "    <tr>\n",
       "      <th>2</th>\n",
       "      <td>Afghanistan</td>\n",
       "      <td>2008</td>\n",
       "      <td>10210</td>\n",
       "      <td>Bovine animals, live pure-bred breeding</td>\n",
       "      <td>Import</td>\n",
       "      <td>1026804</td>\n",
       "      <td>272.0</td>\n",
       "      <td>Number of items</td>\n",
       "      <td>3769.0</td>\n",
       "      <td>01_live_animals</td>\n",
       "    </tr>\n",
       "    <tr>\n",
       "      <th>3</th>\n",
       "      <td>Albania</td>\n",
       "      <td>2016</td>\n",
       "      <td>10290</td>\n",
       "      <td>Bovine animals, live, except pure-bred breeding</td>\n",
       "      <td>Import</td>\n",
       "      <td>2414533</td>\n",
       "      <td>1114023.0</td>\n",
       "      <td>Number of items</td>\n",
       "      <td>6853.0</td>\n",
       "      <td>01_live_animals</td>\n",
       "    </tr>\n",
       "    <tr>\n",
       "      <th>4</th>\n",
       "      <td>Albania</td>\n",
       "      <td>2016</td>\n",
       "      <td>10392</td>\n",
       "      <td>Swine, live except pure-bred breeding &gt; 50 kg</td>\n",
       "      <td>Import</td>\n",
       "      <td>14265937</td>\n",
       "      <td>9484953.0</td>\n",
       "      <td>Number of items</td>\n",
       "      <td>96040.0</td>\n",
       "      <td>01_live_animals</td>\n",
       "    </tr>\n",
       "  </tbody>\n",
       "</table>\n",
       "</div>"
      ],
      "text/plain": [
       "  country_or_area  year comm_code  \\\n",
       "0     Afghanistan  2016     10410   \n",
       "1     Afghanistan  2016     10420   \n",
       "2     Afghanistan  2008     10210   \n",
       "3         Albania  2016     10290   \n",
       "4         Albania  2016     10392   \n",
       "\n",
       "                                         commodity    flow  trade_usd  \\\n",
       "0                                      Sheep, live  Export       6088   \n",
       "1                                      Goats, live  Export       3958   \n",
       "2          Bovine animals, live pure-bred breeding  Import    1026804   \n",
       "3  Bovine animals, live, except pure-bred breeding  Import    2414533   \n",
       "4    Swine, live except pure-bred breeding > 50 kg  Import   14265937   \n",
       "\n",
       "   weight_kg    quantity_name  quantity         category  \n",
       "0     2339.0  Number of items      51.0  01_live_animals  \n",
       "1      984.0  Number of items      53.0  01_live_animals  \n",
       "2      272.0  Number of items    3769.0  01_live_animals  \n",
       "3  1114023.0  Number of items    6853.0  01_live_animals  \n",
       "4  9484953.0  Number of items   96040.0  01_live_animals  "
      ]
     },
     "execution_count": 4,
     "metadata": {},
     "output_type": "execute_result"
    }
   ],
   "source": [
    "data.head()"
   ]
  },
  {
   "cell_type": "code",
   "execution_count": 5,
   "metadata": {},
   "outputs": [],
   "source": [
    "X = data.drop(columns=['country_or_area'])"
   ]
  },
  {
   "cell_type": "code",
   "execution_count": 7,
   "metadata": {},
   "outputs": [],
   "source": [
    "y = data['country_or_area']"
   ]
  },
  {
   "cell_type": "code",
   "execution_count": 9,
   "metadata": {},
   "outputs": [],
   "source": [
    "X_train, X_test, y_train, y_test = train_test_split(X, y)"
   ]
  },
  {
   "cell_type": "code",
   "execution_count": 106,
   "metadata": {},
   "outputs": [],
   "source": [
    "features = ['country_or_area','year','commodity','category', 'flow', 'trade_usd']"
   ]
  },
  {
   "cell_type": "code",
   "execution_count": 66,
   "metadata": {},
   "outputs": [],
   "source": [
    "X = data[features]\n",
    "y = data['country_or_area']"
   ]
  },
  {
   "cell_type": "code",
   "execution_count": 67,
   "metadata": {},
   "outputs": [],
   "source": [
    "d = defaultdict(preprocessing.LabelEncoder)"
   ]
  },
  {
   "cell_type": "code",
   "execution_count": 68,
   "metadata": {},
   "outputs": [],
   "source": [
    "le = preprocessing.LabelEncoder()"
   ]
  },
  {
   "cell_type": "code",
   "execution_count": 71,
   "metadata": {},
   "outputs": [],
   "source": [
    "X = X.apply(lambda x: d[x.name].fit_transform(x))"
   ]
  },
  {
   "cell_type": "code",
   "execution_count": 72,
   "metadata": {},
   "outputs": [
    {
     "data": {
      "text/html": [
       "<div>\n",
       "<style scoped>\n",
       "    .dataframe tbody tr th:only-of-type {\n",
       "        vertical-align: middle;\n",
       "    }\n",
       "\n",
       "    .dataframe tbody tr th {\n",
       "        vertical-align: top;\n",
       "    }\n",
       "\n",
       "    .dataframe thead th {\n",
       "        text-align: right;\n",
       "    }\n",
       "</style>\n",
       "<table border=\"1\" class=\"dataframe\">\n",
       "  <thead>\n",
       "    <tr style=\"text-align: right;\">\n",
       "      <th></th>\n",
       "      <th>category</th>\n",
       "      <th>flow</th>\n",
       "      <th>trade_usd</th>\n",
       "    </tr>\n",
       "  </thead>\n",
       "  <tbody>\n",
       "    <tr>\n",
       "      <th>0</th>\n",
       "      <td>0</td>\n",
       "      <td>0</td>\n",
       "      <td>6087</td>\n",
       "    </tr>\n",
       "    <tr>\n",
       "      <th>1</th>\n",
       "      <td>0</td>\n",
       "      <td>0</td>\n",
       "      <td>3957</td>\n",
       "    </tr>\n",
       "    <tr>\n",
       "      <th>2</th>\n",
       "      <td>0</td>\n",
       "      <td>1</td>\n",
       "      <td>806480</td>\n",
       "    </tr>\n",
       "    <tr>\n",
       "      <th>3</th>\n",
       "      <td>0</td>\n",
       "      <td>1</td>\n",
       "      <td>1294409</td>\n",
       "    </tr>\n",
       "    <tr>\n",
       "      <th>4</th>\n",
       "      <td>0</td>\n",
       "      <td>1</td>\n",
       "      <td>2243807</td>\n",
       "    </tr>\n",
       "  </tbody>\n",
       "</table>\n",
       "</div>"
      ],
      "text/plain": [
       "   category  flow  trade_usd\n",
       "0         0     0       6087\n",
       "1         0     0       3957\n",
       "2         0     1     806480\n",
       "3         0     1    1294409\n",
       "4         0     1    2243807"
      ]
     },
     "execution_count": 72,
     "metadata": {},
     "output_type": "execute_result"
    }
   ],
   "source": [
    "X.head()"
   ]
  },
  {
   "cell_type": "code",
   "execution_count": 73,
   "metadata": {},
   "outputs": [],
   "source": [
    "X_train, X_test, y_train, y_test = train_test_split(X, y)"
   ]
  },
  {
   "cell_type": "code",
   "execution_count": 78,
   "metadata": {},
   "outputs": [],
   "source": [
    "kmeans = KMeans(n_clusters=3, random_state=0).fit(X)"
   ]
  },
  {
   "cell_type": "code",
   "execution_count": 76,
   "metadata": {},
   "outputs": [
    {
     "data": {
      "text/plain": [
       "array([2, 0, 0, ..., 1, 2, 0], dtype=int32)"
      ]
     },
     "execution_count": 76,
     "metadata": {},
     "output_type": "execute_result"
    }
   ],
   "source": [
    "kmeans.labels_"
   ]
  },
  {
   "cell_type": "code",
   "execution_count": 79,
   "metadata": {},
   "outputs": [],
   "source": [
    "prediction_3 = kmeans.predict(X)"
   ]
  },
  {
   "cell_type": "code",
   "execution_count": 80,
   "metadata": {},
   "outputs": [],
   "source": [
    "data['cluster_3'] = prediction_3"
   ]
  },
  {
   "cell_type": "code",
   "execution_count": 83,
   "metadata": {},
   "outputs": [],
   "source": [
    "countries = pd.read_csv(\"https://raw.githubusercontent.com/cs109/2014_data/master/countries.csv\")"
   ]
  },
  {
   "cell_type": "code",
   "execution_count": 85,
   "metadata": {},
   "outputs": [],
   "source": [
    "data.loc[data.country_or_area == 'Belgium-Luxembourg', 'country_or_area'] = 'Belgium'\n",
    "data.loc[data.country_or_area == 'Bosnia Herzegovina', 'country_or_area'] = 'Bosnia and Herzegovina'\n",
    "data.loc[data.country_or_area == 'China, Hong Kong SAR', 'country_or_area'] = 'China'\n",
    "data.loc[data.country_or_area == 'China, Macao SAR', 'country_or_area'] = 'China'\n",
    "data.loc[data.country_or_area == 'Czech Rep.', 'country_or_area'] = 'Czech Republic'\n",
    "data.loc[data.country_or_area == 'Serbia and Montenegro', 'country_or_area'] = 'Serbia'\n",
    "data.loc[data.country_or_area == 'USA', 'Region'] = 'USA'"
   ]
  },
  {
   "cell_type": "code",
   "execution_count": 86,
   "metadata": {},
   "outputs": [],
   "source": [
    "data = data.merge(countries, left_on='country_or_area', right_on='Country', how='left')"
   ]
  },
  {
   "cell_type": "code",
   "execution_count": 87,
   "metadata": {},
   "outputs": [
    {
     "data": {
      "text/html": [
       "<div>\n",
       "<style scoped>\n",
       "    .dataframe tbody tr th:only-of-type {\n",
       "        vertical-align: middle;\n",
       "    }\n",
       "\n",
       "    .dataframe tbody tr th {\n",
       "        vertical-align: top;\n",
       "    }\n",
       "\n",
       "    .dataframe thead th {\n",
       "        text-align: right;\n",
       "    }\n",
       "</style>\n",
       "<table border=\"1\" class=\"dataframe\">\n",
       "  <thead>\n",
       "    <tr style=\"text-align: right;\">\n",
       "      <th></th>\n",
       "      <th>country_or_area</th>\n",
       "      <th>year</th>\n",
       "      <th>comm_code</th>\n",
       "      <th>commodity</th>\n",
       "      <th>flow</th>\n",
       "      <th>trade_usd</th>\n",
       "      <th>weight_kg</th>\n",
       "      <th>quantity_name</th>\n",
       "      <th>quantity</th>\n",
       "      <th>category</th>\n",
       "      <th>cluster_3</th>\n",
       "      <th>Region_x</th>\n",
       "      <th>Country</th>\n",
       "      <th>Region_y</th>\n",
       "    </tr>\n",
       "  </thead>\n",
       "  <tbody>\n",
       "    <tr>\n",
       "      <th>0</th>\n",
       "      <td>Afghanistan</td>\n",
       "      <td>2016</td>\n",
       "      <td>10410</td>\n",
       "      <td>Sheep, live</td>\n",
       "      <td>Export</td>\n",
       "      <td>6088</td>\n",
       "      <td>2339.0</td>\n",
       "      <td>Number of items</td>\n",
       "      <td>51.0</td>\n",
       "      <td>01_live_animals</td>\n",
       "      <td>0</td>\n",
       "      <td>NaN</td>\n",
       "      <td>Afghanistan</td>\n",
       "      <td>ASIA</td>\n",
       "    </tr>\n",
       "    <tr>\n",
       "      <th>1</th>\n",
       "      <td>Afghanistan</td>\n",
       "      <td>2016</td>\n",
       "      <td>10420</td>\n",
       "      <td>Goats, live</td>\n",
       "      <td>Export</td>\n",
       "      <td>3958</td>\n",
       "      <td>984.0</td>\n",
       "      <td>Number of items</td>\n",
       "      <td>53.0</td>\n",
       "      <td>01_live_animals</td>\n",
       "      <td>0</td>\n",
       "      <td>NaN</td>\n",
       "      <td>Afghanistan</td>\n",
       "      <td>ASIA</td>\n",
       "    </tr>\n",
       "    <tr>\n",
       "      <th>2</th>\n",
       "      <td>Afghanistan</td>\n",
       "      <td>2008</td>\n",
       "      <td>10210</td>\n",
       "      <td>Bovine animals, live pure-bred breeding</td>\n",
       "      <td>Import</td>\n",
       "      <td>1026804</td>\n",
       "      <td>272.0</td>\n",
       "      <td>Number of items</td>\n",
       "      <td>3769.0</td>\n",
       "      <td>01_live_animals</td>\n",
       "      <td>2</td>\n",
       "      <td>NaN</td>\n",
       "      <td>Afghanistan</td>\n",
       "      <td>ASIA</td>\n",
       "    </tr>\n",
       "    <tr>\n",
       "      <th>3</th>\n",
       "      <td>Albania</td>\n",
       "      <td>2016</td>\n",
       "      <td>10290</td>\n",
       "      <td>Bovine animals, live, except pure-bred breeding</td>\n",
       "      <td>Import</td>\n",
       "      <td>2414533</td>\n",
       "      <td>1114023.0</td>\n",
       "      <td>Number of items</td>\n",
       "      <td>6853.0</td>\n",
       "      <td>01_live_animals</td>\n",
       "      <td>2</td>\n",
       "      <td>NaN</td>\n",
       "      <td>Albania</td>\n",
       "      <td>EUROPE</td>\n",
       "    </tr>\n",
       "    <tr>\n",
       "      <th>4</th>\n",
       "      <td>Albania</td>\n",
       "      <td>2016</td>\n",
       "      <td>10392</td>\n",
       "      <td>Swine, live except pure-bred breeding &gt; 50 kg</td>\n",
       "      <td>Import</td>\n",
       "      <td>14265937</td>\n",
       "      <td>9484953.0</td>\n",
       "      <td>Number of items</td>\n",
       "      <td>96040.0</td>\n",
       "      <td>01_live_animals</td>\n",
       "      <td>1</td>\n",
       "      <td>NaN</td>\n",
       "      <td>Albania</td>\n",
       "      <td>EUROPE</td>\n",
       "    </tr>\n",
       "  </tbody>\n",
       "</table>\n",
       "</div>"
      ],
      "text/plain": [
       "  country_or_area  year comm_code  \\\n",
       "0     Afghanistan  2016     10410   \n",
       "1     Afghanistan  2016     10420   \n",
       "2     Afghanistan  2008     10210   \n",
       "3         Albania  2016     10290   \n",
       "4         Albania  2016     10392   \n",
       "\n",
       "                                         commodity    flow  trade_usd  \\\n",
       "0                                      Sheep, live  Export       6088   \n",
       "1                                      Goats, live  Export       3958   \n",
       "2          Bovine animals, live pure-bred breeding  Import    1026804   \n",
       "3  Bovine animals, live, except pure-bred breeding  Import    2414533   \n",
       "4    Swine, live except pure-bred breeding > 50 kg  Import   14265937   \n",
       "\n",
       "   weight_kg    quantity_name  quantity         category  cluster_3 Region_x  \\\n",
       "0     2339.0  Number of items      51.0  01_live_animals          0      NaN   \n",
       "1      984.0  Number of items      53.0  01_live_animals          0      NaN   \n",
       "2      272.0  Number of items    3769.0  01_live_animals          2      NaN   \n",
       "3  1114023.0  Number of items    6853.0  01_live_animals          2      NaN   \n",
       "4  9484953.0  Number of items   96040.0  01_live_animals          1      NaN   \n",
       "\n",
       "       Country Region_y  \n",
       "0  Afghanistan     ASIA  \n",
       "1  Afghanistan     ASIA  \n",
       "2  Afghanistan     ASIA  \n",
       "3      Albania   EUROPE  \n",
       "4      Albania   EUROPE  "
      ]
     },
     "execution_count": 87,
     "metadata": {},
     "output_type": "execute_result"
    }
   ],
   "source": [
    "data.head()"
   ]
  },
  {
   "cell_type": "code",
   "execution_count": 104,
   "metadata": {},
   "outputs": [],
   "source": [
    "europe = data[data['Region_y'] == 'EUROPE']"
   ]
  },
  {
   "cell_type": "code",
   "execution_count": 105,
   "metadata": {},
   "outputs": [
    {
     "data": {
      "text/plain": [
       "(2716122, 14)"
      ]
     },
     "execution_count": 105,
     "metadata": {},
     "output_type": "execute_result"
    }
   ],
   "source": [
    "europe.shape"
   ]
  },
  {
   "cell_type": "code",
   "execution_count": 107,
   "metadata": {},
   "outputs": [],
   "source": [
    "features = ['country_or_area','year','commodity','category', 'flow', 'trade_usd']"
   ]
  },
  {
   "cell_type": "code",
   "execution_count": 108,
   "metadata": {},
   "outputs": [],
   "source": [
    "X_europe = europe[features]"
   ]
  },
  {
   "cell_type": "code",
   "execution_count": 109,
   "metadata": {},
   "outputs": [],
   "source": [
    "d = defaultdict(preprocessing.LabelEncoder)"
   ]
  },
  {
   "cell_type": "code",
   "execution_count": 110,
   "metadata": {},
   "outputs": [],
   "source": [
    "X = X_europe.apply(lambda x: d[x.name].fit_transform(x))"
   ]
  },
  {
   "cell_type": "code",
   "execution_count": 113,
   "metadata": {},
   "outputs": [
    {
     "data": {
      "text/html": [
       "<div>\n",
       "<style scoped>\n",
       "    .dataframe tbody tr th:only-of-type {\n",
       "        vertical-align: middle;\n",
       "    }\n",
       "\n",
       "    .dataframe tbody tr th {\n",
       "        vertical-align: top;\n",
       "    }\n",
       "\n",
       "    .dataframe thead th {\n",
       "        text-align: right;\n",
       "    }\n",
       "</style>\n",
       "<table border=\"1\" class=\"dataframe\">\n",
       "  <thead>\n",
       "    <tr style=\"text-align: right;\">\n",
       "      <th></th>\n",
       "      <th>country_or_area</th>\n",
       "      <th>year</th>\n",
       "      <th>commodity</th>\n",
       "      <th>category</th>\n",
       "      <th>flow</th>\n",
       "      <th>trade_usd</th>\n",
       "    </tr>\n",
       "  </thead>\n",
       "  <tbody>\n",
       "    <tr>\n",
       "      <th>3</th>\n",
       "      <td>0</td>\n",
       "      <td>28</td>\n",
       "      <td>492</td>\n",
       "      <td>0</td>\n",
       "      <td>1</td>\n",
       "      <td>725342</td>\n",
       "    </tr>\n",
       "    <tr>\n",
       "      <th>4</th>\n",
       "      <td>0</td>\n",
       "      <td>28</td>\n",
       "      <td>4071</td>\n",
       "      <td>0</td>\n",
       "      <td>1</td>\n",
       "      <td>1140247</td>\n",
       "    </tr>\n",
       "    <tr>\n",
       "      <th>5</th>\n",
       "      <td>0</td>\n",
       "      <td>28</td>\n",
       "      <td>1623</td>\n",
       "      <td>0</td>\n",
       "      <td>1</td>\n",
       "      <td>750939</td>\n",
       "    </tr>\n",
       "    <tr>\n",
       "      <th>6</th>\n",
       "      <td>0</td>\n",
       "      <td>28</td>\n",
       "      <td>1623</td>\n",
       "      <td>0</td>\n",
       "      <td>0</td>\n",
       "      <td>86062</td>\n",
       "    </tr>\n",
       "    <tr>\n",
       "      <th>7</th>\n",
       "      <td>0</td>\n",
       "      <td>28</td>\n",
       "      <td>3375</td>\n",
       "      <td>0</td>\n",
       "      <td>1</td>\n",
       "      <td>26484</td>\n",
       "    </tr>\n",
       "  </tbody>\n",
       "</table>\n",
       "</div>"
      ],
      "text/plain": [
       "   country_or_area  year  commodity  category  flow  trade_usd\n",
       "3                0    28        492         0     1     725342\n",
       "4                0    28       4071         0     1    1140247\n",
       "5                0    28       1623         0     1     750939\n",
       "6                0    28       1623         0     0      86062\n",
       "7                0    28       3375         0     1      26484"
      ]
     },
     "execution_count": 113,
     "metadata": {},
     "output_type": "execute_result"
    }
   ],
   "source": [
    "X.head()"
   ]
  },
  {
   "cell_type": "code",
   "execution_count": 114,
   "metadata": {},
   "outputs": [],
   "source": [
    "kmeans = KMeans(n_clusters=2, random_state=0).fit(X)"
   ]
  },
  {
   "cell_type": "code",
   "execution_count": 115,
   "metadata": {},
   "outputs": [
    {
     "name": "stderr",
     "output_type": "stream",
     "text": [
      "/Users/mihailojoksimovic/miniconda3/lib/python3.6/site-packages/ipykernel_launcher.py:1: SettingWithCopyWarning: \n",
      "A value is trying to be set on a copy of a slice from a DataFrame.\n",
      "Try using .loc[row_indexer,col_indexer] = value instead\n",
      "\n",
      "See the caveats in the documentation: http://pandas.pydata.org/pandas-docs/stable/indexing.html#indexing-view-versus-copy\n",
      "  \"\"\"Entry point for launching an IPython kernel.\n"
     ]
    }
   ],
   "source": [
    "europe['kmeans_3'] = kmeans.predict(X)"
   ]
  },
  {
   "cell_type": "code",
   "execution_count": 117,
   "metadata": {},
   "outputs": [
    {
     "data": {
      "text/html": [
       "<div>\n",
       "<style scoped>\n",
       "    .dataframe tbody tr th:only-of-type {\n",
       "        vertical-align: middle;\n",
       "    }\n",
       "\n",
       "    .dataframe tbody tr th {\n",
       "        vertical-align: top;\n",
       "    }\n",
       "\n",
       "    .dataframe thead th {\n",
       "        text-align: right;\n",
       "    }\n",
       "</style>\n",
       "<table border=\"1\" class=\"dataframe\">\n",
       "  <thead>\n",
       "    <tr style=\"text-align: right;\">\n",
       "      <th></th>\n",
       "      <th>country_or_area</th>\n",
       "      <th>year</th>\n",
       "      <th>kmeans_3</th>\n",
       "    </tr>\n",
       "  </thead>\n",
       "  <tbody>\n",
       "    <tr>\n",
       "      <th>3</th>\n",
       "      <td>Albania</td>\n",
       "      <td>2016</td>\n",
       "      <td>0</td>\n",
       "    </tr>\n",
       "    <tr>\n",
       "      <th>4</th>\n",
       "      <td>Albania</td>\n",
       "      <td>2016</td>\n",
       "      <td>0</td>\n",
       "    </tr>\n",
       "    <tr>\n",
       "      <th>5</th>\n",
       "      <td>Albania</td>\n",
       "      <td>2016</td>\n",
       "      <td>0</td>\n",
       "    </tr>\n",
       "    <tr>\n",
       "      <th>6</th>\n",
       "      <td>Albania</td>\n",
       "      <td>2016</td>\n",
       "      <td>1</td>\n",
       "    </tr>\n",
       "    <tr>\n",
       "      <th>7</th>\n",
       "      <td>Albania</td>\n",
       "      <td>2016</td>\n",
       "      <td>1</td>\n",
       "    </tr>\n",
       "    <tr>\n",
       "      <th>8</th>\n",
       "      <td>Albania</td>\n",
       "      <td>2016</td>\n",
       "      <td>0</td>\n",
       "    </tr>\n",
       "    <tr>\n",
       "      <th>9</th>\n",
       "      <td>Albania</td>\n",
       "      <td>2016</td>\n",
       "      <td>1</td>\n",
       "    </tr>\n",
       "    <tr>\n",
       "      <th>10</th>\n",
       "      <td>Albania</td>\n",
       "      <td>2016</td>\n",
       "      <td>1</td>\n",
       "    </tr>\n",
       "    <tr>\n",
       "      <th>11</th>\n",
       "      <td>Albania</td>\n",
       "      <td>2015</td>\n",
       "      <td>0</td>\n",
       "    </tr>\n",
       "    <tr>\n",
       "      <th>12</th>\n",
       "      <td>Albania</td>\n",
       "      <td>2015</td>\n",
       "      <td>1</td>\n",
       "    </tr>\n",
       "    <tr>\n",
       "      <th>13</th>\n",
       "      <td>Albania</td>\n",
       "      <td>2015</td>\n",
       "      <td>0</td>\n",
       "    </tr>\n",
       "    <tr>\n",
       "      <th>14</th>\n",
       "      <td>Albania</td>\n",
       "      <td>2015</td>\n",
       "      <td>0</td>\n",
       "    </tr>\n",
       "    <tr>\n",
       "      <th>15</th>\n",
       "      <td>Albania</td>\n",
       "      <td>2015</td>\n",
       "      <td>1</td>\n",
       "    </tr>\n",
       "    <tr>\n",
       "      <th>16</th>\n",
       "      <td>Albania</td>\n",
       "      <td>2015</td>\n",
       "      <td>0</td>\n",
       "    </tr>\n",
       "    <tr>\n",
       "      <th>17</th>\n",
       "      <td>Albania</td>\n",
       "      <td>2015</td>\n",
       "      <td>1</td>\n",
       "    </tr>\n",
       "    <tr>\n",
       "      <th>18</th>\n",
       "      <td>Albania</td>\n",
       "      <td>2015</td>\n",
       "      <td>1</td>\n",
       "    </tr>\n",
       "    <tr>\n",
       "      <th>19</th>\n",
       "      <td>Albania</td>\n",
       "      <td>2014</td>\n",
       "      <td>0</td>\n",
       "    </tr>\n",
       "    <tr>\n",
       "      <th>20</th>\n",
       "      <td>Albania</td>\n",
       "      <td>2014</td>\n",
       "      <td>0</td>\n",
       "    </tr>\n",
       "    <tr>\n",
       "      <th>21</th>\n",
       "      <td>Albania</td>\n",
       "      <td>2014</td>\n",
       "      <td>1</td>\n",
       "    </tr>\n",
       "    <tr>\n",
       "      <th>22</th>\n",
       "      <td>Albania</td>\n",
       "      <td>2014</td>\n",
       "      <td>0</td>\n",
       "    </tr>\n",
       "    <tr>\n",
       "      <th>23</th>\n",
       "      <td>Albania</td>\n",
       "      <td>2014</td>\n",
       "      <td>1</td>\n",
       "    </tr>\n",
       "    <tr>\n",
       "      <th>24</th>\n",
       "      <td>Albania</td>\n",
       "      <td>2014</td>\n",
       "      <td>0</td>\n",
       "    </tr>\n",
       "    <tr>\n",
       "      <th>25</th>\n",
       "      <td>Albania</td>\n",
       "      <td>2014</td>\n",
       "      <td>1</td>\n",
       "    </tr>\n",
       "    <tr>\n",
       "      <th>26</th>\n",
       "      <td>Albania</td>\n",
       "      <td>2014</td>\n",
       "      <td>1</td>\n",
       "    </tr>\n",
       "    <tr>\n",
       "      <th>27</th>\n",
       "      <td>Albania</td>\n",
       "      <td>2013</td>\n",
       "      <td>1</td>\n",
       "    </tr>\n",
       "    <tr>\n",
       "      <th>28</th>\n",
       "      <td>Albania</td>\n",
       "      <td>2013</td>\n",
       "      <td>1</td>\n",
       "    </tr>\n",
       "    <tr>\n",
       "      <th>29</th>\n",
       "      <td>Albania</td>\n",
       "      <td>2013</td>\n",
       "      <td>1</td>\n",
       "    </tr>\n",
       "    <tr>\n",
       "      <th>30</th>\n",
       "      <td>Albania</td>\n",
       "      <td>2013</td>\n",
       "      <td>0</td>\n",
       "    </tr>\n",
       "    <tr>\n",
       "      <th>31</th>\n",
       "      <td>Albania</td>\n",
       "      <td>2013</td>\n",
       "      <td>1</td>\n",
       "    </tr>\n",
       "    <tr>\n",
       "      <th>32</th>\n",
       "      <td>Albania</td>\n",
       "      <td>2013</td>\n",
       "      <td>0</td>\n",
       "    </tr>\n",
       "    <tr>\n",
       "      <th>...</th>\n",
       "      <td>...</td>\n",
       "      <td>...</td>\n",
       "      <td>...</td>\n",
       "    </tr>\n",
       "    <tr>\n",
       "      <th>8225442</th>\n",
       "      <td>United Kingdom</td>\n",
       "      <td>2005</td>\n",
       "      <td>0</td>\n",
       "    </tr>\n",
       "    <tr>\n",
       "      <th>8225443</th>\n",
       "      <td>United Kingdom</td>\n",
       "      <td>2004</td>\n",
       "      <td>0</td>\n",
       "    </tr>\n",
       "    <tr>\n",
       "      <th>8225444</th>\n",
       "      <td>United Kingdom</td>\n",
       "      <td>2004</td>\n",
       "      <td>0</td>\n",
       "    </tr>\n",
       "    <tr>\n",
       "      <th>8225445</th>\n",
       "      <td>United Kingdom</td>\n",
       "      <td>2004</td>\n",
       "      <td>0</td>\n",
       "    </tr>\n",
       "    <tr>\n",
       "      <th>8225446</th>\n",
       "      <td>United Kingdom</td>\n",
       "      <td>2003</td>\n",
       "      <td>0</td>\n",
       "    </tr>\n",
       "    <tr>\n",
       "      <th>8225447</th>\n",
       "      <td>United Kingdom</td>\n",
       "      <td>2003</td>\n",
       "      <td>0</td>\n",
       "    </tr>\n",
       "    <tr>\n",
       "      <th>8225448</th>\n",
       "      <td>United Kingdom</td>\n",
       "      <td>2003</td>\n",
       "      <td>0</td>\n",
       "    </tr>\n",
       "    <tr>\n",
       "      <th>8225449</th>\n",
       "      <td>United Kingdom</td>\n",
       "      <td>2002</td>\n",
       "      <td>0</td>\n",
       "    </tr>\n",
       "    <tr>\n",
       "      <th>8225450</th>\n",
       "      <td>United Kingdom</td>\n",
       "      <td>2002</td>\n",
       "      <td>0</td>\n",
       "    </tr>\n",
       "    <tr>\n",
       "      <th>8225451</th>\n",
       "      <td>United Kingdom</td>\n",
       "      <td>2002</td>\n",
       "      <td>0</td>\n",
       "    </tr>\n",
       "    <tr>\n",
       "      <th>8225452</th>\n",
       "      <td>United Kingdom</td>\n",
       "      <td>2001</td>\n",
       "      <td>0</td>\n",
       "    </tr>\n",
       "    <tr>\n",
       "      <th>8225453</th>\n",
       "      <td>United Kingdom</td>\n",
       "      <td>2001</td>\n",
       "      <td>0</td>\n",
       "    </tr>\n",
       "    <tr>\n",
       "      <th>8225454</th>\n",
       "      <td>United Kingdom</td>\n",
       "      <td>2001</td>\n",
       "      <td>0</td>\n",
       "    </tr>\n",
       "    <tr>\n",
       "      <th>8225455</th>\n",
       "      <td>United Kingdom</td>\n",
       "      <td>2000</td>\n",
       "      <td>0</td>\n",
       "    </tr>\n",
       "    <tr>\n",
       "      <th>8225456</th>\n",
       "      <td>United Kingdom</td>\n",
       "      <td>2000</td>\n",
       "      <td>0</td>\n",
       "    </tr>\n",
       "    <tr>\n",
       "      <th>8225457</th>\n",
       "      <td>United Kingdom</td>\n",
       "      <td>2000</td>\n",
       "      <td>0</td>\n",
       "    </tr>\n",
       "    <tr>\n",
       "      <th>8225458</th>\n",
       "      <td>United Kingdom</td>\n",
       "      <td>1999</td>\n",
       "      <td>0</td>\n",
       "    </tr>\n",
       "    <tr>\n",
       "      <th>8225459</th>\n",
       "      <td>United Kingdom</td>\n",
       "      <td>1999</td>\n",
       "      <td>0</td>\n",
       "    </tr>\n",
       "    <tr>\n",
       "      <th>8225460</th>\n",
       "      <td>United Kingdom</td>\n",
       "      <td>1998</td>\n",
       "      <td>0</td>\n",
       "    </tr>\n",
       "    <tr>\n",
       "      <th>8225461</th>\n",
       "      <td>United Kingdom</td>\n",
       "      <td>1998</td>\n",
       "      <td>0</td>\n",
       "    </tr>\n",
       "    <tr>\n",
       "      <th>8225462</th>\n",
       "      <td>United Kingdom</td>\n",
       "      <td>1997</td>\n",
       "      <td>0</td>\n",
       "    </tr>\n",
       "    <tr>\n",
       "      <th>8225463</th>\n",
       "      <td>United Kingdom</td>\n",
       "      <td>1997</td>\n",
       "      <td>0</td>\n",
       "    </tr>\n",
       "    <tr>\n",
       "      <th>8225464</th>\n",
       "      <td>United Kingdom</td>\n",
       "      <td>1996</td>\n",
       "      <td>0</td>\n",
       "    </tr>\n",
       "    <tr>\n",
       "      <th>8225465</th>\n",
       "      <td>United Kingdom</td>\n",
       "      <td>1996</td>\n",
       "      <td>0</td>\n",
       "    </tr>\n",
       "    <tr>\n",
       "      <th>8225466</th>\n",
       "      <td>United Kingdom</td>\n",
       "      <td>1995</td>\n",
       "      <td>0</td>\n",
       "    </tr>\n",
       "    <tr>\n",
       "      <th>8225467</th>\n",
       "      <td>United Kingdom</td>\n",
       "      <td>1995</td>\n",
       "      <td>0</td>\n",
       "    </tr>\n",
       "    <tr>\n",
       "      <th>8225468</th>\n",
       "      <td>United Kingdom</td>\n",
       "      <td>1994</td>\n",
       "      <td>0</td>\n",
       "    </tr>\n",
       "    <tr>\n",
       "      <th>8225469</th>\n",
       "      <td>United Kingdom</td>\n",
       "      <td>1994</td>\n",
       "      <td>0</td>\n",
       "    </tr>\n",
       "    <tr>\n",
       "      <th>8225470</th>\n",
       "      <td>United Kingdom</td>\n",
       "      <td>1993</td>\n",
       "      <td>0</td>\n",
       "    </tr>\n",
       "    <tr>\n",
       "      <th>8225471</th>\n",
       "      <td>United Kingdom</td>\n",
       "      <td>1993</td>\n",
       "      <td>0</td>\n",
       "    </tr>\n",
       "  </tbody>\n",
       "</table>\n",
       "<p>2716122 rows × 3 columns</p>\n",
       "</div>"
      ],
      "text/plain": [
       "        country_or_area  year  kmeans_3\n",
       "3               Albania  2016         0\n",
       "4               Albania  2016         0\n",
       "5               Albania  2016         0\n",
       "6               Albania  2016         1\n",
       "7               Albania  2016         1\n",
       "8               Albania  2016         0\n",
       "9               Albania  2016         1\n",
       "10              Albania  2016         1\n",
       "11              Albania  2015         0\n",
       "12              Albania  2015         1\n",
       "13              Albania  2015         0\n",
       "14              Albania  2015         0\n",
       "15              Albania  2015         1\n",
       "16              Albania  2015         0\n",
       "17              Albania  2015         1\n",
       "18              Albania  2015         1\n",
       "19              Albania  2014         0\n",
       "20              Albania  2014         0\n",
       "21              Albania  2014         1\n",
       "22              Albania  2014         0\n",
       "23              Albania  2014         1\n",
       "24              Albania  2014         0\n",
       "25              Albania  2014         1\n",
       "26              Albania  2014         1\n",
       "27              Albania  2013         1\n",
       "28              Albania  2013         1\n",
       "29              Albania  2013         1\n",
       "30              Albania  2013         0\n",
       "31              Albania  2013         1\n",
       "32              Albania  2013         0\n",
       "...                 ...   ...       ...\n",
       "8225442  United Kingdom  2005         0\n",
       "8225443  United Kingdom  2004         0\n",
       "8225444  United Kingdom  2004         0\n",
       "8225445  United Kingdom  2004         0\n",
       "8225446  United Kingdom  2003         0\n",
       "8225447  United Kingdom  2003         0\n",
       "8225448  United Kingdom  2003         0\n",
       "8225449  United Kingdom  2002         0\n",
       "8225450  United Kingdom  2002         0\n",
       "8225451  United Kingdom  2002         0\n",
       "8225452  United Kingdom  2001         0\n",
       "8225453  United Kingdom  2001         0\n",
       "8225454  United Kingdom  2001         0\n",
       "8225455  United Kingdom  2000         0\n",
       "8225456  United Kingdom  2000         0\n",
       "8225457  United Kingdom  2000         0\n",
       "8225458  United Kingdom  1999         0\n",
       "8225459  United Kingdom  1999         0\n",
       "8225460  United Kingdom  1998         0\n",
       "8225461  United Kingdom  1998         0\n",
       "8225462  United Kingdom  1997         0\n",
       "8225463  United Kingdom  1997         0\n",
       "8225464  United Kingdom  1996         0\n",
       "8225465  United Kingdom  1996         0\n",
       "8225466  United Kingdom  1995         0\n",
       "8225467  United Kingdom  1995         0\n",
       "8225468  United Kingdom  1994         0\n",
       "8225469  United Kingdom  1994         0\n",
       "8225470  United Kingdom  1993         0\n",
       "8225471  United Kingdom  1993         0\n",
       "\n",
       "[2716122 rows x 3 columns]"
      ]
     },
     "execution_count": 117,
     "metadata": {},
     "output_type": "execute_result"
    }
   ],
   "source": [
    "europe[['country_or_area', 'year', 'kmeans_3']]"
   ]
  },
  {
   "cell_type": "code",
   "execution_count": 127,
   "metadata": {},
   "outputs": [],
   "source": [
    "from sklearn.preprocessing import StandardScaler"
   ]
  },
  {
   "cell_type": "code",
   "execution_count": 132,
   "metadata": {},
   "outputs": [
    {
     "ename": "ValueError",
     "evalue": "bad input shape (2716122, 6)",
     "output_type": "error",
     "traceback": [
      "\u001b[0;31m---------------------------------------------------------------------------\u001b[0m",
      "\u001b[0;31mValueError\u001b[0m                                Traceback (most recent call last)",
      "\u001b[0;32m<ipython-input-132-bd253ca9460f>\u001b[0m in \u001b[0;36m<module>\u001b[0;34m()\u001b[0m\n\u001b[0;32m----> 1\u001b[0;31m \u001b[0mX\u001b[0m \u001b[0;34m=\u001b[0m \u001b[0mpreprocessing\u001b[0m\u001b[0;34m.\u001b[0m\u001b[0mLabelEncoder\u001b[0m\u001b[0;34m(\u001b[0m\u001b[0;34m)\u001b[0m\u001b[0;34m.\u001b[0m\u001b[0mfit_transform\u001b[0m\u001b[0;34m(\u001b[0m\u001b[0mX_europe\u001b[0m\u001b[0;34m)\u001b[0m\u001b[0;34m\u001b[0m\u001b[0m\n\u001b[0m",
      "\u001b[0;32m~/miniconda3/lib/python3.6/site-packages/sklearn/preprocessing/label.py\u001b[0m in \u001b[0;36mfit_transform\u001b[0;34m(self, y)\u001b[0m\n\u001b[1;32m    109\u001b[0m         \u001b[0my\u001b[0m \u001b[0;34m:\u001b[0m \u001b[0marray\u001b[0m\u001b[0;34m-\u001b[0m\u001b[0mlike\u001b[0m \u001b[0mof\u001b[0m \u001b[0mshape\u001b[0m \u001b[0;34m[\u001b[0m\u001b[0mn_samples\u001b[0m\u001b[0;34m]\u001b[0m\u001b[0;34m\u001b[0m\u001b[0m\n\u001b[1;32m    110\u001b[0m         \"\"\"\n\u001b[0;32m--> 111\u001b[0;31m         \u001b[0my\u001b[0m \u001b[0;34m=\u001b[0m \u001b[0mcolumn_or_1d\u001b[0m\u001b[0;34m(\u001b[0m\u001b[0my\u001b[0m\u001b[0;34m,\u001b[0m \u001b[0mwarn\u001b[0m\u001b[0;34m=\u001b[0m\u001b[0;32mTrue\u001b[0m\u001b[0;34m)\u001b[0m\u001b[0;34m\u001b[0m\u001b[0m\n\u001b[0m\u001b[1;32m    112\u001b[0m         \u001b[0mself\u001b[0m\u001b[0;34m.\u001b[0m\u001b[0mclasses_\u001b[0m\u001b[0;34m,\u001b[0m \u001b[0my\u001b[0m \u001b[0;34m=\u001b[0m \u001b[0mnp\u001b[0m\u001b[0;34m.\u001b[0m\u001b[0munique\u001b[0m\u001b[0;34m(\u001b[0m\u001b[0my\u001b[0m\u001b[0;34m,\u001b[0m \u001b[0mreturn_inverse\u001b[0m\u001b[0;34m=\u001b[0m\u001b[0;32mTrue\u001b[0m\u001b[0;34m)\u001b[0m\u001b[0;34m\u001b[0m\u001b[0m\n\u001b[1;32m    113\u001b[0m         \u001b[0;32mreturn\u001b[0m \u001b[0my\u001b[0m\u001b[0;34m\u001b[0m\u001b[0m\n",
      "\u001b[0;32m~/miniconda3/lib/python3.6/site-packages/sklearn/utils/validation.py\u001b[0m in \u001b[0;36mcolumn_or_1d\u001b[0;34m(y, warn)\u001b[0m\n\u001b[1;32m    612\u001b[0m         \u001b[0;32mreturn\u001b[0m \u001b[0mnp\u001b[0m\u001b[0;34m.\u001b[0m\u001b[0mravel\u001b[0m\u001b[0;34m(\u001b[0m\u001b[0my\u001b[0m\u001b[0;34m)\u001b[0m\u001b[0;34m\u001b[0m\u001b[0m\n\u001b[1;32m    613\u001b[0m \u001b[0;34m\u001b[0m\u001b[0m\n\u001b[0;32m--> 614\u001b[0;31m     \u001b[0;32mraise\u001b[0m \u001b[0mValueError\u001b[0m\u001b[0;34m(\u001b[0m\u001b[0;34m\"bad input shape {0}\"\u001b[0m\u001b[0;34m.\u001b[0m\u001b[0mformat\u001b[0m\u001b[0;34m(\u001b[0m\u001b[0mshape\u001b[0m\u001b[0;34m)\u001b[0m\u001b[0;34m)\u001b[0m\u001b[0;34m\u001b[0m\u001b[0m\n\u001b[0m\u001b[1;32m    615\u001b[0m \u001b[0;34m\u001b[0m\u001b[0m\n\u001b[1;32m    616\u001b[0m \u001b[0;34m\u001b[0m\u001b[0m\n",
      "\u001b[0;31mValueError\u001b[0m: bad input shape (2716122, 6)"
     ]
    }
   ],
   "source": [
    "X = preprocessing.LabelEncoder().fit_transform(X_europe)"
   ]
  },
  {
   "cell_type": "code",
   "execution_count": 124,
   "metadata": {},
   "outputs": [],
   "source": [
    "dbscan = DBSCAN().fit(X)"
   ]
  },
  {
   "cell_type": "code",
   "execution_count": 126,
   "metadata": {},
   "outputs": [
    {
     "name": "stdout",
     "output_type": "stream",
     "text": [
      "Estimated number of clusters: 0\n"
     ]
    }
   ],
   "source": [
    "labels = dbscan.labels_\n",
    "\n",
    "# Number of clusters in labels, ignoring noise if present.\n",
    "n_clusters_ = len(set(labels)) - (1 if -1 in labels else 0)\n",
    "\n",
    "print('Estimated number of clusters: %d' % n_clusters_)"
   ]
  },
  {
   "cell_type": "code",
   "execution_count": 120,
   "metadata": {},
   "outputs": [
    {
     "ename": "AttributeError",
     "evalue": "'DBSCAN' object has no attribute 'predict'",
     "output_type": "error",
     "traceback": [
      "\u001b[0;31m---------------------------------------------------------------------------\u001b[0m",
      "\u001b[0;31mAttributeError\u001b[0m                            Traceback (most recent call last)",
      "\u001b[0;32m<ipython-input-120-d7b386903a7b>\u001b[0m in \u001b[0;36m<module>\u001b[0;34m()\u001b[0m\n\u001b[0;32m----> 1\u001b[0;31m \u001b[0meurope\u001b[0m\u001b[0;34m[\u001b[0m\u001b[0;34m'dbscan'\u001b[0m\u001b[0;34m]\u001b[0m \u001b[0;34m=\u001b[0m \u001b[0mdbscan\u001b[0m\u001b[0;34m.\u001b[0m\u001b[0mpredict\u001b[0m\u001b[0;34m(\u001b[0m\u001b[0mX\u001b[0m\u001b[0;34m)\u001b[0m\u001b[0;34m\u001b[0m\u001b[0m\n\u001b[0m",
      "\u001b[0;31mAttributeError\u001b[0m: 'DBSCAN' object has no attribute 'predict'"
     ]
    }
   ],
   "source": [
    "europe['dbscan'] = dbscan.predict(X)"
   ]
  },
  {
   "cell_type": "code",
   "execution_count": 133,
   "metadata": {},
   "outputs": [],
   "source": [
    "from sklearn.cluster import DBSCAN\n",
    "from sklearn import metrics\n",
    "from sklearn.datasets.samples_generator import make_blobs\n",
    "from sklearn.preprocessing import StandardScaler\n",
    "\n"
   ]
  },
  {
   "cell_type": "code",
   "execution_count": 139,
   "metadata": {},
   "outputs": [],
   "source": [
    "# #############################################################################\n",
    "# Generate sample data\n",
    "centers = [[1, 1], [-1, -1], [1, -1]]\n",
    "X, labels_true = make_blobs(n_samples=750, centers=centers, cluster_std=0.4,\n",
    "                            random_state=0)\n"
   ]
  },
  {
   "cell_type": "code",
   "execution_count": 140,
   "metadata": {},
   "outputs": [
    {
     "data": {
      "text/plain": [
       "array([[ 0.84022039,  1.14802236],\n",
       "       [-1.15474834, -1.2041171 ],\n",
       "       [ 0.67863613,  0.72418009],\n",
       "       ..., \n",
       "       [ 0.26798858, -1.27833405],\n",
       "       [-0.88628813, -0.30293249],\n",
       "       [ 0.60046048, -1.29605472]])"
      ]
     },
     "execution_count": 140,
     "metadata": {},
     "output_type": "execute_result"
    }
   ],
   "source": [
    "X"
   ]
  },
  {
   "cell_type": "code",
   "execution_count": 141,
   "metadata": {},
   "outputs": [],
   "source": [
    "X = StandardScaler().fit_transform(X)"
   ]
  },
  {
   "cell_type": "code",
   "execution_count": 142,
   "metadata": {},
   "outputs": [
    {
     "data": {
      "text/plain": [
       "array([[ 0.49426097,  1.45106697],\n",
       "       [-1.42808099, -0.83706377],\n",
       "       [ 0.33855918,  1.03875871],\n",
       "       ..., \n",
       "       [-0.05713876, -0.90926105],\n",
       "       [-1.16939407,  0.03959692],\n",
       "       [ 0.26322951, -0.92649949]])"
      ]
     },
     "execution_count": 142,
     "metadata": {},
     "output_type": "execute_result"
    }
   ],
   "source": [
    "X"
   ]
  },
  {
   "cell_type": "code",
   "execution_count": 143,
   "metadata": {},
   "outputs": [
    {
     "data": {
      "text/html": [
       "<div>\n",
       "<style scoped>\n",
       "    .dataframe tbody tr th:only-of-type {\n",
       "        vertical-align: middle;\n",
       "    }\n",
       "\n",
       "    .dataframe tbody tr th {\n",
       "        vertical-align: top;\n",
       "    }\n",
       "\n",
       "    .dataframe thead th {\n",
       "        text-align: right;\n",
       "    }\n",
       "</style>\n",
       "<table border=\"1\" class=\"dataframe\">\n",
       "  <thead>\n",
       "    <tr style=\"text-align: right;\">\n",
       "      <th></th>\n",
       "      <th>country_or_area</th>\n",
       "      <th>year</th>\n",
       "      <th>comm_code</th>\n",
       "      <th>commodity</th>\n",
       "      <th>flow</th>\n",
       "      <th>trade_usd</th>\n",
       "      <th>weight_kg</th>\n",
       "      <th>quantity_name</th>\n",
       "      <th>quantity</th>\n",
       "      <th>category</th>\n",
       "      <th>cluster_3</th>\n",
       "      <th>Region_x</th>\n",
       "      <th>Country</th>\n",
       "      <th>Region_y</th>\n",
       "      <th>kmeans_3</th>\n",
       "    </tr>\n",
       "  </thead>\n",
       "  <tbody>\n",
       "    <tr>\n",
       "      <th>3</th>\n",
       "      <td>Albania</td>\n",
       "      <td>2016</td>\n",
       "      <td>10290</td>\n",
       "      <td>Bovine animals, live, except pure-bred breeding</td>\n",
       "      <td>Import</td>\n",
       "      <td>2414533</td>\n",
       "      <td>1114023.0</td>\n",
       "      <td>Number of items</td>\n",
       "      <td>6853.0</td>\n",
       "      <td>01_live_animals</td>\n",
       "      <td>2</td>\n",
       "      <td>NaN</td>\n",
       "      <td>Albania</td>\n",
       "      <td>EUROPE</td>\n",
       "      <td>0</td>\n",
       "    </tr>\n",
       "    <tr>\n",
       "      <th>4</th>\n",
       "      <td>Albania</td>\n",
       "      <td>2016</td>\n",
       "      <td>10392</td>\n",
       "      <td>Swine, live except pure-bred breeding &gt; 50 kg</td>\n",
       "      <td>Import</td>\n",
       "      <td>14265937</td>\n",
       "      <td>9484953.0</td>\n",
       "      <td>Number of items</td>\n",
       "      <td>96040.0</td>\n",
       "      <td>01_live_animals</td>\n",
       "      <td>1</td>\n",
       "      <td>NaN</td>\n",
       "      <td>Albania</td>\n",
       "      <td>EUROPE</td>\n",
       "      <td>0</td>\n",
       "    </tr>\n",
       "    <tr>\n",
       "      <th>5</th>\n",
       "      <td>Albania</td>\n",
       "      <td>2016</td>\n",
       "      <td>10511</td>\n",
       "      <td>Fowls, live domestic &lt; 185 grams</td>\n",
       "      <td>Import</td>\n",
       "      <td>2671732</td>\n",
       "      <td>254652.0</td>\n",
       "      <td>Number of items</td>\n",
       "      <td>5629138.0</td>\n",
       "      <td>01_live_animals</td>\n",
       "      <td>2</td>\n",
       "      <td>NaN</td>\n",
       "      <td>Albania</td>\n",
       "      <td>EUROPE</td>\n",
       "      <td>0</td>\n",
       "    </tr>\n",
       "    <tr>\n",
       "      <th>6</th>\n",
       "      <td>Albania</td>\n",
       "      <td>2016</td>\n",
       "      <td>10511</td>\n",
       "      <td>Fowls, live domestic &lt; 185 grams</td>\n",
       "      <td>Export</td>\n",
       "      <td>87581</td>\n",
       "      <td>5320.0</td>\n",
       "      <td>Number of items</td>\n",
       "      <td>115180.0</td>\n",
       "      <td>01_live_animals</td>\n",
       "      <td>0</td>\n",
       "      <td>NaN</td>\n",
       "      <td>Albania</td>\n",
       "      <td>EUROPE</td>\n",
       "      <td>1</td>\n",
       "    </tr>\n",
       "    <tr>\n",
       "      <th>7</th>\n",
       "      <td>Albania</td>\n",
       "      <td>2016</td>\n",
       "      <td>10519</td>\n",
       "      <td>Poultry, live except domestic fowls, &lt; 185 grams</td>\n",
       "      <td>Import</td>\n",
       "      <td>26485</td>\n",
       "      <td>2908.0</td>\n",
       "      <td>Number of items</td>\n",
       "      <td>64000.0</td>\n",
       "      <td>01_live_animals</td>\n",
       "      <td>0</td>\n",
       "      <td>NaN</td>\n",
       "      <td>Albania</td>\n",
       "      <td>EUROPE</td>\n",
       "      <td>1</td>\n",
       "    </tr>\n",
       "  </tbody>\n",
       "</table>\n",
       "</div>"
      ],
      "text/plain": [
       "  country_or_area  year comm_code  \\\n",
       "3         Albania  2016     10290   \n",
       "4         Albania  2016     10392   \n",
       "5         Albania  2016     10511   \n",
       "6         Albania  2016     10511   \n",
       "7         Albania  2016     10519   \n",
       "\n",
       "                                          commodity    flow  trade_usd  \\\n",
       "3   Bovine animals, live, except pure-bred breeding  Import    2414533   \n",
       "4     Swine, live except pure-bred breeding > 50 kg  Import   14265937   \n",
       "5                  Fowls, live domestic < 185 grams  Import    2671732   \n",
       "6                  Fowls, live domestic < 185 grams  Export      87581   \n",
       "7  Poultry, live except domestic fowls, < 185 grams  Import      26485   \n",
       "\n",
       "   weight_kg    quantity_name   quantity         category  cluster_3 Region_x  \\\n",
       "3  1114023.0  Number of items     6853.0  01_live_animals          2      NaN   \n",
       "4  9484953.0  Number of items    96040.0  01_live_animals          1      NaN   \n",
       "5   254652.0  Number of items  5629138.0  01_live_animals          2      NaN   \n",
       "6     5320.0  Number of items   115180.0  01_live_animals          0      NaN   \n",
       "7     2908.0  Number of items    64000.0  01_live_animals          0      NaN   \n",
       "\n",
       "   Country Region_y  kmeans_3  \n",
       "3  Albania   EUROPE         0  \n",
       "4  Albania   EUROPE         0  \n",
       "5  Albania   EUROPE         0  \n",
       "6  Albania   EUROPE         1  \n",
       "7  Albania   EUROPE         1  "
      ]
     },
     "execution_count": 143,
     "metadata": {},
     "output_type": "execute_result"
    }
   ],
   "source": [
    "europe.head()"
   ]
  },
  {
   "cell_type": "code",
   "execution_count": 144,
   "metadata": {},
   "outputs": [],
   "source": [
    "features = ['commodity', 'trade_usd', 'weight_kg', 'quantity_name', 'quantity', 'category']"
   ]
  },
  {
   "cell_type": "code",
   "execution_count": 148,
   "metadata": {},
   "outputs": [
    {
     "data": {
      "text/plain": [
       "commodity            0\n",
       "trade_usd            0\n",
       "weight_kg        19085\n",
       "quantity_name        0\n",
       "quantity         88450\n",
       "category             0\n",
       "dtype: int64"
      ]
     },
     "execution_count": 148,
     "metadata": {},
     "output_type": "execute_result"
    }
   ],
   "source": [
    "europe[features].isnull().sum()"
   ]
  },
  {
   "cell_type": "code",
   "execution_count": 149,
   "metadata": {},
   "outputs": [
    {
     "data": {
      "text/plain": [
       "(2716122, 6)"
      ]
     },
     "execution_count": 149,
     "metadata": {},
     "output_type": "execute_result"
    }
   ],
   "source": [
    "europe[features].shape"
   ]
  },
  {
   "cell_type": "code",
   "execution_count": 161,
   "metadata": {},
   "outputs": [],
   "source": [
    "europe_clean = europe\n",
    "europe_clean = europe_clean.dropna()"
   ]
  },
  {
   "cell_type": "code",
   "execution_count": 162,
   "metadata": {},
   "outputs": [],
   "source": [
    "europe_clean = europe_clean[europe_clean['commodity'] != 'ALL COMMODITIES']"
   ]
  },
  {
   "cell_type": "code",
   "execution_count": 163,
   "metadata": {},
   "outputs": [
    {
     "data": {
      "text/plain": [
       "(0, 15)"
      ]
     },
     "execution_count": 163,
     "metadata": {},
     "output_type": "execute_result"
    }
   ],
   "source": [
    "europe_clean.shape"
   ]
  },
  {
   "cell_type": "code",
   "execution_count": 156,
   "metadata": {},
   "outputs": [
    {
     "data": {
      "text/plain": [
       "array(['Bovine animals, live, except pure-bred breeding',\n",
       "       'Swine, live except pure-bred breeding > 50 kg',\n",
       "       'Fowls, live domestic < 185 grams', ...,\n",
       "       'Original engravings, prints and lithographs',\n",
       "       'Original sculptures and statuary, in any material',\n",
       "       'Commodities not specified according to kind'], dtype=object)"
      ]
     },
     "execution_count": 156,
     "metadata": {},
     "output_type": "execute_result"
    }
   ],
   "source": [
    "europe_clean.commodity.unique()"
   ]
  },
  {
   "cell_type": "code",
   "execution_count": 157,
   "metadata": {},
   "outputs": [
    {
     "data": {
      "text/html": [
       "<div>\n",
       "<style scoped>\n",
       "    .dataframe tbody tr th:only-of-type {\n",
       "        vertical-align: middle;\n",
       "    }\n",
       "\n",
       "    .dataframe tbody tr th {\n",
       "        vertical-align: top;\n",
       "    }\n",
       "\n",
       "    .dataframe thead th {\n",
       "        text-align: right;\n",
       "    }\n",
       "</style>\n",
       "<table border=\"1\" class=\"dataframe\">\n",
       "  <thead>\n",
       "    <tr style=\"text-align: right;\">\n",
       "      <th></th>\n",
       "      <th>commodity</th>\n",
       "      <th>trade_usd</th>\n",
       "      <th>weight_kg</th>\n",
       "      <th>quantity_name</th>\n",
       "      <th>quantity</th>\n",
       "      <th>category</th>\n",
       "    </tr>\n",
       "  </thead>\n",
       "  <tbody>\n",
       "    <tr>\n",
       "      <th>3</th>\n",
       "      <td>Bovine animals, live, except pure-bred breeding</td>\n",
       "      <td>2414533</td>\n",
       "      <td>1114023.0</td>\n",
       "      <td>Number of items</td>\n",
       "      <td>6853.0</td>\n",
       "      <td>01_live_animals</td>\n",
       "    </tr>\n",
       "    <tr>\n",
       "      <th>4</th>\n",
       "      <td>Swine, live except pure-bred breeding &gt; 50 kg</td>\n",
       "      <td>14265937</td>\n",
       "      <td>9484953.0</td>\n",
       "      <td>Number of items</td>\n",
       "      <td>96040.0</td>\n",
       "      <td>01_live_animals</td>\n",
       "    </tr>\n",
       "    <tr>\n",
       "      <th>5</th>\n",
       "      <td>Fowls, live domestic &lt; 185 grams</td>\n",
       "      <td>2671732</td>\n",
       "      <td>254652.0</td>\n",
       "      <td>Number of items</td>\n",
       "      <td>5629138.0</td>\n",
       "      <td>01_live_animals</td>\n",
       "    </tr>\n",
       "    <tr>\n",
       "      <th>6</th>\n",
       "      <td>Fowls, live domestic &lt; 185 grams</td>\n",
       "      <td>87581</td>\n",
       "      <td>5320.0</td>\n",
       "      <td>Number of items</td>\n",
       "      <td>115180.0</td>\n",
       "      <td>01_live_animals</td>\n",
       "    </tr>\n",
       "    <tr>\n",
       "      <th>7</th>\n",
       "      <td>Poultry, live except domestic fowls, &lt; 185 grams</td>\n",
       "      <td>26485</td>\n",
       "      <td>2908.0</td>\n",
       "      <td>Number of items</td>\n",
       "      <td>64000.0</td>\n",
       "      <td>01_live_animals</td>\n",
       "    </tr>\n",
       "  </tbody>\n",
       "</table>\n",
       "</div>"
      ],
      "text/plain": [
       "                                          commodity  trade_usd  weight_kg  \\\n",
       "3   Bovine animals, live, except pure-bred breeding    2414533  1114023.0   \n",
       "4     Swine, live except pure-bred breeding > 50 kg   14265937  9484953.0   \n",
       "5                  Fowls, live domestic < 185 grams    2671732   254652.0   \n",
       "6                  Fowls, live domestic < 185 grams      87581     5320.0   \n",
       "7  Poultry, live except domestic fowls, < 185 grams      26485     2908.0   \n",
       "\n",
       "     quantity_name   quantity         category  \n",
       "3  Number of items     6853.0  01_live_animals  \n",
       "4  Number of items    96040.0  01_live_animals  \n",
       "5  Number of items  5629138.0  01_live_animals  \n",
       "6  Number of items   115180.0  01_live_animals  \n",
       "7  Number of items    64000.0  01_live_animals  "
      ]
     },
     "execution_count": 157,
     "metadata": {},
     "output_type": "execute_result"
    }
   ],
   "source": [
    "europe_clean.head()"
   ]
  },
  {
   "cell_type": "code",
   "execution_count": 158,
   "metadata": {},
   "outputs": [],
   "source": [
    "d = defaultdict(preprocessing.LabelEncoder)"
   ]
  },
  {
   "cell_type": "code",
   "execution_count": 159,
   "metadata": {},
   "outputs": [],
   "source": [
    "europe_clean = europe_clean.apply(lambda x: d[x.name].fit_transform(x))"
   ]
  },
  {
   "cell_type": "code",
   "execution_count": 160,
   "metadata": {},
   "outputs": [
    {
     "data": {
      "text/html": [
       "<div>\n",
       "<style scoped>\n",
       "    .dataframe tbody tr th:only-of-type {\n",
       "        vertical-align: middle;\n",
       "    }\n",
       "\n",
       "    .dataframe tbody tr th {\n",
       "        vertical-align: top;\n",
       "    }\n",
       "\n",
       "    .dataframe thead th {\n",
       "        text-align: right;\n",
       "    }\n",
       "</style>\n",
       "<table border=\"1\" class=\"dataframe\">\n",
       "  <thead>\n",
       "    <tr style=\"text-align: right;\">\n",
       "      <th></th>\n",
       "      <th>commodity</th>\n",
       "      <th>trade_usd</th>\n",
       "      <th>weight_kg</th>\n",
       "      <th>quantity_name</th>\n",
       "      <th>quantity</th>\n",
       "      <th>category</th>\n",
       "    </tr>\n",
       "  </thead>\n",
       "  <tbody>\n",
       "    <tr>\n",
       "      <th>3</th>\n",
       "      <td>491</td>\n",
       "      <td>710862</td>\n",
       "      <td>476126</td>\n",
       "      <td>4</td>\n",
       "      <td>6853</td>\n",
       "      <td>0</td>\n",
       "    </tr>\n",
       "    <tr>\n",
       "      <th>4</th>\n",
       "      <td>4070</td>\n",
       "      <td>1114230</td>\n",
       "      <td>827954</td>\n",
       "      <td>4</td>\n",
       "      <td>93986</td>\n",
       "      <td>0</td>\n",
       "    </tr>\n",
       "    <tr>\n",
       "      <th>5</th>\n",
       "      <td>1622</td>\n",
       "      <td>735753</td>\n",
       "      <td>212660</td>\n",
       "      <td>4</td>\n",
       "      <td>749628</td>\n",
       "      <td>0</td>\n",
       "    </tr>\n",
       "    <tr>\n",
       "      <th>6</th>\n",
       "      <td>1622</td>\n",
       "      <td>85866</td>\n",
       "      <td>5320</td>\n",
       "      <td>4</td>\n",
       "      <td>111057</td>\n",
       "      <td>0</td>\n",
       "    </tr>\n",
       "    <tr>\n",
       "      <th>7</th>\n",
       "      <td>3374</td>\n",
       "      <td>26483</td>\n",
       "      <td>2908</td>\n",
       "      <td>4</td>\n",
       "      <td>63659</td>\n",
       "      <td>0</td>\n",
       "    </tr>\n",
       "  </tbody>\n",
       "</table>\n",
       "</div>"
      ],
      "text/plain": [
       "   commodity  trade_usd  weight_kg  quantity_name  quantity  category\n",
       "3        491     710862     476126              4      6853         0\n",
       "4       4070    1114230     827954              4     93986         0\n",
       "5       1622     735753     212660              4    749628         0\n",
       "6       1622      85866       5320              4    111057         0\n",
       "7       3374      26483       2908              4     63659         0"
      ]
     },
     "execution_count": 160,
     "metadata": {},
     "output_type": "execute_result"
    }
   ],
   "source": [
    "europe_clean.head()"
   ]
  },
  {
   "cell_type": "code",
   "execution_count": null,
   "metadata": {},
   "outputs": [],
   "source": []
  }
 ],
 "metadata": {
  "kernelspec": {
   "display_name": "Python 3",
   "language": "python",
   "name": "python3"
  },
  "language_info": {
   "codemirror_mode": {
    "name": "ipython",
    "version": 3
   },
   "file_extension": ".py",
   "mimetype": "text/x-python",
   "name": "python",
   "nbconvert_exporter": "python",
   "pygments_lexer": "ipython3",
   "version": "3.6.3"
  }
 },
 "nbformat": 4,
 "nbformat_minor": 2
}
