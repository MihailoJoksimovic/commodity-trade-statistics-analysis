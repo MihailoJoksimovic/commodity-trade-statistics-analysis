{
 "cells": [
  {
   "cell_type": "code",
   "execution_count": 1,
   "metadata": {},
   "outputs": [],
   "source": [
    "import pandas as pd\n",
    "import numpy as np\n",
    "import matplotlib.pyplot as plt\n",
    "import seaborn as sns\n",
    "sns.set()\n",
    "\n",
    "%matplotlib inline"
   ]
  },
  {
   "cell_type": "code",
   "execution_count": 2,
   "metadata": {},
   "outputs": [
    {
     "name": "stderr",
     "output_type": "stream",
     "text": [
      "/Users/mihailojoksimovic/miniconda3/lib/python3.6/site-packages/IPython/core/interactiveshell.py:3049: DtypeWarning: Columns (2) have mixed types. Specify dtype option on import or set low_memory=False.\n",
      "  interactivity=interactivity, compiler=compiler, result=result)\n"
     ]
    }
   ],
   "source": [
    "data = pd.read_csv('./commodity_trade_statistics_data.csv')"
   ]
  },
  {
   "cell_type": "code",
   "execution_count": 3,
   "metadata": {},
   "outputs": [],
   "source": [
    "serbia = data[data['country_or_area'] == 'Serbia'].copy()\n",
    "data = None"
   ]
  },
  {
   "cell_type": "code",
   "execution_count": 4,
   "metadata": {},
   "outputs": [
    {
     "data": {
      "text/html": [
       "<div>\n",
       "<style scoped>\n",
       "    .dataframe tbody tr th:only-of-type {\n",
       "        vertical-align: middle;\n",
       "    }\n",
       "\n",
       "    .dataframe tbody tr th {\n",
       "        vertical-align: top;\n",
       "    }\n",
       "\n",
       "    .dataframe thead th {\n",
       "        text-align: right;\n",
       "    }\n",
       "</style>\n",
       "<table border=\"1\" class=\"dataframe\">\n",
       "  <thead>\n",
       "    <tr style=\"text-align: right;\">\n",
       "      <th></th>\n",
       "      <th>country_or_area</th>\n",
       "      <th>year</th>\n",
       "      <th>comm_code</th>\n",
       "      <th>commodity</th>\n",
       "      <th>flow</th>\n",
       "      <th>trade_usd</th>\n",
       "      <th>weight_kg</th>\n",
       "      <th>quantity_name</th>\n",
       "      <th>quantity</th>\n",
       "      <th>category</th>\n",
       "    </tr>\n",
       "  </thead>\n",
       "  <tbody>\n",
       "    <tr>\n",
       "      <th>43976</th>\n",
       "      <td>Serbia</td>\n",
       "      <td>2016</td>\n",
       "      <td>10111</td>\n",
       "      <td>Horses, live pure-bred breeding</td>\n",
       "      <td>Export</td>\n",
       "      <td>4583</td>\n",
       "      <td>1000.0</td>\n",
       "      <td>No Quantity</td>\n",
       "      <td>NaN</td>\n",
       "      <td>01_live_animals</td>\n",
       "    </tr>\n",
       "    <tr>\n",
       "      <th>43977</th>\n",
       "      <td>Serbia</td>\n",
       "      <td>2016</td>\n",
       "      <td>10111</td>\n",
       "      <td>Horses, live pure-bred breeding</td>\n",
       "      <td>Import</td>\n",
       "      <td>10719</td>\n",
       "      <td>800.0</td>\n",
       "      <td>No Quantity</td>\n",
       "      <td>NaN</td>\n",
       "      <td>01_live_animals</td>\n",
       "    </tr>\n",
       "    <tr>\n",
       "      <th>43978</th>\n",
       "      <td>Serbia</td>\n",
       "      <td>2016</td>\n",
       "      <td>10119</td>\n",
       "      <td>Horses, live except pure-bred breeding</td>\n",
       "      <td>Export</td>\n",
       "      <td>70379</td>\n",
       "      <td>14990.0</td>\n",
       "      <td>No Quantity</td>\n",
       "      <td>NaN</td>\n",
       "      <td>01_live_animals</td>\n",
       "    </tr>\n",
       "    <tr>\n",
       "      <th>43979</th>\n",
       "      <td>Serbia</td>\n",
       "      <td>2016</td>\n",
       "      <td>10119</td>\n",
       "      <td>Horses, live except pure-bred breeding</td>\n",
       "      <td>Import</td>\n",
       "      <td>31415</td>\n",
       "      <td>5500.0</td>\n",
       "      <td>Number of items</td>\n",
       "      <td>2.0</td>\n",
       "      <td>01_live_animals</td>\n",
       "    </tr>\n",
       "    <tr>\n",
       "      <th>43980</th>\n",
       "      <td>Serbia</td>\n",
       "      <td>2016</td>\n",
       "      <td>10120</td>\n",
       "      <td>Asses, mules and hinnies, live</td>\n",
       "      <td>Export</td>\n",
       "      <td>1535</td>\n",
       "      <td>950.0</td>\n",
       "      <td>No Quantity</td>\n",
       "      <td>NaN</td>\n",
       "      <td>01_live_animals</td>\n",
       "    </tr>\n",
       "  </tbody>\n",
       "</table>\n",
       "</div>"
      ],
      "text/plain": [
       "      country_or_area  year comm_code                               commodity  \\\n",
       "43976          Serbia  2016     10111         Horses, live pure-bred breeding   \n",
       "43977          Serbia  2016     10111         Horses, live pure-bred breeding   \n",
       "43978          Serbia  2016     10119  Horses, live except pure-bred breeding   \n",
       "43979          Serbia  2016     10119  Horses, live except pure-bred breeding   \n",
       "43980          Serbia  2016     10120          Asses, mules and hinnies, live   \n",
       "\n",
       "         flow  trade_usd  weight_kg    quantity_name  quantity  \\\n",
       "43976  Export       4583     1000.0      No Quantity       NaN   \n",
       "43977  Import      10719      800.0      No Quantity       NaN   \n",
       "43978  Export      70379    14990.0      No Quantity       NaN   \n",
       "43979  Import      31415     5500.0  Number of items       2.0   \n",
       "43980  Export       1535      950.0      No Quantity       NaN   \n",
       "\n",
       "              category  \n",
       "43976  01_live_animals  \n",
       "43977  01_live_animals  \n",
       "43978  01_live_animals  \n",
       "43979  01_live_animals  \n",
       "43980  01_live_animals  "
      ]
     },
     "execution_count": 4,
     "metadata": {},
     "output_type": "execute_result"
    }
   ],
   "source": [
    "serbia.head(5)"
   ]
  },
  {
   "cell_type": "code",
   "execution_count": 5,
   "metadata": {},
   "outputs": [],
   "source": [
    "commodities_to_ignore = ['99_commodities_not_specified_according_to_kind', 'all_commodities']\n",
    "\n",
    "serbia_import = serbia[(serbia['flow'] == 'Import') & (~serbia['category'].isin(commodities_to_ignore))]\n",
    "serbia_export = serbia[(serbia['flow'] == 'Export') & (~serbia['category'].isin(commodities_to_ignore))]"
   ]
  },
  {
   "cell_type": "code",
   "execution_count": 6,
   "metadata": {},
   "outputs": [
    {
     "data": {
      "text/plain": [
       "category\n",
       "10_cereals                                               4614623821\n",
       "17_sugars_and_sugar_confectionery                        1997498463\n",
       "19_cereal_flour_starch_milk_preparations_and_products    1236705996\n",
       "24_tobacco_and_manufactured_tobacco_substitutes          1226883772\n",
       "21_miscellaneous_edible_preparations                     1204277560\n",
       "23_residues_wastes_of_food_industry_animal_fodder        1066159135\n",
       "49_printed_books_newspapers_pictures_etc                  723306221\n",
       "18_cocoa_and_cocoa_preparations                           720311935\n",
       "31_fertilizers                                            629048899\n",
       "86_railway_tramway_locomotives_rolling_stock_equipmen     603530563\n",
       "Name: trade_usd, dtype: int64"
      ]
     },
     "execution_count": 6,
     "metadata": {},
     "output_type": "execute_result"
    }
   ],
   "source": [
    "serbia_export.groupby('category')['trade_usd'].sum().sort_values(ascending=False).head(10)"
   ]
  },
  {
   "cell_type": "code",
   "execution_count": 7,
   "metadata": {},
   "outputs": [],
   "source": [
    "# So cereals seem to be most traded commodity\n",
    "# Let's filter data to it and see how it's traded over time\n",
    "\n",
    "cereals = serbia_export[serbia_export['category'].isin(['10_cereals'])]"
   ]
  },
  {
   "cell_type": "code",
   "execution_count": 8,
   "metadata": {},
   "outputs": [
    {
     "data": {
      "text/html": [
       "<div>\n",
       "<style scoped>\n",
       "    .dataframe tbody tr th:only-of-type {\n",
       "        vertical-align: middle;\n",
       "    }\n",
       "\n",
       "    .dataframe tbody tr th {\n",
       "        vertical-align: top;\n",
       "    }\n",
       "\n",
       "    .dataframe thead th {\n",
       "        text-align: right;\n",
       "    }\n",
       "</style>\n",
       "<table border=\"1\" class=\"dataframe\">\n",
       "  <thead>\n",
       "    <tr style=\"text-align: right;\">\n",
       "      <th></th>\n",
       "      <th>country_or_area</th>\n",
       "      <th>year</th>\n",
       "      <th>comm_code</th>\n",
       "      <th>commodity</th>\n",
       "      <th>flow</th>\n",
       "      <th>trade_usd</th>\n",
       "      <th>weight_kg</th>\n",
       "      <th>quantity_name</th>\n",
       "      <th>quantity</th>\n",
       "      <th>category</th>\n",
       "    </tr>\n",
       "  </thead>\n",
       "  <tbody>\n",
       "    <tr>\n",
       "      <th>838877</th>\n",
       "      <td>Serbia</td>\n",
       "      <td>2016</td>\n",
       "      <td>100110</td>\n",
       "      <td>Durum wheat</td>\n",
       "      <td>Export</td>\n",
       "      <td>7641980</td>\n",
       "      <td>45885944.0</td>\n",
       "      <td>Weight in kilograms</td>\n",
       "      <td>45885944.0</td>\n",
       "      <td>10_cereals</td>\n",
       "    </tr>\n",
       "    <tr>\n",
       "      <th>838879</th>\n",
       "      <td>Serbia</td>\n",
       "      <td>2016</td>\n",
       "      <td>100190</td>\n",
       "      <td>Wheat except durum wheat, and meslin</td>\n",
       "      <td>Export</td>\n",
       "      <td>126979148</td>\n",
       "      <td>793157034.0</td>\n",
       "      <td>Weight in kilograms</td>\n",
       "      <td>793157034.0</td>\n",
       "      <td>10_cereals</td>\n",
       "    </tr>\n",
       "    <tr>\n",
       "      <th>838881</th>\n",
       "      <td>Serbia</td>\n",
       "      <td>2016</td>\n",
       "      <td>100200</td>\n",
       "      <td>Rye</td>\n",
       "      <td>Export</td>\n",
       "      <td>109276</td>\n",
       "      <td>439935.0</td>\n",
       "      <td>Weight in kilograms</td>\n",
       "      <td>439935.0</td>\n",
       "      <td>10_cereals</td>\n",
       "    </tr>\n",
       "    <tr>\n",
       "      <th>838883</th>\n",
       "      <td>Serbia</td>\n",
       "      <td>2016</td>\n",
       "      <td>100300</td>\n",
       "      <td>Barley</td>\n",
       "      <td>Export</td>\n",
       "      <td>4944244</td>\n",
       "      <td>23794589.0</td>\n",
       "      <td>Weight in kilograms</td>\n",
       "      <td>23794589.0</td>\n",
       "      <td>10_cereals</td>\n",
       "    </tr>\n",
       "    <tr>\n",
       "      <th>838885</th>\n",
       "      <td>Serbia</td>\n",
       "      <td>2016</td>\n",
       "      <td>100400</td>\n",
       "      <td>Oats</td>\n",
       "      <td>Export</td>\n",
       "      <td>513747</td>\n",
       "      <td>1209245.0</td>\n",
       "      <td>Weight in kilograms</td>\n",
       "      <td>1209245.0</td>\n",
       "      <td>10_cereals</td>\n",
       "    </tr>\n",
       "  </tbody>\n",
       "</table>\n",
       "</div>"
      ],
      "text/plain": [
       "       country_or_area  year comm_code                             commodity  \\\n",
       "838877          Serbia  2016    100110                           Durum wheat   \n",
       "838879          Serbia  2016    100190  Wheat except durum wheat, and meslin   \n",
       "838881          Serbia  2016    100200                                   Rye   \n",
       "838883          Serbia  2016    100300                                Barley   \n",
       "838885          Serbia  2016    100400                                  Oats   \n",
       "\n",
       "          flow  trade_usd    weight_kg        quantity_name     quantity  \\\n",
       "838877  Export    7641980   45885944.0  Weight in kilograms   45885944.0   \n",
       "838879  Export  126979148  793157034.0  Weight in kilograms  793157034.0   \n",
       "838881  Export     109276     439935.0  Weight in kilograms     439935.0   \n",
       "838883  Export    4944244   23794589.0  Weight in kilograms   23794589.0   \n",
       "838885  Export     513747    1209245.0  Weight in kilograms    1209245.0   \n",
       "\n",
       "          category  \n",
       "838877  10_cereals  \n",
       "838879  10_cereals  \n",
       "838881  10_cereals  \n",
       "838883  10_cereals  \n",
       "838885  10_cereals  "
      ]
     },
     "execution_count": 8,
     "metadata": {},
     "output_type": "execute_result"
    }
   ],
   "source": [
    "cereals.head(5)"
   ]
  },
  {
   "cell_type": "code",
   "execution_count": 9,
   "metadata": {},
   "outputs": [
    {
     "data": {
      "text/plain": [
       "commodity\n",
       "Maize except seed corn                  3247054316\n",
       "Wheat except durum wheat, and meslin     811279564\n",
       "Maize (corn) seed                        376171280\n",
       "Durum wheat                              121529582\n",
       "Barley                                    44589407\n",
       "Cereals unmilled nes                       4638938\n",
       "Rice, semi-milled or wholly milled         4275227\n",
       "Oats                                       3566482\n",
       "Rye                                         576861\n",
       "Millet                                      241384\n",
       "Name: trade_usd, dtype: int64"
      ]
     },
     "execution_count": 9,
     "metadata": {},
     "output_type": "execute_result"
    }
   ],
   "source": [
    "# Which cereal is most traded one?\n",
    "\n",
    "cereals.groupby('commodity')['trade_usd'].sum().sort_values(ascending=False).head(10)"
   ]
  },
  {
   "cell_type": "code",
   "execution_count": 10,
   "metadata": {},
   "outputs": [],
   "source": [
    "# Ok so maize seems to be most traded commodity. Let's try playing with it a bit.\n",
    "\n",
    "maize = cereals[cereals['commodity'] == 'Maize except seed corn']"
   ]
  },
  {
   "cell_type": "code",
   "execution_count": 11,
   "metadata": {},
   "outputs": [
    {
     "data": {
      "text/html": [
       "<div>\n",
       "<style scoped>\n",
       "    .dataframe tbody tr th:only-of-type {\n",
       "        vertical-align: middle;\n",
       "    }\n",
       "\n",
       "    .dataframe tbody tr th {\n",
       "        vertical-align: top;\n",
       "    }\n",
       "\n",
       "    .dataframe thead th {\n",
       "        text-align: right;\n",
       "    }\n",
       "</style>\n",
       "<table border=\"1\" class=\"dataframe\">\n",
       "  <thead>\n",
       "    <tr style=\"text-align: right;\">\n",
       "      <th></th>\n",
       "      <th>country_or_area</th>\n",
       "      <th>year</th>\n",
       "      <th>comm_code</th>\n",
       "      <th>commodity</th>\n",
       "      <th>flow</th>\n",
       "      <th>trade_usd</th>\n",
       "      <th>weight_kg</th>\n",
       "      <th>quantity_name</th>\n",
       "      <th>quantity</th>\n",
       "      <th>category</th>\n",
       "    </tr>\n",
       "  </thead>\n",
       "  <tbody>\n",
       "    <tr>\n",
       "      <th>838889</th>\n",
       "      <td>Serbia</td>\n",
       "      <td>2016</td>\n",
       "      <td>100590</td>\n",
       "      <td>Maize except seed corn</td>\n",
       "      <td>Export</td>\n",
       "      <td>335164992</td>\n",
       "      <td>2.056478e+09</td>\n",
       "      <td>Weight in kilograms</td>\n",
       "      <td>2.056478e+09</td>\n",
       "      <td>10_cereals</td>\n",
       "    </tr>\n",
       "    <tr>\n",
       "      <th>838921</th>\n",
       "      <td>Serbia</td>\n",
       "      <td>2015</td>\n",
       "      <td>100590</td>\n",
       "      <td>Maize except seed corn</td>\n",
       "      <td>Export</td>\n",
       "      <td>335162851</td>\n",
       "      <td>2.090024e+09</td>\n",
       "      <td>Weight in kilograms</td>\n",
       "      <td>2.090024e+09</td>\n",
       "      <td>10_cereals</td>\n",
       "    </tr>\n",
       "    <tr>\n",
       "      <th>838953</th>\n",
       "      <td>Serbia</td>\n",
       "      <td>2014</td>\n",
       "      <td>100590</td>\n",
       "      <td>Maize except seed corn</td>\n",
       "      <td>Export</td>\n",
       "      <td>448920443</td>\n",
       "      <td>2.372557e+09</td>\n",
       "      <td>Weight in kilograms</td>\n",
       "      <td>2.372557e+09</td>\n",
       "      <td>10_cereals</td>\n",
       "    </tr>\n",
       "    <tr>\n",
       "      <th>838984</th>\n",
       "      <td>Serbia</td>\n",
       "      <td>2013</td>\n",
       "      <td>100590</td>\n",
       "      <td>Maize except seed corn</td>\n",
       "      <td>Export</td>\n",
       "      <td>159591100</td>\n",
       "      <td>7.792898e+08</td>\n",
       "      <td>Weight in kilograms</td>\n",
       "      <td>7.792898e+08</td>\n",
       "      <td>10_cereals</td>\n",
       "    </tr>\n",
       "    <tr>\n",
       "      <th>839015</th>\n",
       "      <td>Serbia</td>\n",
       "      <td>2012</td>\n",
       "      <td>100590</td>\n",
       "      <td>Maize except seed corn</td>\n",
       "      <td>Export</td>\n",
       "      <td>532965769</td>\n",
       "      <td>2.118964e+09</td>\n",
       "      <td>Weight in kilograms</td>\n",
       "      <td>2.118964e+09</td>\n",
       "      <td>10_cereals</td>\n",
       "    </tr>\n",
       "  </tbody>\n",
       "</table>\n",
       "</div>"
      ],
      "text/plain": [
       "       country_or_area  year comm_code               commodity    flow  \\\n",
       "838889          Serbia  2016    100590  Maize except seed corn  Export   \n",
       "838921          Serbia  2015    100590  Maize except seed corn  Export   \n",
       "838953          Serbia  2014    100590  Maize except seed corn  Export   \n",
       "838984          Serbia  2013    100590  Maize except seed corn  Export   \n",
       "839015          Serbia  2012    100590  Maize except seed corn  Export   \n",
       "\n",
       "        trade_usd     weight_kg        quantity_name      quantity    category  \n",
       "838889  335164992  2.056478e+09  Weight in kilograms  2.056478e+09  10_cereals  \n",
       "838921  335162851  2.090024e+09  Weight in kilograms  2.090024e+09  10_cereals  \n",
       "838953  448920443  2.372557e+09  Weight in kilograms  2.372557e+09  10_cereals  \n",
       "838984  159591100  7.792898e+08  Weight in kilograms  7.792898e+08  10_cereals  \n",
       "839015  532965769  2.118964e+09  Weight in kilograms  2.118964e+09  10_cereals  "
      ]
     },
     "execution_count": 11,
     "metadata": {},
     "output_type": "execute_result"
    }
   ],
   "source": [
    "maize.head(5)"
   ]
  },
  {
   "cell_type": "code",
   "execution_count": 12,
   "metadata": {},
   "outputs": [
    {
     "data": {
      "text/plain": [
       "<matplotlib.axes._subplots.AxesSubplot at 0x1a410c8eb8>"
      ]
     },
     "execution_count": 12,
     "metadata": {},
     "output_type": "execute_result"
    },
    {
     "data": {
      "image/png": "[encoded data removed]",
      "text/plain": [
       "<Figure size 432x288 with 1 Axes>"
      ]
     },
     "metadata": {
      "needs_background": "light"
     },
     "output_type": "display_data"
    }
   ],
   "source": [
    "# Let's plot it over years to see how it changes (if it changes)\n",
    "\n",
    "maize.groupby('year')['trade_usd'].sum().plot()"
   ]
  },
  {
   "cell_type": "code",
   "execution_count": 13,
   "metadata": {},
   "outputs": [],
   "source": [
    "# Well we don't have that much data for predicting and really the sales of Maize vary quite a lot\n",
    "maize_yearly = maize.groupby('year')['trade_usd'].sum()"
   ]
  },
  {
   "cell_type": "code",
   "execution_count": 14,
   "metadata": {},
   "outputs": [
    {
     "data": {
      "text/plain": [
       "year\n",
       "2005     90707018\n",
       "2006    173484498\n",
       "2007     69198689\n",
       "2008     96490166\n",
       "2009    261230876\n",
       "2010    312013405\n",
       "2011    432124509\n",
       "2012    532965769\n",
       "2013    159591100\n",
       "2014    448920443\n",
       "2015    335162851\n",
       "2016    335164992\n",
       "Name: trade_usd, dtype: int64"
      ]
     },
     "execution_count": 14,
     "metadata": {},
     "output_type": "execute_result"
    }
   ],
   "source": [
    "maize_yearly"
   ]
  },
  {
   "cell_type": "code",
   "execution_count": 15,
   "metadata": {},
   "outputs": [
    {
     "data": {
      "text/plain": [
       "2.3805145167449692e+16"
      ]
     },
     "execution_count": 15,
     "metadata": {},
     "output_type": "execute_result"
    }
   ],
   "source": [
    "maize_yearly.var()"
   ]
  },
  {
   "cell_type": "code",
   "execution_count": 16,
   "metadata": {},
   "outputs": [
    {
     "data": {
      "text/plain": [
       "154289160.88776195"
      ]
     },
     "execution_count": 16,
     "metadata": {},
     "output_type": "execute_result"
    }
   ],
   "source": [
    "maize_yearly.std()"
   ]
  },
  {
   "cell_type": "code",
   "execution_count": 17,
   "metadata": {},
   "outputs": [],
   "source": [
    "# Let's convert to millions and see the variance, in millions\n",
    "\n",
    "maize_yearly_million = maize_yearly / pow(10, 6)"
   ]
  },
  {
   "cell_type": "code",
   "execution_count": 18,
   "metadata": {},
   "outputs": [
    {
     "data": {
      "text/plain": [
       "year\n",
       "2005     90.707018\n",
       "2006    173.484498\n",
       "2007     69.198689\n",
       "2008     96.490166\n",
       "2009    261.230876\n",
       "2010    312.013405\n",
       "2011    432.124509\n",
       "2012    532.965769\n",
       "2013    159.591100\n",
       "2014    448.920443\n",
       "2015    335.162851\n",
       "2016    335.164992\n",
       "Name: trade_usd, dtype: float64"
      ]
     },
     "execution_count": 18,
     "metadata": {},
     "output_type": "execute_result"
    }
   ],
   "source": [
    "maize_yearly_million"
   ]
  },
  {
   "cell_type": "code",
   "execution_count": 19,
   "metadata": {},
   "outputs": [
    {
     "data": {
      "text/plain": [
       "154.28916088776197"
      ]
     },
     "execution_count": 19,
     "metadata": {},
     "output_type": "execute_result"
    }
   ],
   "source": [
    "maize_yearly_million.std()"
   ]
  },
  {
   "cell_type": "code",
   "execution_count": 20,
   "metadata": {},
   "outputs": [],
   "source": [
    "a = np.array([[1, 2], [3, 4]])"
   ]
  },
  {
   "cell_type": "code",
   "execution_count": 21,
   "metadata": {},
   "outputs": [
    {
     "data": {
      "text/plain": [
       "array([[1, 2],\n",
       "       [3, 4]])"
      ]
     },
     "execution_count": 21,
     "metadata": {},
     "output_type": "execute_result"
    }
   ],
   "source": [
    "a"
   ]
  },
  {
   "cell_type": "code",
   "execution_count": 22,
   "metadata": {},
   "outputs": [
    {
     "data": {
      "text/plain": [
       "array([1., 1.])"
      ]
     },
     "execution_count": 22,
     "metadata": {},
     "output_type": "execute_result"
    }
   ],
   "source": [
    "np.std(a, axis=0)"
   ]
  },
  {
   "cell_type": "code",
   "execution_count": 23,
   "metadata": {},
   "outputs": [
    {
     "data": {
      "text/plain": [
       "array(['Durum wheat', 'Wheat except durum wheat, and meslin', 'Rye',\n",
       "       'Barley', 'Oats', 'Maize (corn) seed', 'Maize except seed corn',\n",
       "       'Rice in the husk (paddy or rough)', 'Rice, husked (brown)',\n",
       "       'Rice, semi-milled or wholly milled', 'Rice, broken',\n",
       "       'Grain sorghum', 'Buckwheat', 'Millet', 'Canary seed',\n",
       "       'Cereals unmilled nes'], dtype=object)"
      ]
     },
     "execution_count": 23,
     "metadata": {},
     "output_type": "execute_result"
    }
   ],
   "source": [
    "# Ok, let's look for commodity with lowest std.\n",
    "\n",
    "cereals.commodity.unique()\n"
   ]
  },
  {
   "cell_type": "code",
   "execution_count": 24,
   "metadata": {},
   "outputs": [],
   "source": [
    "# Hashmap where keys are Commodity names. Values will be standard deviations for each\n",
    "stds = dict.fromkeys(cereals.commodity.unique(), None)"
   ]
  },
  {
   "cell_type": "code",
   "execution_count": 32,
   "metadata": {},
   "outputs": [],
   "source": [
    "for commodity, val in stds.items():\n",
    "    stds[commodity] = serbia_export[serbia_export['commodity'] == commodity]['trade_usd'].std()"
   ]
  },
  {
   "cell_type": "code",
   "execution_count": 33,
   "metadata": {},
   "outputs": [
    {
     "data": {
      "text/plain": [
       "{'Durum wheat': 9716127.452358289,\n",
       " 'Wheat except durum wheat, and meslin': 66779035.64978072,\n",
       " 'Rye': 29288.79105833989,\n",
       " 'Barley': 2728121.718913865,\n",
       " 'Oats': 158285.7005468468,\n",
       " 'Maize (corn) seed': 16702573.507818408,\n",
       " 'Maize except seed corn': 154289160.88776195,\n",
       " 'Rice in the husk (paddy or rough)': 3594.048327134428,\n",
       " 'Rice, husked (brown)': 16141.416549305142,\n",
       " 'Rice, semi-milled or wholly milled': 188673.90417015972,\n",
       " 'Rice, broken': 18764.621641726295,\n",
       " 'Grain sorghum': 11240.32000515029,\n",
       " 'Buckwheat': 5562.027091235385,\n",
       " 'Millet': 9878.09951357041,\n",
       " 'Canary seed': 17222.91769223012,\n",
       " 'Cereals unmilled nes': 227827.41678729033}"
      ]
     },
     "execution_count": 33,
     "metadata": {},
     "output_type": "execute_result"
    }
   ],
   "source": [
    "stds"
   ]
  },
  {
   "cell_type": "code",
   "execution_count": 34,
   "metadata": {},
   "outputs": [
    {
     "data": {
      "text/plain": [
       "[('Rice in the husk (paddy or rough)', 3594.048327134428),\n",
       " ('Buckwheat', 5562.027091235385),\n",
       " ('Millet', 9878.09951357041),\n",
       " ('Grain sorghum', 11240.32000515029),\n",
       " ('Rice, husked (brown)', 16141.416549305142),\n",
       " ('Canary seed', 17222.91769223012),\n",
       " ('Rice, broken', 18764.621641726295),\n",
       " ('Rye', 29288.79105833989),\n",
       " ('Oats', 158285.7005468468),\n",
       " ('Rice, semi-milled or wholly milled', 188673.90417015972),\n",
       " ('Cereals unmilled nes', 227827.41678729033),\n",
       " ('Barley', 2728121.718913865),\n",
       " ('Durum wheat', 9716127.452358289),\n",
       " ('Maize (corn) seed', 16702573.507818408),\n",
       " ('Wheat except durum wheat, and meslin', 66779035.64978072),\n",
       " ('Maize except seed corn', 154289160.88776195)]"
      ]
     },
     "execution_count": 34,
     "metadata": {},
     "output_type": "execute_result"
    }
   ],
   "source": [
    "import operator\n",
    "sorted(stds.items(), key=operator.itemgetter(1))"
   ]
  },
  {
   "cell_type": "code",
   "execution_count": 35,
   "metadata": {},
   "outputs": [
    {
     "data": {
      "text/plain": [
       "<matplotlib.axes._subplots.AxesSubplot at 0x1a1ad85e10>"
      ]
     },
     "execution_count": 35,
     "metadata": {},
     "output_type": "execute_result"
    },
    {
     "data": {
      "image/png": "[encoded data removed]",
      "text/plain": [
       "<Figure size 432x288 with 1 Axes>"
      ]
     },
     "metadata": {
      "needs_background": "light"
     },
     "output_type": "display_data"
    }
   ],
   "source": [
    "cereals[cereals['commodity'] == 'Rice in the husk (paddy or rough)']['trade_usd'].plot()"
   ]
  },
  {
   "cell_type": "code",
   "execution_count": 36,
   "metadata": {},
   "outputs": [
    {
     "data": {
      "text/plain": [
       "<matplotlib.axes._subplots.AxesSubplot at 0x1a3d333358>"
      ]
     },
     "execution_count": 36,
     "metadata": {},
     "output_type": "execute_result"
    },
    {
     "data": {
      "image/png": "[encoded data removed]",
      "text/plain": [
       "<Figure size 432x288 with 1 Axes>"
      ]
     },
     "metadata": {
      "needs_background": "light"
     },
     "output_type": "display_data"
    }
   ],
   "source": [
    "cereals[cereals['commodity'] == 'Buckwheat']['trade_usd'].plot()"
   ]
  },
  {
   "cell_type": "code",
   "execution_count": 37,
   "metadata": {},
   "outputs": [
    {
     "data": {
      "text/plain": [
       "<matplotlib.axes._subplots.AxesSubplot at 0x1a3b49c5c0>"
      ]
     },
     "execution_count": 37,
     "metadata": {},
     "output_type": "execute_result"
    },
    {
     "data": {
      "image/png": "[encoded data removed]",
      "text/plain": [
       "<Figure size 432x288 with 1 Axes>"
      ]
     },
     "metadata": {
      "needs_background": "light"
     },
     "output_type": "display_data"
    }
   ],
   "source": [
    "cereals[cereals['commodity'] == 'Millet']['trade_usd'].plot()"
   ]
  },
  {
   "cell_type": "code",
   "execution_count": 38,
   "metadata": {},
   "outputs": [
    {
     "data": {
      "text/html": [
       "<div>\n",
       "<style scoped>\n",
       "    .dataframe tbody tr th:only-of-type {\n",
       "        vertical-align: middle;\n",
       "    }\n",
       "\n",
       "    .dataframe tbody tr th {\n",
       "        vertical-align: top;\n",
       "    }\n",
       "\n",
       "    .dataframe thead th {\n",
       "        text-align: right;\n",
       "    }\n",
       "</style>\n",
       "<table border=\"1\" class=\"dataframe\">\n",
       "  <thead>\n",
       "    <tr style=\"text-align: right;\">\n",
       "      <th></th>\n",
       "      <th>country_or_area</th>\n",
       "      <th>year</th>\n",
       "      <th>comm_code</th>\n",
       "      <th>commodity</th>\n",
       "      <th>flow</th>\n",
       "      <th>trade_usd</th>\n",
       "      <th>weight_kg</th>\n",
       "      <th>quantity_name</th>\n",
       "      <th>quantity</th>\n",
       "      <th>category</th>\n",
       "    </tr>\n",
       "  </thead>\n",
       "  <tbody>\n",
       "    <tr>\n",
       "      <th>838891</th>\n",
       "      <td>Serbia</td>\n",
       "      <td>2016</td>\n",
       "      <td>100610</td>\n",
       "      <td>Rice in the husk (paddy or rough)</td>\n",
       "      <td>Export</td>\n",
       "      <td>1408</td>\n",
       "      <td>1665.0</td>\n",
       "      <td>Weight in kilograms</td>\n",
       "      <td>1665.0</td>\n",
       "      <td>10_cereals</td>\n",
       "    </tr>\n",
       "    <tr>\n",
       "      <th>838923</th>\n",
       "      <td>Serbia</td>\n",
       "      <td>2015</td>\n",
       "      <td>100610</td>\n",
       "      <td>Rice in the husk (paddy or rough)</td>\n",
       "      <td>Export</td>\n",
       "      <td>2265</td>\n",
       "      <td>3280.0</td>\n",
       "      <td>Weight in kilograms</td>\n",
       "      <td>3280.0</td>\n",
       "      <td>10_cereals</td>\n",
       "    </tr>\n",
       "    <tr>\n",
       "      <th>838955</th>\n",
       "      <td>Serbia</td>\n",
       "      <td>2014</td>\n",
       "      <td>100610</td>\n",
       "      <td>Rice in the husk (paddy or rough)</td>\n",
       "      <td>Export</td>\n",
       "      <td>3865</td>\n",
       "      <td>2572.0</td>\n",
       "      <td>Weight in kilograms</td>\n",
       "      <td>2572.0</td>\n",
       "      <td>10_cereals</td>\n",
       "    </tr>\n",
       "    <tr>\n",
       "      <th>838986</th>\n",
       "      <td>Serbia</td>\n",
       "      <td>2013</td>\n",
       "      <td>100610</td>\n",
       "      <td>Rice in the husk (paddy or rough)</td>\n",
       "      <td>Export</td>\n",
       "      <td>3366</td>\n",
       "      <td>2900.0</td>\n",
       "      <td>Weight in kilograms</td>\n",
       "      <td>2900.0</td>\n",
       "      <td>10_cereals</td>\n",
       "    </tr>\n",
       "    <tr>\n",
       "      <th>839017</th>\n",
       "      <td>Serbia</td>\n",
       "      <td>2012</td>\n",
       "      <td>100610</td>\n",
       "      <td>Rice in the husk (paddy or rough)</td>\n",
       "      <td>Export</td>\n",
       "      <td>8440</td>\n",
       "      <td>8935.0</td>\n",
       "      <td>Weight in kilograms</td>\n",
       "      <td>8935.0</td>\n",
       "      <td>10_cereals</td>\n",
       "    </tr>\n",
       "    <tr>\n",
       "      <th>839044</th>\n",
       "      <td>Serbia</td>\n",
       "      <td>2011</td>\n",
       "      <td>100610</td>\n",
       "      <td>Rice in the husk (paddy or rough)</td>\n",
       "      <td>Export</td>\n",
       "      <td>6060</td>\n",
       "      <td>4518.0</td>\n",
       "      <td>Weight in kilograms</td>\n",
       "      <td>4518.0</td>\n",
       "      <td>10_cereals</td>\n",
       "    </tr>\n",
       "    <tr>\n",
       "      <th>839073</th>\n",
       "      <td>Serbia</td>\n",
       "      <td>2010</td>\n",
       "      <td>100610</td>\n",
       "      <td>Rice in the husk (paddy or rough)</td>\n",
       "      <td>Export</td>\n",
       "      <td>10723</td>\n",
       "      <td>11200.0</td>\n",
       "      <td>Weight in kilograms</td>\n",
       "      <td>11200.0</td>\n",
       "      <td>10_cereals</td>\n",
       "    </tr>\n",
       "    <tr>\n",
       "      <th>839104</th>\n",
       "      <td>Serbia</td>\n",
       "      <td>2009</td>\n",
       "      <td>100610</td>\n",
       "      <td>Rice in the husk (paddy or rough)</td>\n",
       "      <td>Export</td>\n",
       "      <td>11</td>\n",
       "      <td>40.0</td>\n",
       "      <td>Weight in kilograms</td>\n",
       "      <td>40.0</td>\n",
       "      <td>10_cereals</td>\n",
       "    </tr>\n",
       "    <tr>\n",
       "      <th>839166</th>\n",
       "      <td>Serbia</td>\n",
       "      <td>2007</td>\n",
       "      <td>100610</td>\n",
       "      <td>Rice in the husk (paddy or rough)</td>\n",
       "      <td>Export</td>\n",
       "      <td>9562</td>\n",
       "      <td>11937.0</td>\n",
       "      <td>Weight in kilograms</td>\n",
       "      <td>11937.0</td>\n",
       "      <td>10_cereals</td>\n",
       "    </tr>\n",
       "    <tr>\n",
       "      <th>839197</th>\n",
       "      <td>Serbia</td>\n",
       "      <td>2006</td>\n",
       "      <td>100610</td>\n",
       "      <td>Rice in the husk (paddy or rough)</td>\n",
       "      <td>Export</td>\n",
       "      <td>5864</td>\n",
       "      <td>8302.0</td>\n",
       "      <td>Weight in kilograms</td>\n",
       "      <td>8302.0</td>\n",
       "      <td>10_cereals</td>\n",
       "    </tr>\n",
       "  </tbody>\n",
       "</table>\n",
       "</div>"
      ],
      "text/plain": [
       "       country_or_area  year comm_code                          commodity  \\\n",
       "838891          Serbia  2016    100610  Rice in the husk (paddy or rough)   \n",
       "838923          Serbia  2015    100610  Rice in the husk (paddy or rough)   \n",
       "838955          Serbia  2014    100610  Rice in the husk (paddy or rough)   \n",
       "838986          Serbia  2013    100610  Rice in the husk (paddy or rough)   \n",
       "839017          Serbia  2012    100610  Rice in the husk (paddy or rough)   \n",
       "839044          Serbia  2011    100610  Rice in the husk (paddy or rough)   \n",
       "839073          Serbia  2010    100610  Rice in the husk (paddy or rough)   \n",
       "839104          Serbia  2009    100610  Rice in the husk (paddy or rough)   \n",
       "839166          Serbia  2007    100610  Rice in the husk (paddy or rough)   \n",
       "839197          Serbia  2006    100610  Rice in the husk (paddy or rough)   \n",
       "\n",
       "          flow  trade_usd  weight_kg        quantity_name  quantity  \\\n",
       "838891  Export       1408     1665.0  Weight in kilograms    1665.0   \n",
       "838923  Export       2265     3280.0  Weight in kilograms    3280.0   \n",
       "838955  Export       3865     2572.0  Weight in kilograms    2572.0   \n",
       "838986  Export       3366     2900.0  Weight in kilograms    2900.0   \n",
       "839017  Export       8440     8935.0  Weight in kilograms    8935.0   \n",
       "839044  Export       6060     4518.0  Weight in kilograms    4518.0   \n",
       "839073  Export      10723    11200.0  Weight in kilograms   11200.0   \n",
       "839104  Export         11       40.0  Weight in kilograms      40.0   \n",
       "839166  Export       9562    11937.0  Weight in kilograms   11937.0   \n",
       "839197  Export       5864     8302.0  Weight in kilograms    8302.0   \n",
       "\n",
       "          category  \n",
       "838891  10_cereals  \n",
       "838923  10_cereals  \n",
       "838955  10_cereals  \n",
       "838986  10_cereals  \n",
       "839017  10_cereals  \n",
       "839044  10_cereals  \n",
       "839073  10_cereals  \n",
       "839104  10_cereals  \n",
       "839166  10_cereals  \n",
       "839197  10_cereals  "
      ]
     },
     "execution_count": 38,
     "metadata": {},
     "output_type": "execute_result"
    }
   ],
   "source": [
    "cereals[cereals['commodity'] == 'Rice in the husk (paddy or rough)']"
   ]
  }
 ],
 "metadata": {
  "kernelspec": {
   "display_name": "Python 3",
   "language": "python",
   "name": "python3"
  },
  "language_info": {
   "codemirror_mode": {
    "name": "ipython",
    "version": 3
   },
   "file_extension": ".py",
   "mimetype": "text/x-python",
   "name": "python",
   "nbconvert_exporter": "python",
   "pygments_lexer": "ipython3",
   "version": "3.6.8"
  }
 },
 "nbformat": 4,
 "nbformat_minor": 2
}
