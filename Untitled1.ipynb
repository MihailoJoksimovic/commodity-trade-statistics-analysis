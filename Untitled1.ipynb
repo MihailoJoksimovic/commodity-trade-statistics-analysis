{
 "cells": [
  {
   "cell_type": "code",
   "execution_count": 1,
   "metadata": {},
   "outputs": [],
   "source": [
    "import pandas as pd\n",
    "\n",
    "%matplotlib inline"
   ]
  },
  {
   "cell_type": "code",
   "execution_count": 2,
   "metadata": {},
   "outputs": [],
   "source": [
    "countries = pd.read_csv(\"https://raw.githubusercontent.com/cs109/2014_data/master/countries.csv\")"
   ]
  },
  {
   "cell_type": "code",
   "execution_count": 3,
   "metadata": {},
   "outputs": [
    {
     "name": "stderr",
     "output_type": "stream",
     "text": [
      "/Users/mihailojoksimovic/miniconda3/lib/python3.6/site-packages/IPython/core/interactiveshell.py:2698: DtypeWarning: Columns (2) have mixed types. Specify dtype option on import or set low_memory=False.\n",
      "  interactivity=interactivity, compiler=compiler, result=result)\n"
     ]
    }
   ],
   "source": [
    "data = pd.read_csv('./commodity_trade_statistics_data.csv')"
   ]
  },
  {
   "cell_type": "markdown",
   "metadata": {},
   "source": [
    "# Data cleansing"
   ]
  },
  {
   "cell_type": "markdown",
   "metadata": {},
   "source": [
    "## Introduce Region column"
   ]
  },
  {
   "cell_type": "code",
   "execution_count": 6,
   "metadata": {},
   "outputs": [],
   "source": [
    "# Lets join the countries dataset so that we have a region as well"
   ]
  },
  {
   "cell_type": "code",
   "execution_count": 8,
   "metadata": {},
   "outputs": [
    {
     "data": {
      "text/html": [
       "<div>\n",
       "<style scoped>\n",
       "    .dataframe tbody tr th:only-of-type {\n",
       "        vertical-align: middle;\n",
       "    }\n",
       "\n",
       "    .dataframe tbody tr th {\n",
       "        vertical-align: top;\n",
       "    }\n",
       "\n",
       "    .dataframe thead th {\n",
       "        text-align: right;\n",
       "    }\n",
       "</style>\n",
       "<table border=\"1\" class=\"dataframe\">\n",
       "  <thead>\n",
       "    <tr style=\"text-align: right;\">\n",
       "      <th></th>\n",
       "      <th>country_or_area</th>\n",
       "      <th>year</th>\n",
       "      <th>comm_code</th>\n",
       "      <th>commodity</th>\n",
       "      <th>flow</th>\n",
       "      <th>trade_usd</th>\n",
       "      <th>weight_kg</th>\n",
       "      <th>quantity_name</th>\n",
       "      <th>quantity</th>\n",
       "      <th>category</th>\n",
       "      <th>Country</th>\n",
       "      <th>Region</th>\n",
       "    </tr>\n",
       "  </thead>\n",
       "  <tbody>\n",
       "    <tr>\n",
       "      <th>0</th>\n",
       "      <td>Afghanistan</td>\n",
       "      <td>2016</td>\n",
       "      <td>10410</td>\n",
       "      <td>Sheep, live</td>\n",
       "      <td>Export</td>\n",
       "      <td>6088</td>\n",
       "      <td>2339.0</td>\n",
       "      <td>Number of items</td>\n",
       "      <td>51.0</td>\n",
       "      <td>01_live_animals</td>\n",
       "      <td>Afghanistan</td>\n",
       "      <td>ASIA</td>\n",
       "    </tr>\n",
       "    <tr>\n",
       "      <th>1</th>\n",
       "      <td>Afghanistan</td>\n",
       "      <td>2016</td>\n",
       "      <td>10420</td>\n",
       "      <td>Goats, live</td>\n",
       "      <td>Export</td>\n",
       "      <td>3958</td>\n",
       "      <td>984.0</td>\n",
       "      <td>Number of items</td>\n",
       "      <td>53.0</td>\n",
       "      <td>01_live_animals</td>\n",
       "      <td>Afghanistan</td>\n",
       "      <td>ASIA</td>\n",
       "    </tr>\n",
       "    <tr>\n",
       "      <th>2</th>\n",
       "      <td>Afghanistan</td>\n",
       "      <td>2008</td>\n",
       "      <td>10210</td>\n",
       "      <td>Bovine animals, live pure-bred breeding</td>\n",
       "      <td>Import</td>\n",
       "      <td>1026804</td>\n",
       "      <td>272.0</td>\n",
       "      <td>Number of items</td>\n",
       "      <td>3769.0</td>\n",
       "      <td>01_live_animals</td>\n",
       "      <td>Afghanistan</td>\n",
       "      <td>ASIA</td>\n",
       "    </tr>\n",
       "    <tr>\n",
       "      <th>3</th>\n",
       "      <td>Albania</td>\n",
       "      <td>2016</td>\n",
       "      <td>10290</td>\n",
       "      <td>Bovine animals, live, except pure-bred breeding</td>\n",
       "      <td>Import</td>\n",
       "      <td>2414533</td>\n",
       "      <td>1114023.0</td>\n",
       "      <td>Number of items</td>\n",
       "      <td>6853.0</td>\n",
       "      <td>01_live_animals</td>\n",
       "      <td>Albania</td>\n",
       "      <td>EUROPE</td>\n",
       "    </tr>\n",
       "    <tr>\n",
       "      <th>4</th>\n",
       "      <td>Albania</td>\n",
       "      <td>2016</td>\n",
       "      <td>10392</td>\n",
       "      <td>Swine, live except pure-bred breeding &gt; 50 kg</td>\n",
       "      <td>Import</td>\n",
       "      <td>14265937</td>\n",
       "      <td>9484953.0</td>\n",
       "      <td>Number of items</td>\n",
       "      <td>96040.0</td>\n",
       "      <td>01_live_animals</td>\n",
       "      <td>Albania</td>\n",
       "      <td>EUROPE</td>\n",
       "    </tr>\n",
       "  </tbody>\n",
       "</table>\n",
       "</div>"
      ],
      "text/plain": [
       "  country_or_area  year comm_code  \\\n",
       "0     Afghanistan  2016     10410   \n",
       "1     Afghanistan  2016     10420   \n",
       "2     Afghanistan  2008     10210   \n",
       "3         Albania  2016     10290   \n",
       "4         Albania  2016     10392   \n",
       "\n",
       "                                         commodity    flow  trade_usd  \\\n",
       "0                                      Sheep, live  Export       6088   \n",
       "1                                      Goats, live  Export       3958   \n",
       "2          Bovine animals, live pure-bred breeding  Import    1026804   \n",
       "3  Bovine animals, live, except pure-bred breeding  Import    2414533   \n",
       "4    Swine, live except pure-bred breeding > 50 kg  Import   14265937   \n",
       "\n",
       "   weight_kg    quantity_name  quantity         category      Country  Region  \n",
       "0     2339.0  Number of items      51.0  01_live_animals  Afghanistan    ASIA  \n",
       "1      984.0  Number of items      53.0  01_live_animals  Afghanistan    ASIA  \n",
       "2      272.0  Number of items    3769.0  01_live_animals  Afghanistan    ASIA  \n",
       "3  1114023.0  Number of items    6853.0  01_live_animals      Albania  EUROPE  \n",
       "4  9484953.0  Number of items   96040.0  01_live_animals      Albania  EUROPE  "
      ]
     },
     "execution_count": 8,
     "metadata": {},
     "output_type": "execute_result"
    }
   ],
   "source": [
    "data.head()"
   ]
  },
  {
   "cell_type": "code",
   "execution_count": 9,
   "metadata": {},
   "outputs": [
    {
     "data": {
      "text/html": [
       "<div>\n",
       "<style scoped>\n",
       "    .dataframe tbody tr th:only-of-type {\n",
       "        vertical-align: middle;\n",
       "    }\n",
       "\n",
       "    .dataframe tbody tr th {\n",
       "        vertical-align: top;\n",
       "    }\n",
       "\n",
       "    .dataframe thead th {\n",
       "        text-align: right;\n",
       "    }\n",
       "</style>\n",
       "<table border=\"1\" class=\"dataframe\">\n",
       "  <thead>\n",
       "    <tr style=\"text-align: right;\">\n",
       "      <th></th>\n",
       "      <th>Country</th>\n",
       "      <th>Region</th>\n",
       "    </tr>\n",
       "  </thead>\n",
       "  <tbody>\n",
       "    <tr>\n",
       "      <th>0</th>\n",
       "      <td>Algeria</td>\n",
       "      <td>AFRICA</td>\n",
       "    </tr>\n",
       "    <tr>\n",
       "      <th>1</th>\n",
       "      <td>Angola</td>\n",
       "      <td>AFRICA</td>\n",
       "    </tr>\n",
       "    <tr>\n",
       "      <th>2</th>\n",
       "      <td>Benin</td>\n",
       "      <td>AFRICA</td>\n",
       "    </tr>\n",
       "    <tr>\n",
       "      <th>3</th>\n",
       "      <td>Botswana</td>\n",
       "      <td>AFRICA</td>\n",
       "    </tr>\n",
       "    <tr>\n",
       "      <th>4</th>\n",
       "      <td>Burkina</td>\n",
       "      <td>AFRICA</td>\n",
       "    </tr>\n",
       "  </tbody>\n",
       "</table>\n",
       "</div>"
      ],
      "text/plain": [
       "    Country  Region\n",
       "0   Algeria  AFRICA\n",
       "1    Angola  AFRICA\n",
       "2     Benin  AFRICA\n",
       "3  Botswana  AFRICA\n",
       "4   Burkina  AFRICA"
      ]
     },
     "execution_count": 9,
     "metadata": {},
     "output_type": "execute_result"
    }
   ],
   "source": [
    "countries.head()"
   ]
  },
  {
   "cell_type": "code",
   "execution_count": 7,
   "metadata": {},
   "outputs": [],
   "source": [
    "data = data.merge(countries, left_on='country_or_area', right_on='Country', how='left')"
   ]
  },
  {
   "cell_type": "code",
   "execution_count": 10,
   "metadata": {},
   "outputs": [
    {
     "data": {
      "text/html": [
       "<div>\n",
       "<style scoped>\n",
       "    .dataframe tbody tr th:only-of-type {\n",
       "        vertical-align: middle;\n",
       "    }\n",
       "\n",
       "    .dataframe tbody tr th {\n",
       "        vertical-align: top;\n",
       "    }\n",
       "\n",
       "    .dataframe thead th {\n",
       "        text-align: right;\n",
       "    }\n",
       "</style>\n",
       "<table border=\"1\" class=\"dataframe\">\n",
       "  <thead>\n",
       "    <tr style=\"text-align: right;\">\n",
       "      <th></th>\n",
       "      <th>country_or_area</th>\n",
       "      <th>year</th>\n",
       "      <th>comm_code</th>\n",
       "      <th>commodity</th>\n",
       "      <th>flow</th>\n",
       "      <th>trade_usd</th>\n",
       "      <th>weight_kg</th>\n",
       "      <th>quantity_name</th>\n",
       "      <th>quantity</th>\n",
       "      <th>category</th>\n",
       "      <th>Country</th>\n",
       "      <th>Region</th>\n",
       "    </tr>\n",
       "  </thead>\n",
       "  <tbody>\n",
       "    <tr>\n",
       "      <th>0</th>\n",
       "      <td>Afghanistan</td>\n",
       "      <td>2016</td>\n",
       "      <td>10410</td>\n",
       "      <td>Sheep, live</td>\n",
       "      <td>Export</td>\n",
       "      <td>6088</td>\n",
       "      <td>2339.0</td>\n",
       "      <td>Number of items</td>\n",
       "      <td>51.0</td>\n",
       "      <td>01_live_animals</td>\n",
       "      <td>Afghanistan</td>\n",
       "      <td>ASIA</td>\n",
       "    </tr>\n",
       "    <tr>\n",
       "      <th>1</th>\n",
       "      <td>Afghanistan</td>\n",
       "      <td>2016</td>\n",
       "      <td>10420</td>\n",
       "      <td>Goats, live</td>\n",
       "      <td>Export</td>\n",
       "      <td>3958</td>\n",
       "      <td>984.0</td>\n",
       "      <td>Number of items</td>\n",
       "      <td>53.0</td>\n",
       "      <td>01_live_animals</td>\n",
       "      <td>Afghanistan</td>\n",
       "      <td>ASIA</td>\n",
       "    </tr>\n",
       "    <tr>\n",
       "      <th>2</th>\n",
       "      <td>Afghanistan</td>\n",
       "      <td>2008</td>\n",
       "      <td>10210</td>\n",
       "      <td>Bovine animals, live pure-bred breeding</td>\n",
       "      <td>Import</td>\n",
       "      <td>1026804</td>\n",
       "      <td>272.0</td>\n",
       "      <td>Number of items</td>\n",
       "      <td>3769.0</td>\n",
       "      <td>01_live_animals</td>\n",
       "      <td>Afghanistan</td>\n",
       "      <td>ASIA</td>\n",
       "    </tr>\n",
       "    <tr>\n",
       "      <th>3</th>\n",
       "      <td>Albania</td>\n",
       "      <td>2016</td>\n",
       "      <td>10290</td>\n",
       "      <td>Bovine animals, live, except pure-bred breeding</td>\n",
       "      <td>Import</td>\n",
       "      <td>2414533</td>\n",
       "      <td>1114023.0</td>\n",
       "      <td>Number of items</td>\n",
       "      <td>6853.0</td>\n",
       "      <td>01_live_animals</td>\n",
       "      <td>Albania</td>\n",
       "      <td>EUROPE</td>\n",
       "    </tr>\n",
       "    <tr>\n",
       "      <th>4</th>\n",
       "      <td>Albania</td>\n",
       "      <td>2016</td>\n",
       "      <td>10392</td>\n",
       "      <td>Swine, live except pure-bred breeding &gt; 50 kg</td>\n",
       "      <td>Import</td>\n",
       "      <td>14265937</td>\n",
       "      <td>9484953.0</td>\n",
       "      <td>Number of items</td>\n",
       "      <td>96040.0</td>\n",
       "      <td>01_live_animals</td>\n",
       "      <td>Albania</td>\n",
       "      <td>EUROPE</td>\n",
       "    </tr>\n",
       "  </tbody>\n",
       "</table>\n",
       "</div>"
      ],
      "text/plain": [
       "  country_or_area  year comm_code  \\\n",
       "0     Afghanistan  2016     10410   \n",
       "1     Afghanistan  2016     10420   \n",
       "2     Afghanistan  2008     10210   \n",
       "3         Albania  2016     10290   \n",
       "4         Albania  2016     10392   \n",
       "\n",
       "                                         commodity    flow  trade_usd  \\\n",
       "0                                      Sheep, live  Export       6088   \n",
       "1                                      Goats, live  Export       3958   \n",
       "2          Bovine animals, live pure-bred breeding  Import    1026804   \n",
       "3  Bovine animals, live, except pure-bred breeding  Import    2414533   \n",
       "4    Swine, live except pure-bred breeding > 50 kg  Import   14265937   \n",
       "\n",
       "   weight_kg    quantity_name  quantity         category      Country  Region  \n",
       "0     2339.0  Number of items      51.0  01_live_animals  Afghanistan    ASIA  \n",
       "1      984.0  Number of items      53.0  01_live_animals  Afghanistan    ASIA  \n",
       "2      272.0  Number of items    3769.0  01_live_animals  Afghanistan    ASIA  \n",
       "3  1114023.0  Number of items    6853.0  01_live_animals      Albania  EUROPE  \n",
       "4  9484953.0  Number of items   96040.0  01_live_animals      Albania  EUROPE  "
      ]
     },
     "execution_count": 10,
     "metadata": {},
     "output_type": "execute_result"
    }
   ],
   "source": [
    "data.head()"
   ]
  },
  {
   "cell_type": "code",
   "execution_count": 11,
   "metadata": {},
   "outputs": [],
   "source": [
    "# Let's drop Country because we don't need it really"
   ]
  },
  {
   "cell_type": "code",
   "execution_count": 12,
   "metadata": {},
   "outputs": [],
   "source": [
    "data.drop(columns=['Country'], inplace=True)"
   ]
  },
  {
   "cell_type": "code",
   "execution_count": 13,
   "metadata": {},
   "outputs": [
    {
     "data": {
      "text/html": [
       "<div>\n",
       "<style scoped>\n",
       "    .dataframe tbody tr th:only-of-type {\n",
       "        vertical-align: middle;\n",
       "    }\n",
       "\n",
       "    .dataframe tbody tr th {\n",
       "        vertical-align: top;\n",
       "    }\n",
       "\n",
       "    .dataframe thead th {\n",
       "        text-align: right;\n",
       "    }\n",
       "</style>\n",
       "<table border=\"1\" class=\"dataframe\">\n",
       "  <thead>\n",
       "    <tr style=\"text-align: right;\">\n",
       "      <th></th>\n",
       "      <th>country_or_area</th>\n",
       "      <th>year</th>\n",
       "      <th>comm_code</th>\n",
       "      <th>commodity</th>\n",
       "      <th>flow</th>\n",
       "      <th>trade_usd</th>\n",
       "      <th>weight_kg</th>\n",
       "      <th>quantity_name</th>\n",
       "      <th>quantity</th>\n",
       "      <th>category</th>\n",
       "      <th>Region</th>\n",
       "    </tr>\n",
       "  </thead>\n",
       "  <tbody>\n",
       "    <tr>\n",
       "      <th>0</th>\n",
       "      <td>Afghanistan</td>\n",
       "      <td>2016</td>\n",
       "      <td>10410</td>\n",
       "      <td>Sheep, live</td>\n",
       "      <td>Export</td>\n",
       "      <td>6088</td>\n",
       "      <td>2339.0</td>\n",
       "      <td>Number of items</td>\n",
       "      <td>51.0</td>\n",
       "      <td>01_live_animals</td>\n",
       "      <td>ASIA</td>\n",
       "    </tr>\n",
       "    <tr>\n",
       "      <th>1</th>\n",
       "      <td>Afghanistan</td>\n",
       "      <td>2016</td>\n",
       "      <td>10420</td>\n",
       "      <td>Goats, live</td>\n",
       "      <td>Export</td>\n",
       "      <td>3958</td>\n",
       "      <td>984.0</td>\n",
       "      <td>Number of items</td>\n",
       "      <td>53.0</td>\n",
       "      <td>01_live_animals</td>\n",
       "      <td>ASIA</td>\n",
       "    </tr>\n",
       "    <tr>\n",
       "      <th>2</th>\n",
       "      <td>Afghanistan</td>\n",
       "      <td>2008</td>\n",
       "      <td>10210</td>\n",
       "      <td>Bovine animals, live pure-bred breeding</td>\n",
       "      <td>Import</td>\n",
       "      <td>1026804</td>\n",
       "      <td>272.0</td>\n",
       "      <td>Number of items</td>\n",
       "      <td>3769.0</td>\n",
       "      <td>01_live_animals</td>\n",
       "      <td>ASIA</td>\n",
       "    </tr>\n",
       "    <tr>\n",
       "      <th>3</th>\n",
       "      <td>Albania</td>\n",
       "      <td>2016</td>\n",
       "      <td>10290</td>\n",
       "      <td>Bovine animals, live, except pure-bred breeding</td>\n",
       "      <td>Import</td>\n",
       "      <td>2414533</td>\n",
       "      <td>1114023.0</td>\n",
       "      <td>Number of items</td>\n",
       "      <td>6853.0</td>\n",
       "      <td>01_live_animals</td>\n",
       "      <td>EUROPE</td>\n",
       "    </tr>\n",
       "    <tr>\n",
       "      <th>4</th>\n",
       "      <td>Albania</td>\n",
       "      <td>2016</td>\n",
       "      <td>10392</td>\n",
       "      <td>Swine, live except pure-bred breeding &gt; 50 kg</td>\n",
       "      <td>Import</td>\n",
       "      <td>14265937</td>\n",
       "      <td>9484953.0</td>\n",
       "      <td>Number of items</td>\n",
       "      <td>96040.0</td>\n",
       "      <td>01_live_animals</td>\n",
       "      <td>EUROPE</td>\n",
       "    </tr>\n",
       "  </tbody>\n",
       "</table>\n",
       "</div>"
      ],
      "text/plain": [
       "  country_or_area  year comm_code  \\\n",
       "0     Afghanistan  2016     10410   \n",
       "1     Afghanistan  2016     10420   \n",
       "2     Afghanistan  2008     10210   \n",
       "3         Albania  2016     10290   \n",
       "4         Albania  2016     10392   \n",
       "\n",
       "                                         commodity    flow  trade_usd  \\\n",
       "0                                      Sheep, live  Export       6088   \n",
       "1                                      Goats, live  Export       3958   \n",
       "2          Bovine animals, live pure-bred breeding  Import    1026804   \n",
       "3  Bovine animals, live, except pure-bred breeding  Import    2414533   \n",
       "4    Swine, live except pure-bred breeding > 50 kg  Import   14265937   \n",
       "\n",
       "   weight_kg    quantity_name  quantity         category  Region  \n",
       "0     2339.0  Number of items      51.0  01_live_animals    ASIA  \n",
       "1      984.0  Number of items      53.0  01_live_animals    ASIA  \n",
       "2      272.0  Number of items    3769.0  01_live_animals    ASIA  \n",
       "3  1114023.0  Number of items    6853.0  01_live_animals  EUROPE  \n",
       "4  9484953.0  Number of items   96040.0  01_live_animals  EUROPE  "
      ]
     },
     "execution_count": 13,
     "metadata": {},
     "output_type": "execute_result"
    }
   ],
   "source": [
    "data.head()"
   ]
  },
  {
   "cell_type": "code",
   "execution_count": 14,
   "metadata": {},
   "outputs": [],
   "source": [
    "# Do we have some countries that weren't processed successfully?"
   ]
  },
  {
   "cell_type": "code",
   "execution_count": 17,
   "metadata": {},
   "outputs": [
    {
     "data": {
      "text/plain": [
       "array(['Anguilla', 'Aruba', 'Belgium-Luxembourg', 'Bermuda',\n",
       "       'Bolivia (Plurinational State of)', 'Bosnia Herzegovina',\n",
       "       'Brunei Darussalam', 'Burkina Faso', 'Cabo Verde',\n",
       "       'Central African Rep.', 'China, Hong Kong SAR', 'China, Macao SAR',\n",
       "       'Cook Isds', \"Côte d'Ivoire\", 'Czech Rep.', 'Dominican Rep.',\n",
       "       'EU-28', 'Faeroe Isds', 'Fmr Fed. Rep. of Germany', 'Fmr Sudan',\n",
       "       'French Guiana', 'French Polynesia', 'FS Micronesia', 'Greenland',\n",
       "       'Guadeloupe', \"Lao People's Dem. Rep.\", 'Martinique', 'Mayotte',\n",
       "       'Montserrat', 'Myanmar', 'Neth. Antilles', 'New Caledonia',\n",
       "       'Other Asia, nes', 'Rep. of Korea', 'Rep. of Moldova', 'Réunion',\n",
       "       'Serbia and Montenegro', 'So. African Customs Union',\n",
       "       'Solomon Isds', 'State of Palestine', 'TFYR of Macedonia',\n",
       "       'Timor-Leste', 'Turks and Caicos Isds', 'United Rep. of Tanzania',\n",
       "       'USA', 'Viet Nam', 'Wallis and Futuna Isds', 'Cayman Isds'], dtype=object)"
      ]
     },
     "execution_count": 17,
     "metadata": {},
     "output_type": "execute_result"
    }
   ],
   "source": [
    "data[data.Region.isnull()]['country_or_area'].unique()"
   ]
  },
  {
   "cell_type": "code",
   "execution_count": 18,
   "metadata": {},
   "outputs": [],
   "source": [
    "# We do ... Let's just fix some of the most important countries. For the rest I don't really care .. :-)"
   ]
  },
  {
   "cell_type": "code",
   "execution_count": 20,
   "metadata": {},
   "outputs": [],
   "source": [
    "data.loc[data.country_or_area == 'Belgium-Luxembourg', 'country_or_area'] = 'Belgium'\n",
    "data.loc[data.country_or_area == 'Bosnia Herzegovina', 'country_or_area'] = 'Bosnia and Herzegovina'\n",
    "data.loc[data.country_or_area == 'China, Hong Kong SAR', 'country_or_area'] = 'China'\n",
    "data.loc[data.country_or_area == 'China, Macao SAR', 'country_or_area'] = 'China'\n",
    "data.loc[data.country_or_area == 'Czech Rep.', 'country_or_area'] = 'Czech Republic'\n",
    "data.loc[data.country_or_area == 'Serbia and Montenegro', 'country_or_area'] = 'Serbia'"
   ]
  },
  {
   "cell_type": "code",
   "execution_count": 21,
   "metadata": {},
   "outputs": [],
   "source": [
    "# Finally, since our data set has only USA as a region, let's just introduce that to our 'Region' list ..."
   ]
  },
  {
   "cell_type": "code",
   "execution_count": 22,
   "metadata": {},
   "outputs": [],
   "source": [
    "data.loc[data.country_or_area == 'USA', 'Region'] = 'USA'"
   ]
  },
  {
   "cell_type": "code",
   "execution_count": 24,
   "metadata": {},
   "outputs": [],
   "source": [
    "# Let's rejoin the data now ..."
   ]
  },
  {
   "cell_type": "code",
   "execution_count": 26,
   "metadata": {},
   "outputs": [],
   "source": [
    "data = data.drop(columns=['Region']).merge(countries, left_on='country_or_area', right_on='Country', how='left')"
   ]
  },
  {
   "cell_type": "code",
   "execution_count": 27,
   "metadata": {},
   "outputs": [
    {
     "data": {
      "text/plain": [
       "array(['Anguilla', 'Aruba', 'Bermuda', 'Bolivia (Plurinational State of)',\n",
       "       'Brunei Darussalam', 'Burkina Faso', 'Cabo Verde',\n",
       "       'Central African Rep.', 'Cook Isds', \"Côte d'Ivoire\",\n",
       "       'Dominican Rep.', 'EU-28', 'Faeroe Isds',\n",
       "       'Fmr Fed. Rep. of Germany', 'Fmr Sudan', 'French Guiana',\n",
       "       'French Polynesia', 'FS Micronesia', 'Greenland', 'Guadeloupe',\n",
       "       \"Lao People's Dem. Rep.\", 'Martinique', 'Mayotte', 'Montserrat',\n",
       "       'Myanmar', 'Neth. Antilles', 'New Caledonia', 'Other Asia, nes',\n",
       "       'Rep. of Korea', 'Rep. of Moldova', 'Réunion',\n",
       "       'So. African Customs Union', 'Solomon Isds', 'State of Palestine',\n",
       "       'TFYR of Macedonia', 'Timor-Leste', 'Turks and Caicos Isds',\n",
       "       'United Rep. of Tanzania', 'USA', 'Viet Nam',\n",
       "       'Wallis and Futuna Isds', 'Cayman Isds'], dtype=object)"
      ]
     },
     "execution_count": 27,
     "metadata": {},
     "output_type": "execute_result"
    }
   ],
   "source": [
    "data[data.Region.isnull()]['country_or_area'].unique()"
   ]
  },
  {
   "cell_type": "markdown",
   "metadata": {},
   "source": [
    "## Introduce commodity1 and commodity2"
   ]
  },
  {
   "cell_type": "code",
   "execution_count": 30,
   "metadata": {},
   "outputs": [],
   "source": [
    "commodities_split = data.commodity.str.split(',', expand=True)\n",
    "commodities_split.rename(columns={ 0: 'commodity1', 1: 'commodity2' }, inplace=True)\n",
    "data = data.join(commodities_split[['commodity1', 'commodity2']])"
   ]
  },
  {
   "cell_type": "code",
   "execution_count": 31,
   "metadata": {},
   "outputs": [
    {
     "data": {
      "text/html": [
       "<div>\n",
       "<style scoped>\n",
       "    .dataframe tbody tr th:only-of-type {\n",
       "        vertical-align: middle;\n",
       "    }\n",
       "\n",
       "    .dataframe tbody tr th {\n",
       "        vertical-align: top;\n",
       "    }\n",
       "\n",
       "    .dataframe thead th {\n",
       "        text-align: right;\n",
       "    }\n",
       "</style>\n",
       "<table border=\"1\" class=\"dataframe\">\n",
       "  <thead>\n",
       "    <tr style=\"text-align: right;\">\n",
       "      <th></th>\n",
       "      <th>country_or_area</th>\n",
       "      <th>year</th>\n",
       "      <th>comm_code</th>\n",
       "      <th>commodity</th>\n",
       "      <th>flow</th>\n",
       "      <th>trade_usd</th>\n",
       "      <th>weight_kg</th>\n",
       "      <th>quantity_name</th>\n",
       "      <th>quantity</th>\n",
       "      <th>category</th>\n",
       "      <th>Country</th>\n",
       "      <th>Region</th>\n",
       "      <th>commodity1</th>\n",
       "      <th>commodity2</th>\n",
       "    </tr>\n",
       "  </thead>\n",
       "  <tbody>\n",
       "    <tr>\n",
       "      <th>0</th>\n",
       "      <td>Afghanistan</td>\n",
       "      <td>2016</td>\n",
       "      <td>10410</td>\n",
       "      <td>Sheep, live</td>\n",
       "      <td>Export</td>\n",
       "      <td>6088</td>\n",
       "      <td>2339.0</td>\n",
       "      <td>Number of items</td>\n",
       "      <td>51.0</td>\n",
       "      <td>01_live_animals</td>\n",
       "      <td>Afghanistan</td>\n",
       "      <td>ASIA</td>\n",
       "      <td>Sheep</td>\n",
       "      <td>live</td>\n",
       "    </tr>\n",
       "    <tr>\n",
       "      <th>1</th>\n",
       "      <td>Afghanistan</td>\n",
       "      <td>2016</td>\n",
       "      <td>10420</td>\n",
       "      <td>Goats, live</td>\n",
       "      <td>Export</td>\n",
       "      <td>3958</td>\n",
       "      <td>984.0</td>\n",
       "      <td>Number of items</td>\n",
       "      <td>53.0</td>\n",
       "      <td>01_live_animals</td>\n",
       "      <td>Afghanistan</td>\n",
       "      <td>ASIA</td>\n",
       "      <td>Goats</td>\n",
       "      <td>live</td>\n",
       "    </tr>\n",
       "    <tr>\n",
       "      <th>2</th>\n",
       "      <td>Afghanistan</td>\n",
       "      <td>2008</td>\n",
       "      <td>10210</td>\n",
       "      <td>Bovine animals, live pure-bred breeding</td>\n",
       "      <td>Import</td>\n",
       "      <td>1026804</td>\n",
       "      <td>272.0</td>\n",
       "      <td>Number of items</td>\n",
       "      <td>3769.0</td>\n",
       "      <td>01_live_animals</td>\n",
       "      <td>Afghanistan</td>\n",
       "      <td>ASIA</td>\n",
       "      <td>Bovine animals</td>\n",
       "      <td>live pure-bred breeding</td>\n",
       "    </tr>\n",
       "  </tbody>\n",
       "</table>\n",
       "</div>"
      ],
      "text/plain": [
       "  country_or_area  year comm_code                                commodity  \\\n",
       "0     Afghanistan  2016     10410                              Sheep, live   \n",
       "1     Afghanistan  2016     10420                              Goats, live   \n",
       "2     Afghanistan  2008     10210  Bovine animals, live pure-bred breeding   \n",
       "\n",
       "     flow  trade_usd  weight_kg    quantity_name  quantity         category  \\\n",
       "0  Export       6088     2339.0  Number of items      51.0  01_live_animals   \n",
       "1  Export       3958      984.0  Number of items      53.0  01_live_animals   \n",
       "2  Import    1026804      272.0  Number of items    3769.0  01_live_animals   \n",
       "\n",
       "       Country Region      commodity1                commodity2  \n",
       "0  Afghanistan   ASIA           Sheep                      live  \n",
       "1  Afghanistan   ASIA           Goats                      live  \n",
       "2  Afghanistan   ASIA  Bovine animals   live pure-bred breeding  "
      ]
     },
     "execution_count": 31,
     "metadata": {},
     "output_type": "execute_result"
    }
   ],
   "source": [
    "data.head(3)"
   ]
  },
  {
   "cell_type": "code",
   "execution_count": null,
   "metadata": {},
   "outputs": [],
   "source": []
  }
 ],
 "metadata": {
  "kernelspec": {
   "display_name": "Python 3",
   "language": "python",
   "name": "python3"
  },
  "language_info": {
   "codemirror_mode": {
    "name": "ipython",
    "version": 3
   },
   "file_extension": ".py",
   "mimetype": "text/x-python",
   "name": "python",
   "nbconvert_exporter": "python",
   "pygments_lexer": "ipython3",
   "version": "3.6.3"
  }
 },
 "nbformat": 4,
 "nbformat_minor": 2
}
