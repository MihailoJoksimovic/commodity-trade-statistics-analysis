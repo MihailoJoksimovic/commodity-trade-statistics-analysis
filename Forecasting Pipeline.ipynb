{
 "cells": [
  {
   "cell_type": "code",
   "execution_count": 69,
   "metadata": {},
   "outputs": [],
   "source": [
    "import pandas as pd\n",
    "import numpy as np\n",
    "from statsmodels.tsa.arima_model import ARMA\n",
    "from statsmodels.tsa.ar_model import AR\n",
    "from statsmodels.tsa.arima_model import ARIMA\n",
    "from statsmodels.tsa.statespace.sarimax import SARIMAX\n",
    "\n",
    "%matplotlib inline\n",
    "\n",
    "LOWEST_YEAR = 1988 # This is the lowest year available in Dataset\n",
    "HIGHEST_YEAR = 2016 # This is the highest year available in Dataset\n",
    "START_YEAR = 2000\n",
    "END_YEAR = 2017 # We're using 2017 because range() functions are exclusive for the last value"
   ]
  },
  {
   "cell_type": "code",
   "execution_count": 70,
   "metadata": {},
   "outputs": [
    {
     "name": "stderr",
     "output_type": "stream",
     "text": [
      "/Users/mihailojoksimovic/miniconda3/lib/python3.6/site-packages/IPython/core/interactiveshell.py:3049: DtypeWarning: Columns (2) have mixed types. Specify dtype option on import or set low_memory=False.\n",
      "  interactivity=interactivity, compiler=compiler, result=result)\n"
     ]
    }
   ],
   "source": [
    "data = pd.read_csv('./commodity_trade_statistics_data.csv')"
   ]
  },
  {
   "cell_type": "code",
   "execution_count": 71,
   "metadata": {},
   "outputs": [],
   "source": [
    "is_export = data['flow'] == 'Export'\n",
    "is_live_animals = data['category'] == '01_live_animals'\n",
    "\n",
    "country_summary_data = data[(data['country_or_area'] == 'USA') & is_export & is_live_animals][['year', 'trade_usd']].groupby('year').sum()"
   ]
  },
  {
   "cell_type": "code",
   "execution_count": 72,
   "metadata": {},
   "outputs": [
    {
     "data": {
      "text/html": [
       "<div>\n",
       "<style scoped>\n",
       "    .dataframe tbody tr th:only-of-type {\n",
       "        vertical-align: middle;\n",
       "    }\n",
       "\n",
       "    .dataframe tbody tr th {\n",
       "        vertical-align: top;\n",
       "    }\n",
       "\n",
       "    .dataframe thead th {\n",
       "        text-align: right;\n",
       "    }\n",
       "</style>\n",
       "<table border=\"1\" class=\"dataframe\">\n",
       "  <thead>\n",
       "    <tr style=\"text-align: right;\">\n",
       "      <th></th>\n",
       "      <th>trade_usd</th>\n",
       "    </tr>\n",
       "    <tr>\n",
       "      <th>year</th>\n",
       "      <th></th>\n",
       "    </tr>\n",
       "  </thead>\n",
       "  <tbody>\n",
       "    <tr>\n",
       "      <th>1991</th>\n",
       "      <td>692654489</td>\n",
       "    </tr>\n",
       "    <tr>\n",
       "      <th>1992</th>\n",
       "      <td>637981181</td>\n",
       "    </tr>\n",
       "    <tr>\n",
       "      <th>1993</th>\n",
       "      <td>522006551</td>\n",
       "    </tr>\n",
       "    <tr>\n",
       "      <th>1994</th>\n",
       "      <td>590751118</td>\n",
       "    </tr>\n",
       "    <tr>\n",
       "      <th>1995</th>\n",
       "      <td>544131807</td>\n",
       "    </tr>\n",
       "  </tbody>\n",
       "</table>\n",
       "</div>"
      ],
      "text/plain": [
       "      trade_usd\n",
       "year           \n",
       "1991  692654489\n",
       "1992  637981181\n",
       "1993  522006551\n",
       "1994  590751118\n",
       "1995  544131807"
      ]
     },
     "execution_count": 72,
     "metadata": {},
     "output_type": "execute_result"
    }
   ],
   "source": [
    "country_summary_data.head(5)"
   ]
  },
  {
   "cell_type": "code",
   "execution_count": 73,
   "metadata": {},
   "outputs": [],
   "source": [
    "country_summary_data.index.sort_values()[0] # First\n",
    "country_summary_data.index.sort_values()[-1] # Last\n",
    "country_summary_data.index.sort_values()[-2:] # Last two\n",
    "country_summary_data.index.sort_values()[:-2] # All but last two\n",
    "\n",
    "all_data = country_summary_data.sort_index()['trade_usd'].astype('float').values\n",
    "train_data = all_data[:-1] # All data excluding last year\n",
    "actual = all_data[-1:] # Only last year"
   ]
  },
  {
   "cell_type": "code",
   "execution_count": 74,
   "metadata": {},
   "outputs": [],
   "source": [
    "model = ARMA(train_data, order=(0, 1))\n",
    "model_fit = model.fit()\n",
    "predicted = model_fit.predict(len(train_data), len(train_data))"
   ]
  },
  {
   "cell_type": "code",
   "execution_count": 75,
   "metadata": {},
   "outputs": [],
   "source": [
    "countries = data[is_export & is_live_animals]['country_or_area'].unique()"
   ]
  },
  {
   "cell_type": "code",
   "execution_count": 76,
   "metadata": {},
   "outputs": [],
   "source": [
    "# Make a dataset where index is countries names and columns will be predictions from different models\n",
    "\n",
    "countries_df = pd.DataFrame(index=countries)"
   ]
  },
  {
   "cell_type": "code",
   "execution_count": 77,
   "metadata": {},
   "outputs": [],
   "source": [
    "# Prediction algorithms\n",
    "\n",
    "prediction_algorithms = {\n",
    "    'autoregression':  AR(train_data),\n",
    "    'arma': ARMA(train_data, order=(0, 1)),\n",
    "    'arima': ARIMA(train_data, order=(1, 1, 1)),\n",
    "    'sarimax': SARIMAX(train_data, order=(1, 1, 1), seasonal_order=(1, 1, 1, 1))\n",
    "}"
   ]
  },
  {
   "cell_type": "code",
   "execution_count": 78,
   "metadata": {},
   "outputs": [
    {
     "name": "stdout",
     "output_type": "stream",
     "text": [
      "Training algorigthm: autoregression\n",
      "Predicted: 740520393.0744236, Actual: 784223079.0, Diff: 43702685.92557645\n",
      "Training algorigthm: arma\n",
      "Predicted: 711851159.9990355, Actual: 784223079.0, Diff: 72371919.00096452\n",
      "Training algorigthm: arima\n",
      "Predicted: 31160910.38336785, Actual: 784223079.0, Diff: 753062168.6166321\n",
      "Training algorigthm: sarimax\n",
      "Predicted: 783464871.6479359, Actual: 784223079.0, Diff: 758207.3520641327\n"
     ]
    },
    {
     "name": "stderr",
     "output_type": "stream",
     "text": [
      "/Users/mihailojoksimovic/miniconda3/lib/python3.6/site-packages/statsmodels/base/model.py:488: HessianInversionWarning: Inverting hessian failed, no bse or cov_params available\n",
      "  'available', HessianInversionWarning)\n"
     ]
    }
   ],
   "source": [
    "for k, model in prediction_algorithms.items():\n",
    "    print(\"Training algorigthm: \" + k)\n",
    "    model_fit = model.fit()\n",
    "    predicted = model_fit.predict(len(train_data), len(train_data))\n",
    "    \n",
    "    diff = actual - predicted\n",
    "    \n",
    "    print(\"Predicted: \" + str(predicted[0]) + \", Actual: \" + str(actual[0]) + \", Diff: \" + str(diff[0]))\n"
   ]
  },
  {
   "cell_type": "markdown",
   "metadata": {},
   "source": [
    "# Try ANN"
   ]
  },
  {
   "cell_type": "code",
   "execution_count": 79,
   "metadata": {},
   "outputs": [],
   "source": [
    "import matplotlib.pyplot as plt\n",
    "from sklearn.preprocessing import MinMaxScaler\n",
    "from sklearn.metrics import r2_score\n",
    "from keras.models import Sequential\n",
    "from keras.layers import Dense\n",
    "from keras.callbacks import EarlyStopping\n",
    "from keras.optimizers import Adam\n",
    "from keras.layers import LSTM"
   ]
  },
  {
   "cell_type": "code",
   "execution_count": 94,
   "metadata": {},
   "outputs": [],
   "source": [
    "TRAIN_SIZE = 20"
   ]
  },
  {
   "cell_type": "code",
   "execution_count": 95,
   "metadata": {},
   "outputs": [
    {
     "data": {
      "text/plain": [
       "26"
      ]
     },
     "execution_count": 95,
     "metadata": {},
     "output_type": "execute_result"
    }
   ],
   "source": [
    "len(all_data)"
   ]
  },
  {
   "cell_type": "code",
   "execution_count": 96,
   "metadata": {},
   "outputs": [],
   "source": [
    "all_data_df = pd.DataFrame(all_data, columns=['X'])"
   ]
  },
  {
   "cell_type": "code",
   "execution_count": 97,
   "metadata": {},
   "outputs": [],
   "source": [
    "train = all_data_df[:TRAIN_SIZE] # First 20 samples for training\n",
    "test = all_data_df[TRAIN_SIZE:] # Last 20 samples for testing"
   ]
  },
  {
   "cell_type": "code",
   "execution_count": 98,
   "metadata": {},
   "outputs": [
    {
     "data": {
      "text/plain": [
       "<matplotlib.axes._subplots.AxesSubplot at 0x111032c18>"
      ]
     },
     "execution_count": 98,
     "metadata": {},
     "output_type": "execute_result"
    },
    {
     "data": {
      "image/png": "[encoded data removed]",
      "text/plain": [
       "<Figure size 432x288 with 1 Axes>"
      ]
     },
     "metadata": {
      "needs_background": "light"
     },
     "output_type": "display_data"
    }
   ],
   "source": [
    "ax = train.plot()\n",
    "test.plot(ax=ax)"
   ]
  },
  {
   "cell_type": "code",
   "execution_count": 99,
   "metadata": {},
   "outputs": [],
   "source": [
    "scaler = MinMaxScaler(feature_range=(-1, 1))\n",
    "\n",
    "train_sc = scaler.fit_transform(train)\n",
    "test_sc = scaler.transform(test)"
   ]
  },
  {
   "cell_type": "code",
   "execution_count": 100,
   "metadata": {},
   "outputs": [],
   "source": [
    "# Prepare training and test data. Idea is that X - 1 predicts Y (i.e previous value predicts next one)\n",
    "X_train = train_sc[:-1]\n",
    "y_train = train_sc[1:]\n",
    "\n",
    "X_test = test_sc[:-1]\n",
    "y_test = test_sc[1:]"
   ]
  },
  {
   "cell_type": "code",
   "execution_count": 101,
   "metadata": {},
   "outputs": [],
   "source": [
    "nn_model = Sequential()\n",
    "nn_model.add(Dense(12, input_dim=1, activation='relu'))\n",
    "nn_model.add(Dense(1))\n",
    "nn_model.compile(loss='mean_squared_error', optimizer='adam')\n",
    "early_stop = EarlyStopping(monitor='loss', patience=2, verbose=1)"
   ]
  },
  {
   "cell_type": "code",
   "execution_count": 102,
   "metadata": {
    "scrolled": true
   },
   "outputs": [
    {
     "name": "stdout",
     "output_type": "stream",
     "text": [
      "Epoch 1/100\n",
      "19/19 [==============================] - 1s 29ms/step - loss: 0.3506\n",
      "Epoch 2/100\n",
      "19/19 [==============================] - 0s 1ms/step - loss: 0.3424\n",
      "Epoch 3/100\n",
      "19/19 [==============================] - 0s 1ms/step - loss: 0.3385\n",
      "Epoch 4/100\n",
      "19/19 [==============================] - 0s 2ms/step - loss: 0.3354\n",
      "Epoch 5/100\n",
      "19/19 [==============================] - 0s 2ms/step - loss: 0.3327\n",
      "Epoch 6/100\n",
      "19/19 [==============================] - 0s 2ms/step - loss: 0.3306\n",
      "Epoch 7/100\n",
      "19/19 [==============================] - 0s 1ms/step - loss: 0.3289\n",
      "Epoch 8/100\n",
      "19/19 [==============================] - 0s 1ms/step - loss: 0.3273\n",
      "Epoch 9/100\n",
      "19/19 [==============================] - 0s 1ms/step - loss: 0.3258\n",
      "Epoch 10/100\n",
      "19/19 [==============================] - 0s 2ms/step - loss: 0.3246\n",
      "Epoch 11/100\n",
      "19/19 [==============================] - 0s 1ms/step - loss: 0.3236\n",
      "Epoch 12/100\n",
      "19/19 [==============================] - 0s 2ms/step - loss: 0.3228\n",
      "Epoch 13/100\n",
      "19/19 [==============================] - 0s 2ms/step - loss: 0.3220\n",
      "Epoch 14/100\n",
      "19/19 [==============================] - 0s 2ms/step - loss: 0.3215\n",
      "Epoch 15/100\n",
      "19/19 [==============================] - 0s 2ms/step - loss: 0.3210\n",
      "Epoch 16/100\n",
      "19/19 [==============================] - 0s 2ms/step - loss: 0.3206\n",
      "Epoch 17/100\n",
      "19/19 [==============================] - 0s 2ms/step - loss: 0.3202\n",
      "Epoch 18/100\n",
      "19/19 [==============================] - ETA: 0s - loss: 0.106 - 0s 2ms/step - loss: 0.3198\n",
      "Epoch 19/100\n",
      "19/19 [==============================] - 0s 2ms/step - loss: 0.3195\n",
      "Epoch 20/100\n",
      "19/19 [==============================] - 0s 1ms/step - loss: 0.3193\n",
      "Epoch 21/100\n",
      "19/19 [==============================] - 0s 1ms/step - loss: 0.3190\n",
      "Epoch 22/100\n",
      "19/19 [==============================] - 0s 1ms/step - loss: 0.3188\n",
      "Epoch 23/100\n",
      "19/19 [==============================] - 0s 2ms/step - loss: 0.3187\n",
      "Epoch 24/100\n",
      "19/19 [==============================] - 0s 2ms/step - loss: 0.3185\n",
      "Epoch 25/100\n",
      "19/19 [==============================] - 0s 1ms/step - loss: 0.3184\n",
      "Epoch 26/100\n",
      "19/19 [==============================] - 0s 1ms/step - loss: 0.3183\n",
      "Epoch 27/100\n",
      "19/19 [==============================] - 0s 2ms/step - loss: 0.3182\n",
      "Epoch 28/100\n",
      "19/19 [==============================] - 0s 2ms/step - loss: 0.3181\n",
      "Epoch 29/100\n",
      "19/19 [==============================] - 0s 1ms/step - loss: 0.3179\n",
      "Epoch 30/100\n",
      "19/19 [==============================] - 0s 1ms/step - loss: 0.3179\n",
      "Epoch 31/100\n",
      "19/19 [==============================] - 0s 1ms/step - loss: 0.3178\n",
      "Epoch 32/100\n",
      "19/19 [==============================] - 0s 2ms/step - loss: 0.3177\n",
      "Epoch 33/100\n",
      "19/19 [==============================] - 0s 1ms/step - loss: 0.3176\n",
      "Epoch 34/100\n",
      "19/19 [==============================] - 0s 1ms/step - loss: 0.3176\n",
      "Epoch 35/100\n",
      "19/19 [==============================] - 0s 1ms/step - loss: 0.3175\n",
      "Epoch 36/100\n",
      "19/19 [==============================] - 0s 1ms/step - loss: 0.3174\n",
      "Epoch 37/100\n",
      "19/19 [==============================] - 0s 1ms/step - loss: 0.3174\n",
      "Epoch 38/100\n",
      "19/19 [==============================] - 0s 2ms/step - loss: 0.3173\n",
      "Epoch 39/100\n",
      "19/19 [==============================] - 0s 1ms/step - loss: 0.3173\n",
      "Epoch 40/100\n",
      "19/19 [==============================] - 0s 1ms/step - loss: 0.3172\n",
      "Epoch 41/100\n",
      "19/19 [==============================] - 0s 2ms/step - loss: 0.3172\n",
      "Epoch 42/100\n",
      "19/19 [==============================] - 0s 2ms/step - loss: 0.3171\n",
      "Epoch 43/100\n",
      "19/19 [==============================] - 0s 2ms/step - loss: 0.3171\n",
      "Epoch 44/100\n",
      "19/19 [==============================] - 0s 1ms/step - loss: 0.3170\n",
      "Epoch 45/100\n",
      "19/19 [==============================] - 0s 1ms/step - loss: 0.3170\n",
      "Epoch 46/100\n",
      "19/19 [==============================] - 0s 1ms/step - loss: 0.3169\n",
      "Epoch 47/100\n",
      "19/19 [==============================] - 0s 2ms/step - loss: 0.3169\n",
      "Epoch 48/100\n",
      "19/19 [==============================] - 0s 2ms/step - loss: 0.3169\n",
      "Epoch 49/100\n",
      "19/19 [==============================] - 0s 2ms/step - loss: 0.3168\n",
      "Epoch 50/100\n",
      "19/19 [==============================] - 0s 2ms/step - loss: 0.3168\n",
      "Epoch 51/100\n",
      "19/19 [==============================] - 0s 1ms/step - loss: 0.3167\n",
      "Epoch 52/100\n",
      "19/19 [==============================] - 0s 2ms/step - loss: 0.3167\n",
      "Epoch 53/100\n",
      "19/19 [==============================] - 0s 1ms/step - loss: 0.3167\n",
      "Epoch 54/100\n",
      "19/19 [==============================] - 0s 1ms/step - loss: 0.3166\n",
      "Epoch 55/100\n",
      "19/19 [==============================] - 0s 1ms/step - loss: 0.3166\n",
      "Epoch 56/100\n",
      "19/19 [==============================] - 0s 1ms/step - loss: 0.3166\n",
      "Epoch 57/100\n",
      "19/19 [==============================] - 0s 1ms/step - loss: 0.3165\n",
      "Epoch 58/100\n",
      "19/19 [==============================] - 0s 1ms/step - loss: 0.3165\n",
      "Epoch 59/100\n",
      "19/19 [==============================] - 0s 1ms/step - loss: 0.3165\n",
      "Epoch 60/100\n",
      "19/19 [==============================] - 0s 2ms/step - loss: 0.3164\n",
      "Epoch 61/100\n",
      "19/19 [==============================] - 0s 1ms/step - loss: 0.3164\n",
      "Epoch 62/100\n",
      "19/19 [==============================] - 0s 1ms/step - loss: 0.3164\n",
      "Epoch 63/100\n",
      "19/19 [==============================] - 0s 1ms/step - loss: 0.3164\n",
      "Epoch 64/100\n",
      "19/19 [==============================] - 0s 1ms/step - loss: 0.3163\n",
      "Epoch 65/100\n",
      "19/19 [==============================] - 0s 1ms/step - loss: 0.3163\n",
      "Epoch 66/100\n",
      "19/19 [==============================] - 0s 1ms/step - loss: 0.3162\n",
      "Epoch 67/100\n",
      "19/19 [==============================] - 0s 1ms/step - loss: 0.3162\n",
      "Epoch 68/100\n",
      "19/19 [==============================] - 0s 1ms/step - loss: 0.3162\n",
      "Epoch 69/100\n",
      "19/19 [==============================] - 0s 1ms/step - loss: 0.3162\n",
      "Epoch 70/100\n",
      "19/19 [==============================] - 0s 1ms/step - loss: 0.3162\n",
      "Epoch 71/100\n",
      "19/19 [==============================] - 0s 1ms/step - loss: 0.3161\n",
      "Epoch 72/100\n",
      "19/19 [==============================] - 0s 1ms/step - loss: 0.3161\n",
      "Epoch 73/100\n",
      "19/19 [==============================] - 0s 1ms/step - loss: 0.3161\n",
      "Epoch 74/100\n",
      "19/19 [==============================] - 0s 1ms/step - loss: 0.3161\n",
      "Epoch 75/100\n",
      "19/19 [==============================] - 0s 1ms/step - loss: 0.3160\n",
      "Epoch 76/100\n",
      "19/19 [==============================] - 0s 2ms/step - loss: 0.3160\n",
      "Epoch 77/100\n",
      "19/19 [==============================] - 0s 1ms/step - loss: 0.3160\n",
      "Epoch 78/100\n",
      "19/19 [==============================] - 0s 1ms/step - loss: 0.3160\n",
      "Epoch 79/100\n",
      "19/19 [==============================] - 0s 1ms/step - loss: 0.3159\n",
      "Epoch 80/100\n",
      "19/19 [==============================] - 0s 1ms/step - loss: 0.3159\n",
      "Epoch 81/100\n",
      "19/19 [==============================] - 0s 1ms/step - loss: 0.3159\n",
      "Epoch 82/100\n",
      "19/19 [==============================] - 0s 1ms/step - loss: 0.3159\n",
      "Epoch 83/100\n",
      "19/19 [==============================] - 0s 1ms/step - loss: 0.3159\n",
      "Epoch 84/100\n",
      "19/19 [==============================] - 0s 1ms/step - loss: 0.3158\n",
      "Epoch 85/100\n",
      "19/19 [==============================] - 0s 1ms/step - loss: 0.3159\n",
      "Epoch 86/100\n",
      "19/19 [==============================] - 0s 1ms/step - loss: 0.3158\n",
      "Epoch 87/100\n",
      "19/19 [==============================] - 0s 1ms/step - loss: 0.3158\n",
      "Epoch 88/100\n",
      "19/19 [==============================] - 0s 1ms/step - loss: 0.3158\n",
      "Epoch 89/100\n",
      "19/19 [==============================] - 0s 1ms/step - loss: 0.3157\n",
      "Epoch 90/100\n",
      "19/19 [==============================] - 0s 1ms/step - loss: 0.3157\n",
      "Epoch 91/100\n",
      "19/19 [==============================] - 0s 1ms/step - loss: 0.3157\n",
      "Epoch 92/100\n",
      "19/19 [==============================] - 0s 1ms/step - loss: 0.3157\n",
      "Epoch 93/100\n",
      "19/19 [==============================] - 0s 1ms/step - loss: 0.3157\n",
      "Epoch 94/100\n",
      "19/19 [==============================] - 0s 1ms/step - loss: 0.3157\n",
      "Epoch 95/100\n",
      "19/19 [==============================] - 0s 1ms/step - loss: 0.3157\n",
      "Epoch 96/100\n",
      "19/19 [==============================] - 0s 1ms/step - loss: 0.3156\n",
      "Epoch 97/100\n",
      "19/19 [==============================] - 0s 1ms/step - loss: 0.3156\n",
      "Epoch 98/100\n",
      "19/19 [==============================] - 0s 1ms/step - loss: 0.3156\n",
      "Epoch 99/100\n",
      "19/19 [==============================] - 0s 1ms/step - loss: 0.3156\n",
      "Epoch 100/100\n",
      "19/19 [==============================] - 0s 1ms/step - loss: 0.3155\n"
     ]
    }
   ],
   "source": [
    "history = nn_model.fit(X_train, y_train, epochs=100, batch_size=1, verbose=1, callbacks=[early_stop], shuffle=False)"
   ]
  },
  {
   "cell_type": "code",
   "execution_count": 103,
   "metadata": {},
   "outputs": [
    {
     "name": "stdout",
     "output_type": "stream",
     "text": [
      "The R2 score on the Train set is:\t0.194\n",
      "The R2 score on the Test set is:\t-0.996\n"
     ]
    }
   ],
   "source": [
    "y_pred_test_nn = nn_model.predict(X_test)\n",
    "y_train_pred_nn = nn_model.predict(X_train)\n",
    "print(\"The R2 score on the Train set is:\\t{:0.3f}\".format(r2_score(y_train, y_train_pred_nn)))\n",
    "print(\"The R2 score on the Test set is:\\t{:0.3f}\".format(r2_score(y_test, y_pred_test_nn)))"
   ]
  },
  {
   "cell_type": "code",
   "execution_count": 104,
   "metadata": {},
   "outputs": [],
   "source": [
    "nn_y_pred_test = nn_model.predict(X_test)"
   ]
  },
  {
   "cell_type": "code",
   "execution_count": 105,
   "metadata": {},
   "outputs": [
    {
     "data": {
      "image/png": "[encoded data removed]",
      "text/plain": [
       "<Figure size 720x432 with 1 Axes>"
      ]
     },
     "metadata": {
      "needs_background": "light"
     },
     "output_type": "display_data"
    }
   ],
   "source": [
    "plt.figure(figsize=(10, 6))\n",
    "plt.plot(y_test, label='True')\n",
    "plt.plot(y_pred_test_nn, label='NN')\n",
    "plt.title(\"NN's Prediction\")\n",
    "plt.xlabel('Observation')\n",
    "plt.ylabel('Adj Close Scaled')\n",
    "plt.legend()\n",
    "plt.show();"
   ]
  },
  {
   "cell_type": "markdown",
   "metadata": {},
   "source": [
    "# Try LSTM"
   ]
  },
  {
   "cell_type": "code",
   "execution_count": 108,
   "metadata": {},
   "outputs": [],
   "source": [
    "train_sc_df = pd.DataFrame(train_sc, columns=['Y'], index=train.index)\n",
    "test_sc_df = pd.DataFrame(test_sc, columns=['Y'], index=test.index)\n"
   ]
  },
  {
   "cell_type": "code",
   "execution_count": 109,
   "metadata": {},
   "outputs": [],
   "source": [
    "for s in range(1,2):\n",
    "    train_sc_df['X_{}'.format(s)] = train_sc_df['Y'].shift(s)\n",
    "    test_sc_df['X_{}'.format(s)] = test_sc_df['Y'].shift(s)"
   ]
  },
  {
   "cell_type": "code",
   "execution_count": 110,
   "metadata": {},
   "outputs": [
    {
     "name": "stderr",
     "output_type": "stream",
     "text": [
      "/Users/mihailojoksimovic/miniconda3/lib/python3.6/site-packages/ipykernel_launcher.py:7: FutureWarning: Method .as_matrix will be removed in a future version. Use .values instead.\n",
      "  import sys\n",
      "/Users/mihailojoksimovic/miniconda3/lib/python3.6/site-packages/ipykernel_launcher.py:8: FutureWarning: Method .as_matrix will be removed in a future version. Use .values instead.\n",
      "  \n",
      "/Users/mihailojoksimovic/miniconda3/lib/python3.6/site-packages/ipykernel_launcher.py:10: FutureWarning: Method .as_matrix will be removed in a future version. Use .values instead.\n",
      "  # Remove the CWD from sys.path while we load stuff.\n",
      "/Users/mihailojoksimovic/miniconda3/lib/python3.6/site-packages/ipykernel_launcher.py:11: FutureWarning: Method .as_matrix will be removed in a future version. Use .values instead.\n",
      "  # This is added back by InteractiveShellApp.init_path()\n"
     ]
    }
   ],
   "source": [
    "X_train = train_sc_df.dropna().drop('Y', axis=1)\n",
    "y_train = train_sc_df.dropna().drop('X_1', axis=1)\n",
    "\n",
    "X_test = test_sc_df.dropna().drop('Y', axis=1)\n",
    "y_test = test_sc_df.dropna().drop('X_1', axis=1)\n",
    "\n",
    "X_train = X_train.as_matrix()\n",
    "y_train = y_train.as_matrix()\n",
    "\n",
    "X_test = X_test.as_matrix()\n",
    "y_test = y_test.as_matrix()\n",
    "\n",
    "X_train_lmse = X_train.reshape(X_train.shape[0], X_train.shape[1], 1)\n",
    "X_test_lmse = X_test.reshape(X_test.shape[0], X_test.shape[1], 1)"
   ]
  },
  {
   "cell_type": "code",
   "execution_count": 112,
   "metadata": {},
   "outputs": [
    {
     "name": "stdout",
     "output_type": "stream",
     "text": [
      "Train shape:  (19, 1, 1)\n",
      "Test shape:  (5, 1, 1)\n"
     ]
    }
   ],
   "source": [
    "print('Train shape: ', X_train_lmse.shape)\n",
    "print('Test shape: ', X_test_lmse.shape)"
   ]
  },
  {
   "cell_type": "code",
   "execution_count": 113,
   "metadata": {},
   "outputs": [
    {
     "name": "stdout",
     "output_type": "stream",
     "text": [
      "Epoch 1/100\n",
      "19/19 [==============================] - 2s 103ms/step - loss: 0.4104\n",
      "Epoch 2/100\n",
      "19/19 [==============================] - 0s 4ms/step - loss: 0.4024\n",
      "Epoch 3/100\n",
      "19/19 [==============================] - 0s 4ms/step - loss: 0.3976\n",
      "Epoch 4/100\n",
      "19/19 [==============================] - 0s 4ms/step - loss: 0.3932\n",
      "Epoch 5/100\n",
      "19/19 [==============================] - 0s 4ms/step - loss: 0.3891\n",
      "Epoch 6/100\n",
      "19/19 [==============================] - 0s 4ms/step - loss: 0.3850\n",
      "Epoch 7/100\n",
      "19/19 [==============================] - 0s 4ms/step - loss: 0.3811\n",
      "Epoch 8/100\n",
      "19/19 [==============================] - 0s 4ms/step - loss: 0.3777\n",
      "Epoch 9/100\n",
      "19/19 [==============================] - 0s 5ms/step - loss: 0.3744\n",
      "Epoch 10/100\n",
      "19/19 [==============================] - 0s 4ms/step - loss: 0.3716\n",
      "Epoch 11/100\n",
      "19/19 [==============================] - 0s 4ms/step - loss: 0.3689\n",
      "Epoch 12/100\n",
      "19/19 [==============================] - 0s 4ms/step - loss: 0.3665\n",
      "Epoch 13/100\n",
      "19/19 [==============================] - 0s 4ms/step - loss: 0.3644\n",
      "Epoch 14/100\n",
      "19/19 [==============================] - 0s 5ms/step - loss: 0.3623\n",
      "Epoch 15/100\n",
      "19/19 [==============================] - 0s 5ms/step - loss: 0.3603\n",
      "Epoch 16/100\n",
      "19/19 [==============================] - 0s 4ms/step - loss: 0.3585\n",
      "Epoch 17/100\n",
      "19/19 [==============================] - 0s 4ms/step - loss: 0.3567\n",
      "Epoch 18/100\n",
      "19/19 [==============================] - 0s 4ms/step - loss: 0.3550\n",
      "Epoch 19/100\n",
      "19/19 [==============================] - 0s 4ms/step - loss: 0.3535\n",
      "Epoch 20/100\n",
      "19/19 [==============================] - 0s 4ms/step - loss: 0.3519\n",
      "Epoch 21/100\n",
      "19/19 [==============================] - 0s 4ms/step - loss: 0.3505\n",
      "Epoch 22/100\n",
      "19/19 [==============================] - 0s 4ms/step - loss: 0.3491\n",
      "Epoch 23/100\n",
      "19/19 [==============================] - 0s 4ms/step - loss: 0.3478\n",
      "Epoch 24/100\n",
      "19/19 [==============================] - 0s 4ms/step - loss: 0.3466\n",
      "Epoch 25/100\n",
      "19/19 [==============================] - 0s 4ms/step - loss: 0.3454\n",
      "Epoch 26/100\n",
      "19/19 [==============================] - 0s 4ms/step - loss: 0.3442\n",
      "Epoch 27/100\n",
      "19/19 [==============================] - 0s 4ms/step - loss: 0.3432\n",
      "Epoch 28/100\n",
      "19/19 [==============================] - 0s 4ms/step - loss: 0.3422\n",
      "Epoch 29/100\n",
      "19/19 [==============================] - 0s 4ms/step - loss: 0.3412\n",
      "Epoch 30/100\n",
      "19/19 [==============================] - 0s 4ms/step - loss: 0.3402\n",
      "Epoch 31/100\n",
      "19/19 [==============================] - 0s 4ms/step - loss: 0.3393\n",
      "Epoch 32/100\n",
      "19/19 [==============================] - 0s 4ms/step - loss: 0.3385\n",
      "Epoch 33/100\n",
      "19/19 [==============================] - 0s 4ms/step - loss: 0.3376\n",
      "Epoch 34/100\n",
      "19/19 [==============================] - 0s 4ms/step - loss: 0.3368\n",
      "Epoch 35/100\n",
      "19/19 [==============================] - 0s 4ms/step - loss: 0.3361\n",
      "Epoch 36/100\n",
      "19/19 [==============================] - 0s 4ms/step - loss: 0.3353\n",
      "Epoch 37/100\n",
      "19/19 [==============================] - 0s 4ms/step - loss: 0.3347\n",
      "Epoch 38/100\n",
      "19/19 [==============================] - 0s 4ms/step - loss: 0.3340\n",
      "Epoch 39/100\n",
      "19/19 [==============================] - 0s 4ms/step - loss: 0.3334\n",
      "Epoch 40/100\n",
      "19/19 [==============================] - 0s 4ms/step - loss: 0.3327\n",
      "Epoch 41/100\n",
      "19/19 [==============================] - 0s 4ms/step - loss: 0.3322\n",
      "Epoch 42/100\n",
      "19/19 [==============================] - 0s 4ms/step - loss: 0.3316\n",
      "Epoch 43/100\n",
      "19/19 [==============================] - 0s 4ms/step - loss: 0.3310\n",
      "Epoch 44/100\n",
      "19/19 [==============================] - 0s 4ms/step - loss: 0.3305\n",
      "Epoch 45/100\n",
      "19/19 [==============================] - 0s 4ms/step - loss: 0.3300\n",
      "Epoch 46/100\n",
      "19/19 [==============================] - 0s 5ms/step - loss: 0.3295\n",
      "Epoch 47/100\n",
      "19/19 [==============================] - 0s 4ms/step - loss: 0.3291\n",
      "Epoch 48/100\n",
      "19/19 [==============================] - 0s 4ms/step - loss: 0.3286\n",
      "Epoch 49/100\n",
      "19/19 [==============================] - 0s 4ms/step - loss: 0.3282\n",
      "Epoch 50/100\n",
      "19/19 [==============================] - 0s 4ms/step - loss: 0.3277\n",
      "Epoch 51/100\n",
      "19/19 [==============================] - 0s 4ms/step - loss: 0.3274\n",
      "Epoch 52/100\n",
      "19/19 [==============================] - 0s 4ms/step - loss: 0.3270\n",
      "Epoch 53/100\n",
      "19/19 [==============================] - 0s 4ms/step - loss: 0.3266\n",
      "Epoch 54/100\n",
      "19/19 [==============================] - 0s 4ms/step - loss: 0.3263\n",
      "Epoch 55/100\n",
      "19/19 [==============================] - 0s 4ms/step - loss: 0.3259\n",
      "Epoch 56/100\n",
      "19/19 [==============================] - 0s 4ms/step - loss: 0.3256\n",
      "Epoch 57/100\n",
      "19/19 [==============================] - 0s 4ms/step - loss: 0.3252\n",
      "Epoch 58/100\n",
      "19/19 [==============================] - 0s 4ms/step - loss: 0.3249\n",
      "Epoch 59/100\n",
      "19/19 [==============================] - 0s 4ms/step - loss: 0.3246\n",
      "Epoch 60/100\n",
      "19/19 [==============================] - 0s 4ms/step - loss: 0.3243\n",
      "Epoch 61/100\n",
      "19/19 [==============================] - 0s 4ms/step - loss: 0.3241\n",
      "Epoch 62/100\n",
      "19/19 [==============================] - 0s 5ms/step - loss: 0.3238\n",
      "Epoch 63/100\n",
      "19/19 [==============================] - 0s 4ms/step - loss: 0.3235\n",
      "Epoch 64/100\n",
      "19/19 [==============================] - 0s 4ms/step - loss: 0.3233\n",
      "Epoch 65/100\n",
      "19/19 [==============================] - 0s 4ms/step - loss: 0.3231\n",
      "Epoch 66/100\n",
      "19/19 [==============================] - 0s 4ms/step - loss: 0.3228\n",
      "Epoch 67/100\n",
      "19/19 [==============================] - 0s 4ms/step - loss: 0.3226\n",
      "Epoch 68/100\n",
      "19/19 [==============================] - 0s 4ms/step - loss: 0.3224\n",
      "Epoch 69/100\n",
      "19/19 [==============================] - 0s 4ms/step - loss: 0.3222\n",
      "Epoch 70/100\n",
      "19/19 [==============================] - 0s 4ms/step - loss: 0.3219\n",
      "Epoch 71/100\n",
      "19/19 [==============================] - 0s 4ms/step - loss: 0.3217\n",
      "Epoch 72/100\n",
      "19/19 [==============================] - 0s 4ms/step - loss: 0.3216\n",
      "Epoch 73/100\n",
      "19/19 [==============================] - 0s 4ms/step - loss: 0.3214\n",
      "Epoch 74/100\n",
      "19/19 [==============================] - 0s 4ms/step - loss: 0.3212\n",
      "Epoch 75/100\n",
      "19/19 [==============================] - 0s 4ms/step - loss: 0.3210\n",
      "Epoch 76/100\n",
      "19/19 [==============================] - 0s 4ms/step - loss: 0.3208\n",
      "Epoch 77/100\n",
      "19/19 [==============================] - 0s 4ms/step - loss: 0.3207\n",
      "Epoch 78/100\n",
      "19/19 [==============================] - 0s 4ms/step - loss: 0.3205\n",
      "Epoch 79/100\n",
      "19/19 [==============================] - 0s 4ms/step - loss: 0.3204\n",
      "Epoch 80/100\n",
      "19/19 [==============================] - 0s 4ms/step - loss: 0.3202\n",
      "Epoch 81/100\n",
      "19/19 [==============================] - 0s 4ms/step - loss: 0.3201\n",
      "Epoch 82/100\n",
      "19/19 [==============================] - 0s 4ms/step - loss: 0.3199\n",
      "Epoch 83/100\n",
      "19/19 [==============================] - 0s 4ms/step - loss: 0.3198\n",
      "Epoch 84/100\n",
      "19/19 [==============================] - 0s 4ms/step - loss: 0.3197\n",
      "Epoch 85/100\n",
      "19/19 [==============================] - 0s 4ms/step - loss: 0.3195\n",
      "Epoch 86/100\n",
      "19/19 [==============================] - 0s 4ms/step - loss: 0.3194\n",
      "Epoch 87/100\n",
      "19/19 [==============================] - 0s 4ms/step - loss: 0.3193\n",
      "Epoch 88/100\n",
      "19/19 [==============================] - 0s 4ms/step - loss: 0.3192\n",
      "Epoch 89/100\n",
      "19/19 [==============================] - 0s 4ms/step - loss: 0.3191\n",
      "Epoch 90/100\n",
      "19/19 [==============================] - 0s 4ms/step - loss: 0.3189\n",
      "Epoch 91/100\n",
      "19/19 [==============================] - 0s 4ms/step - loss: 0.3188\n",
      "Epoch 92/100\n",
      "19/19 [==============================] - 0s 4ms/step - loss: 0.3187\n",
      "Epoch 93/100\n",
      "19/19 [==============================] - 0s 4ms/step - loss: 0.3186\n",
      "Epoch 94/100\n",
      "19/19 [==============================] - 0s 4ms/step - loss: 0.3185\n",
      "Epoch 95/100\n",
      "19/19 [==============================] - 0s 5ms/step - loss: 0.3184\n",
      "Epoch 96/100\n",
      "19/19 [==============================] - 0s 4ms/step - loss: 0.3183\n",
      "Epoch 97/100\n",
      "19/19 [==============================] - 0s 4ms/step - loss: 0.3183\n",
      "Epoch 98/100\n",
      "19/19 [==============================] - 0s 5ms/step - loss: 0.3182\n",
      "Epoch 99/100\n",
      "19/19 [==============================] - 0s 5ms/step - loss: 0.3181\n",
      "Epoch 100/100\n",
      "19/19 [==============================] - 0s 4ms/step - loss: 0.3180\n"
     ]
    }
   ],
   "source": [
    "lstm_model = Sequential()\n",
    "lstm_model.add(LSTM(7, input_shape=(1, X_train_lmse.shape[1]), activation='relu', kernel_initializer='lecun_uniform', return_sequences=False))\n",
    "lstm_model.add(Dense(1))\n",
    "lstm_model.compile(loss='mean_squared_error', optimizer='adam')\n",
    "early_stop = EarlyStopping(monitor='loss', patience=2, verbose=1)\n",
    "history_lstm_model = lstm_model.fit(X_train_lmse, y_train, epochs=100, batch_size=1, verbose=1, shuffle=False, callbacks=[early_stop])"
   ]
  },
  {
   "cell_type": "code",
   "execution_count": 114,
   "metadata": {},
   "outputs": [
    {
     "name": "stdout",
     "output_type": "stream",
     "text": [
      "The R2 score on the Train set is:\t0.187\n",
      "The R2 score on the Test set is:\t-1.759\n"
     ]
    }
   ],
   "source": [
    "y_pred_test_lstm = lstm_model.predict(X_test_lmse)\n",
    "y_train_pred_lstm = lstm_model.predict(X_train_lmse)\n",
    "print(\"The R2 score on the Train set is:\\t{:0.3f}\".format(r2_score(y_train, y_train_pred_lstm)))\n",
    "print(\"The R2 score on the Test set is:\\t{:0.3f}\".format(r2_score(y_test, y_pred_test_lstm)))"
   ]
  },
  {
   "cell_type": "code",
   "execution_count": 115,
   "metadata": {},
   "outputs": [
    {
     "name": "stdout",
     "output_type": "stream",
     "text": [
      "5/5 [==============================] - 0s 30ms/step\n",
      "5/5 [==============================] - 0s 66ms/step\n",
      "NN: 1.405141\n",
      "LSTM: 1.942278\n"
     ]
    }
   ],
   "source": [
    "nn_test_mse = nn_model.evaluate(X_test, y_test, batch_size=1)\n",
    "lstm_test_mse = lstm_model.evaluate(X_test_lmse, y_test, batch_size=1)\n",
    "print('NN: %f'%nn_test_mse)\n",
    "print('LSTM: %f'%lstm_test_mse)"
   ]
  },
  {
   "cell_type": "code",
   "execution_count": 116,
   "metadata": {},
   "outputs": [],
   "source": [
    "lstm_y_pred_test = lstm_model.predict(X_test_lmse)"
   ]
  },
  {
   "cell_type": "code",
   "execution_count": 117,
   "metadata": {},
   "outputs": [
    {
     "data": {
      "image/png": "[encoded data removed]",
      "text/plain": [
       "<Figure size 720x432 with 1 Axes>"
      ]
     },
     "metadata": {
      "needs_background": "light"
     },
     "output_type": "display_data"
    }
   ],
   "source": [
    "plt.figure(figsize=(10, 6))\n",
    "plt.plot(y_test, label='True')\n",
    "plt.plot(y_pred_test_lstm, label='LSTM')\n",
    "plt.title(\"LSTM's Prediction\")\n",
    "plt.xlabel('Observation')\n",
    "plt.ylabel('Adj Close scaled')\n",
    "plt.legend()\n",
    "plt.show();"
   ]
  },
  {
   "cell_type": "code",
   "execution_count": null,
   "metadata": {},
   "outputs": [],
   "source": []
  }
 ],
 "metadata": {
  "kernelspec": {
   "display_name": "Python 3",
   "language": "python",
   "name": "python3"
  },
  "language_info": {
   "codemirror_mode": {
    "name": "ipython",
    "version": 3
   },
   "file_extension": ".py",
   "mimetype": "text/x-python",
   "name": "python",
   "nbconvert_exporter": "python",
   "pygments_lexer": "ipython3",
   "version": "3.6.8"
  }
 },
 "nbformat": 4,
 "nbformat_minor": 2
}
