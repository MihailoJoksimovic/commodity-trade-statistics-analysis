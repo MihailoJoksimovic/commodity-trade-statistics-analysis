{
 "cells": [
  {
   "cell_type": "code",
   "execution_count": 1,
   "metadata": {},
   "outputs": [],
   "source": [
    "import pandas as pd\n",
    "import seaborn as sns\n",
    "import numpy as np\n",
    "from sklearn.model_selection import train_test_split\n",
    "from sklearn.cluster import KMeans\n",
    "from sklearn.cluster import DBSCAN\n",
    "from sklearn import preprocessing\n",
    "from collections import defaultdict\n",
    "\n",
    "\n",
    "%matplotlib inline"
   ]
  },
  {
   "cell_type": "code",
   "execution_count": 2,
   "metadata": {},
   "outputs": [
    {
     "name": "stderr",
     "output_type": "stream",
     "text": [
      "/Users/mihailojoksimovic/miniconda3/lib/python3.6/site-packages/IPython/core/interactiveshell.py:2698: DtypeWarning: Columns (2) have mixed types. Specify dtype option on import or set low_memory=False.\n",
      "  interactivity=interactivity, compiler=compiler, result=result)\n"
     ]
    }
   ],
   "source": [
    "data = pd.read_csv('./commodity_trade_statistics_data.csv')\n",
    "countries = pd.read_csv(\"https://raw.githubusercontent.com/cs109/2014_data/master/countries.csv\")\n",
    "\n",
    "data.loc[data.country_or_area == 'Belgium-Luxembourg', 'country_or_area'] = 'Belgium'\n",
    "data.loc[data.country_or_area == 'Bosnia Herzegovina', 'country_or_area'] = 'Bosnia and Herzegovina'\n",
    "data.loc[data.country_or_area == 'China, Hong Kong SAR', 'country_or_area'] = 'China'\n",
    "data.loc[data.country_or_area == 'China, Macao SAR', 'country_or_area'] = 'China'\n",
    "data.loc[data.country_or_area == 'Czech Rep.', 'country_or_area'] = 'Czech Republic'\n",
    "data.loc[data.country_or_area == 'Serbia and Montenegro', 'country_or_area'] = 'Serbia'\n",
    "data.loc[data.country_or_area == 'USA', 'Region'] = 'USA'\n",
    "\n",
    "data = data.merge(countries, left_on='country_or_area', right_on='Country', how='left')\n",
    "\n",
    "europe = data[data['Region_y'] == 'EUROPE']"
   ]
  },
  {
   "cell_type": "code",
   "execution_count": 3,
   "metadata": {},
   "outputs": [
    {
     "data": {
      "text/html": [
       "<div>\n",
       "<style scoped>\n",
       "    .dataframe tbody tr th:only-of-type {\n",
       "        vertical-align: middle;\n",
       "    }\n",
       "\n",
       "    .dataframe tbody tr th {\n",
       "        vertical-align: top;\n",
       "    }\n",
       "\n",
       "    .dataframe thead th {\n",
       "        text-align: right;\n",
       "    }\n",
       "</style>\n",
       "<table border=\"1\" class=\"dataframe\">\n",
       "  <thead>\n",
       "    <tr style=\"text-align: right;\">\n",
       "      <th></th>\n",
       "      <th>country_or_area</th>\n",
       "      <th>year</th>\n",
       "      <th>comm_code</th>\n",
       "      <th>commodity</th>\n",
       "      <th>flow</th>\n",
       "      <th>trade_usd</th>\n",
       "      <th>weight_kg</th>\n",
       "      <th>quantity_name</th>\n",
       "      <th>quantity</th>\n",
       "      <th>category</th>\n",
       "      <th>Region_x</th>\n",
       "      <th>Country</th>\n",
       "      <th>Region_y</th>\n",
       "    </tr>\n",
       "  </thead>\n",
       "  <tbody>\n",
       "    <tr>\n",
       "      <th>0</th>\n",
       "      <td>Afghanistan</td>\n",
       "      <td>2016</td>\n",
       "      <td>10410</td>\n",
       "      <td>Sheep, live</td>\n",
       "      <td>Export</td>\n",
       "      <td>6088</td>\n",
       "      <td>2339.0</td>\n",
       "      <td>Number of items</td>\n",
       "      <td>51.0</td>\n",
       "      <td>01_live_animals</td>\n",
       "      <td>NaN</td>\n",
       "      <td>Afghanistan</td>\n",
       "      <td>ASIA</td>\n",
       "    </tr>\n",
       "    <tr>\n",
       "      <th>1</th>\n",
       "      <td>Afghanistan</td>\n",
       "      <td>2016</td>\n",
       "      <td>10420</td>\n",
       "      <td>Goats, live</td>\n",
       "      <td>Export</td>\n",
       "      <td>3958</td>\n",
       "      <td>984.0</td>\n",
       "      <td>Number of items</td>\n",
       "      <td>53.0</td>\n",
       "      <td>01_live_animals</td>\n",
       "      <td>NaN</td>\n",
       "      <td>Afghanistan</td>\n",
       "      <td>ASIA</td>\n",
       "    </tr>\n",
       "    <tr>\n",
       "      <th>2</th>\n",
       "      <td>Afghanistan</td>\n",
       "      <td>2008</td>\n",
       "      <td>10210</td>\n",
       "      <td>Bovine animals, live pure-bred breeding</td>\n",
       "      <td>Import</td>\n",
       "      <td>1026804</td>\n",
       "      <td>272.0</td>\n",
       "      <td>Number of items</td>\n",
       "      <td>3769.0</td>\n",
       "      <td>01_live_animals</td>\n",
       "      <td>NaN</td>\n",
       "      <td>Afghanistan</td>\n",
       "      <td>ASIA</td>\n",
       "    </tr>\n",
       "    <tr>\n",
       "      <th>3</th>\n",
       "      <td>Albania</td>\n",
       "      <td>2016</td>\n",
       "      <td>10290</td>\n",
       "      <td>Bovine animals, live, except pure-bred breeding</td>\n",
       "      <td>Import</td>\n",
       "      <td>2414533</td>\n",
       "      <td>1114023.0</td>\n",
       "      <td>Number of items</td>\n",
       "      <td>6853.0</td>\n",
       "      <td>01_live_animals</td>\n",
       "      <td>NaN</td>\n",
       "      <td>Albania</td>\n",
       "      <td>EUROPE</td>\n",
       "    </tr>\n",
       "    <tr>\n",
       "      <th>4</th>\n",
       "      <td>Albania</td>\n",
       "      <td>2016</td>\n",
       "      <td>10392</td>\n",
       "      <td>Swine, live except pure-bred breeding &gt; 50 kg</td>\n",
       "      <td>Import</td>\n",
       "      <td>14265937</td>\n",
       "      <td>9484953.0</td>\n",
       "      <td>Number of items</td>\n",
       "      <td>96040.0</td>\n",
       "      <td>01_live_animals</td>\n",
       "      <td>NaN</td>\n",
       "      <td>Albania</td>\n",
       "      <td>EUROPE</td>\n",
       "    </tr>\n",
       "  </tbody>\n",
       "</table>\n",
       "</div>"
      ],
      "text/plain": [
       "  country_or_area  year comm_code  \\\n",
       "0     Afghanistan  2016     10410   \n",
       "1     Afghanistan  2016     10420   \n",
       "2     Afghanistan  2008     10210   \n",
       "3         Albania  2016     10290   \n",
       "4         Albania  2016     10392   \n",
       "\n",
       "                                         commodity    flow  trade_usd  \\\n",
       "0                                      Sheep, live  Export       6088   \n",
       "1                                      Goats, live  Export       3958   \n",
       "2          Bovine animals, live pure-bred breeding  Import    1026804   \n",
       "3  Bovine animals, live, except pure-bred breeding  Import    2414533   \n",
       "4    Swine, live except pure-bred breeding > 50 kg  Import   14265937   \n",
       "\n",
       "   weight_kg    quantity_name  quantity         category Region_x  \\\n",
       "0     2339.0  Number of items      51.0  01_live_animals      NaN   \n",
       "1      984.0  Number of items      53.0  01_live_animals      NaN   \n",
       "2      272.0  Number of items    3769.0  01_live_animals      NaN   \n",
       "3  1114023.0  Number of items    6853.0  01_live_animals      NaN   \n",
       "4  9484953.0  Number of items   96040.0  01_live_animals      NaN   \n",
       "\n",
       "       Country Region_y  \n",
       "0  Afghanistan     ASIA  \n",
       "1  Afghanistan     ASIA  \n",
       "2  Afghanistan     ASIA  \n",
       "3      Albania   EUROPE  \n",
       "4      Albania   EUROPE  "
      ]
     },
     "execution_count": 3,
     "metadata": {},
     "output_type": "execute_result"
    }
   ],
   "source": [
    "data.head()"
   ]
  },
  {
   "cell_type": "code",
   "execution_count": 5,
   "metadata": {},
   "outputs": [],
   "source": [
    "features = ['year','category', 'trade_usd']"
   ]
  },
  {
   "cell_type": "code",
   "execution_count": 19,
   "metadata": {},
   "outputs": [],
   "source": [
    "europe_clean = europe[(europe['flow'] == 'Import') & (europe['year'] >= 2015)][['country_or_area'] + features]"
   ]
  },
  {
   "cell_type": "code",
   "execution_count": 20,
   "metadata": {},
   "outputs": [],
   "source": [
    "europe_clean = europe_clean.dropna()"
   ]
  },
  {
   "cell_type": "code",
   "execution_count": 21,
   "metadata": {},
   "outputs": [
    {
     "data": {
      "text/plain": [
       "(117860, 4)"
      ]
     },
     "execution_count": 21,
     "metadata": {},
     "output_type": "execute_result"
    }
   ],
   "source": [
    "europe_clean.shape"
   ]
  },
  {
   "cell_type": "code",
   "execution_count": 10,
   "metadata": {},
   "outputs": [],
   "source": [
    "d = defaultdict(preprocessing.LabelEncoder)"
   ]
  },
  {
   "cell_type": "code",
   "execution_count": 11,
   "metadata": {},
   "outputs": [],
   "source": [
    "X = europe_clean.drop('country_or_area', axis=1)"
   ]
  },
  {
   "cell_type": "code",
   "execution_count": 22,
   "metadata": {},
   "outputs": [
    {
     "data": {
      "text/html": [
       "<div>\n",
       "<style scoped>\n",
       "    .dataframe tbody tr th:only-of-type {\n",
       "        vertical-align: middle;\n",
       "    }\n",
       "\n",
       "    .dataframe tbody tr th {\n",
       "        vertical-align: top;\n",
       "    }\n",
       "\n",
       "    .dataframe thead th {\n",
       "        text-align: right;\n",
       "    }\n",
       "</style>\n",
       "<table border=\"1\" class=\"dataframe\">\n",
       "  <thead>\n",
       "    <tr style=\"text-align: right;\">\n",
       "      <th></th>\n",
       "      <th>country_or_area</th>\n",
       "      <th>year</th>\n",
       "      <th>category</th>\n",
       "      <th>trade_usd</th>\n",
       "    </tr>\n",
       "  </thead>\n",
       "  <tbody>\n",
       "    <tr>\n",
       "      <th>3</th>\n",
       "      <td>Albania</td>\n",
       "      <td>2016</td>\n",
       "      <td>01_live_animals</td>\n",
       "      <td>2414533</td>\n",
       "    </tr>\n",
       "    <tr>\n",
       "      <th>4</th>\n",
       "      <td>Albania</td>\n",
       "      <td>2016</td>\n",
       "      <td>01_live_animals</td>\n",
       "      <td>14265937</td>\n",
       "    </tr>\n",
       "    <tr>\n",
       "      <th>5</th>\n",
       "      <td>Albania</td>\n",
       "      <td>2016</td>\n",
       "      <td>01_live_animals</td>\n",
       "      <td>2671732</td>\n",
       "    </tr>\n",
       "    <tr>\n",
       "      <th>7</th>\n",
       "      <td>Albania</td>\n",
       "      <td>2016</td>\n",
       "      <td>01_live_animals</td>\n",
       "      <td>26485</td>\n",
       "    </tr>\n",
       "    <tr>\n",
       "      <th>8</th>\n",
       "      <td>Albania</td>\n",
       "      <td>2016</td>\n",
       "      <td>01_live_animals</td>\n",
       "      <td>2421513</td>\n",
       "    </tr>\n",
       "  </tbody>\n",
       "</table>\n",
       "</div>"
      ],
      "text/plain": [
       "  country_or_area  year         category  trade_usd\n",
       "3         Albania  2016  01_live_animals    2414533\n",
       "4         Albania  2016  01_live_animals   14265937\n",
       "5         Albania  2016  01_live_animals    2671732\n",
       "7         Albania  2016  01_live_animals      26485\n",
       "8         Albania  2016  01_live_animals    2421513"
      ]
     },
     "execution_count": 22,
     "metadata": {},
     "output_type": "execute_result"
    }
   ],
   "source": [
    "europe_clean.head()"
   ]
  },
  {
   "cell_type": "code",
   "execution_count": 12,
   "metadata": {},
   "outputs": [
    {
     "data": {
      "text/html": [
       "<div>\n",
       "<style scoped>\n",
       "    .dataframe tbody tr th:only-of-type {\n",
       "        vertical-align: middle;\n",
       "    }\n",
       "\n",
       "    .dataframe tbody tr th {\n",
       "        vertical-align: top;\n",
       "    }\n",
       "\n",
       "    .dataframe thead th {\n",
       "        text-align: right;\n",
       "    }\n",
       "</style>\n",
       "<table border=\"1\" class=\"dataframe\">\n",
       "  <thead>\n",
       "    <tr style=\"text-align: right;\">\n",
       "      <th></th>\n",
       "      <th>year</th>\n",
       "      <th>category</th>\n",
       "      <th>trade_usd</th>\n",
       "    </tr>\n",
       "  </thead>\n",
       "  <tbody>\n",
       "    <tr>\n",
       "      <th>3</th>\n",
       "      <td>2016</td>\n",
       "      <td>01_live_animals</td>\n",
       "      <td>2414533</td>\n",
       "    </tr>\n",
       "    <tr>\n",
       "      <th>4</th>\n",
       "      <td>2016</td>\n",
       "      <td>01_live_animals</td>\n",
       "      <td>14265937</td>\n",
       "    </tr>\n",
       "    <tr>\n",
       "      <th>5</th>\n",
       "      <td>2016</td>\n",
       "      <td>01_live_animals</td>\n",
       "      <td>2671732</td>\n",
       "    </tr>\n",
       "    <tr>\n",
       "      <th>7</th>\n",
       "      <td>2016</td>\n",
       "      <td>01_live_animals</td>\n",
       "      <td>26485</td>\n",
       "    </tr>\n",
       "    <tr>\n",
       "      <th>8</th>\n",
       "      <td>2016</td>\n",
       "      <td>01_live_animals</td>\n",
       "      <td>2421513</td>\n",
       "    </tr>\n",
       "  </tbody>\n",
       "</table>\n",
       "</div>"
      ],
      "text/plain": [
       "   year         category  trade_usd\n",
       "3  2016  01_live_animals    2414533\n",
       "4  2016  01_live_animals   14265937\n",
       "5  2016  01_live_animals    2671732\n",
       "7  2016  01_live_animals      26485\n",
       "8  2016  01_live_animals    2421513"
      ]
     },
     "execution_count": 12,
     "metadata": {},
     "output_type": "execute_result"
    }
   ],
   "source": [
    "X.head()"
   ]
  },
  {
   "cell_type": "code",
   "execution_count": 13,
   "metadata": {},
   "outputs": [
    {
     "data": {
      "text/html": [
       "<div>\n",
       "<style scoped>\n",
       "    .dataframe tbody tr th:only-of-type {\n",
       "        vertical-align: middle;\n",
       "    }\n",
       "\n",
       "    .dataframe tbody tr th {\n",
       "        vertical-align: top;\n",
       "    }\n",
       "\n",
       "    .dataframe thead th {\n",
       "        text-align: right;\n",
       "    }\n",
       "</style>\n",
       "<table border=\"1\" class=\"dataframe\">\n",
       "  <thead>\n",
       "    <tr style=\"text-align: right;\">\n",
       "      <th></th>\n",
       "      <th>country_or_area</th>\n",
       "      <th>year</th>\n",
       "      <th>category</th>\n",
       "      <th>trade_usd</th>\n",
       "    </tr>\n",
       "  </thead>\n",
       "  <tbody>\n",
       "    <tr>\n",
       "      <th>3</th>\n",
       "      <td>Albania</td>\n",
       "      <td>2016</td>\n",
       "      <td>01_live_animals</td>\n",
       "      <td>2414533</td>\n",
       "    </tr>\n",
       "    <tr>\n",
       "      <th>4</th>\n",
       "      <td>Albania</td>\n",
       "      <td>2016</td>\n",
       "      <td>01_live_animals</td>\n",
       "      <td>14265937</td>\n",
       "    </tr>\n",
       "    <tr>\n",
       "      <th>5</th>\n",
       "      <td>Albania</td>\n",
       "      <td>2016</td>\n",
       "      <td>01_live_animals</td>\n",
       "      <td>2671732</td>\n",
       "    </tr>\n",
       "    <tr>\n",
       "      <th>7</th>\n",
       "      <td>Albania</td>\n",
       "      <td>2016</td>\n",
       "      <td>01_live_animals</td>\n",
       "      <td>26485</td>\n",
       "    </tr>\n",
       "    <tr>\n",
       "      <th>8</th>\n",
       "      <td>Albania</td>\n",
       "      <td>2016</td>\n",
       "      <td>01_live_animals</td>\n",
       "      <td>2421513</td>\n",
       "    </tr>\n",
       "  </tbody>\n",
       "</table>\n",
       "</div>"
      ],
      "text/plain": [
       "  country_or_area  year         category  trade_usd\n",
       "3         Albania  2016  01_live_animals    2414533\n",
       "4         Albania  2016  01_live_animals   14265937\n",
       "5         Albania  2016  01_live_animals    2671732\n",
       "7         Albania  2016  01_live_animals      26485\n",
       "8         Albania  2016  01_live_animals    2421513"
      ]
     },
     "execution_count": 13,
     "metadata": {},
     "output_type": "execute_result"
    }
   ],
   "source": [
    "europe_clean.head()"
   ]
  },
  {
   "cell_type": "code",
   "execution_count": 14,
   "metadata": {
    "scrolled": true
   },
   "outputs": [
    {
     "name": "stderr",
     "output_type": "stream",
     "text": [
      "/Users/mihailojoksimovic/miniconda3/lib/python3.6/site-packages/ipykernel_launcher.py:1: FutureWarning: reshape is deprecated and will raise in a subsequent release. Please use .values.reshape(...) instead\n",
      "  \"\"\"Entry point for launching an IPython kernel.\n",
      "/Users/mihailojoksimovic/miniconda3/lib/python3.6/site-packages/sklearn/utils/validation.py:475: DataConversionWarning: Data with input dtype int64 was converted to float64 by StandardScaler.\n",
      "  warnings.warn(msg, DataConversionWarning)\n",
      "/Users/mihailojoksimovic/miniconda3/lib/python3.6/site-packages/ipykernel_launcher.py:2: FutureWarning: reshape is deprecated and will raise in a subsequent release. Please use .values.reshape(...) instead\n",
      "  \n",
      "/Users/mihailojoksimovic/miniconda3/lib/python3.6/site-packages/ipykernel_launcher.py:3: FutureWarning: reshape is deprecated and will raise in a subsequent release. Please use .values.reshape(...) instead\n",
      "  This is separate from the ipykernel package so we can avoid doing imports until\n",
      "/Users/mihailojoksimovic/miniconda3/lib/python3.6/site-packages/sklearn/preprocessing/label.py:111: DataConversionWarning: A column-vector y was passed when a 1d array was expected. Please change the shape of y to (n_samples, ), for example using ravel().\n",
      "  y = column_or_1d(y, warn=True)\n"
     ]
    }
   ],
   "source": [
    "X['trade_usd'] = preprocessing.StandardScaler().fit_transform(X['trade_usd'].reshape(-1, 1))\n",
    "X['year'] = preprocessing.StandardScaler().fit_transform(X['year'].reshape(-1, 1))\n",
    "X['category'] = preprocessing.LabelEncoder().fit_transform(X['category'].reshape(-1, 1))"
   ]
  },
  {
   "cell_type": "code",
   "execution_count": 15,
   "metadata": {},
   "outputs": [
    {
     "data": {
      "text/html": [
       "<div>\n",
       "<style scoped>\n",
       "    .dataframe tbody tr th:only-of-type {\n",
       "        vertical-align: middle;\n",
       "    }\n",
       "\n",
       "    .dataframe tbody tr th {\n",
       "        vertical-align: top;\n",
       "    }\n",
       "\n",
       "    .dataframe thead th {\n",
       "        text-align: right;\n",
       "    }\n",
       "</style>\n",
       "<table border=\"1\" class=\"dataframe\">\n",
       "  <thead>\n",
       "    <tr style=\"text-align: right;\">\n",
       "      <th></th>\n",
       "      <th>year</th>\n",
       "      <th>category</th>\n",
       "      <th>trade_usd</th>\n",
       "    </tr>\n",
       "  </thead>\n",
       "  <tbody>\n",
       "    <tr>\n",
       "      <th>3</th>\n",
       "      <td>1.073014</td>\n",
       "      <td>0</td>\n",
       "      <td>-0.018133</td>\n",
       "    </tr>\n",
       "    <tr>\n",
       "      <th>4</th>\n",
       "      <td>1.073014</td>\n",
       "      <td>0</td>\n",
       "      <td>-0.016357</td>\n",
       "    </tr>\n",
       "    <tr>\n",
       "      <th>5</th>\n",
       "      <td>1.073014</td>\n",
       "      <td>0</td>\n",
       "      <td>-0.018094</td>\n",
       "    </tr>\n",
       "    <tr>\n",
       "      <th>7</th>\n",
       "      <td>1.073014</td>\n",
       "      <td>0</td>\n",
       "      <td>-0.018491</td>\n",
       "    </tr>\n",
       "    <tr>\n",
       "      <th>8</th>\n",
       "      <td>1.073014</td>\n",
       "      <td>0</td>\n",
       "      <td>-0.018132</td>\n",
       "    </tr>\n",
       "  </tbody>\n",
       "</table>\n",
       "</div>"
      ],
      "text/plain": [
       "       year  category  trade_usd\n",
       "3  1.073014         0  -0.018133\n",
       "4  1.073014         0  -0.016357\n",
       "5  1.073014         0  -0.018094\n",
       "7  1.073014         0  -0.018491\n",
       "8  1.073014         0  -0.018132"
      ]
     },
     "execution_count": 15,
     "metadata": {},
     "output_type": "execute_result"
    }
   ],
   "source": [
    "X.head()"
   ]
  },
  {
   "cell_type": "code",
   "execution_count": 16,
   "metadata": {},
   "outputs": [
    {
     "data": {
      "text/plain": [
       "3     2414533\n",
       "4    14265937\n",
       "5     2671732\n",
       "7       26485\n",
       "8     2421513\n",
       "Name: trade_usd, dtype: int64"
      ]
     },
     "execution_count": 16,
     "metadata": {},
     "output_type": "execute_result"
    }
   ],
   "source": [
    "europe_clean['trade_usd'].head()"
   ]
  },
  {
   "cell_type": "code",
   "execution_count": 17,
   "metadata": {},
   "outputs": [],
   "source": [
    "dbscan = DBSCAN().fit(X)"
   ]
  },
  {
   "cell_type": "code",
   "execution_count": null,
   "metadata": {},
   "outputs": [],
   "source": []
  },
  {
   "cell_type": "code",
   "execution_count": 18,
   "metadata": {},
   "outputs": [
    {
     "data": {
      "text/plain": [
       "117860"
      ]
     },
     "execution_count": 18,
     "metadata": {},
     "output_type": "execute_result"
    }
   ],
   "source": [
    "len(dbscan.labels_)"
   ]
  },
  {
   "cell_type": "code",
   "execution_count": 42,
   "metadata": {},
   "outputs": [
    {
     "data": {
      "text/html": [
       "<div>\n",
       "<style scoped>\n",
       "    .dataframe tbody tr th:only-of-type {\n",
       "        vertical-align: middle;\n",
       "    }\n",
       "\n",
       "    .dataframe tbody tr th {\n",
       "        vertical-align: top;\n",
       "    }\n",
       "\n",
       "    .dataframe thead th {\n",
       "        text-align: right;\n",
       "    }\n",
       "</style>\n",
       "<table border=\"1\" class=\"dataframe\">\n",
       "  <thead>\n",
       "    <tr style=\"text-align: right;\">\n",
       "      <th></th>\n",
       "      <th>year</th>\n",
       "      <th>commodity</th>\n",
       "      <th>category</th>\n",
       "      <th>flow</th>\n",
       "      <th>trade_usd</th>\n",
       "    </tr>\n",
       "  </thead>\n",
       "  <tbody>\n",
       "    <tr>\n",
       "      <th>3</th>\n",
       "      <td>28</td>\n",
       "      <td>492</td>\n",
       "      <td>0</td>\n",
       "      <td>1</td>\n",
       "      <td>725342</td>\n",
       "    </tr>\n",
       "    <tr>\n",
       "      <th>4</th>\n",
       "      <td>28</td>\n",
       "      <td>4071</td>\n",
       "      <td>0</td>\n",
       "      <td>1</td>\n",
       "      <td>1140247</td>\n",
       "    </tr>\n",
       "    <tr>\n",
       "      <th>5</th>\n",
       "      <td>28</td>\n",
       "      <td>1623</td>\n",
       "      <td>0</td>\n",
       "      <td>1</td>\n",
       "      <td>750939</td>\n",
       "    </tr>\n",
       "    <tr>\n",
       "      <th>6</th>\n",
       "      <td>28</td>\n",
       "      <td>1623</td>\n",
       "      <td>0</td>\n",
       "      <td>0</td>\n",
       "      <td>86062</td>\n",
       "    </tr>\n",
       "    <tr>\n",
       "      <th>7</th>\n",
       "      <td>28</td>\n",
       "      <td>3375</td>\n",
       "      <td>0</td>\n",
       "      <td>1</td>\n",
       "      <td>26484</td>\n",
       "    </tr>\n",
       "    <tr>\n",
       "      <th>8</th>\n",
       "      <td>28</td>\n",
       "      <td>1624</td>\n",
       "      <td>0</td>\n",
       "      <td>1</td>\n",
       "      <td>726091</td>\n",
       "    </tr>\n",
       "    <tr>\n",
       "      <th>9</th>\n",
       "      <td>28</td>\n",
       "      <td>3376</td>\n",
       "      <td>0</td>\n",
       "      <td>1</td>\n",
       "      <td>214246</td>\n",
       "    </tr>\n",
       "    <tr>\n",
       "      <th>10</th>\n",
       "      <td>28</td>\n",
       "      <td>156</td>\n",
       "      <td>0</td>\n",
       "      <td>0</td>\n",
       "      <td>378641</td>\n",
       "    </tr>\n",
       "    <tr>\n",
       "      <th>11</th>\n",
       "      <td>27</td>\n",
       "      <td>492</td>\n",
       "      <td>0</td>\n",
       "      <td>1</td>\n",
       "      <td>995695</td>\n",
       "    </tr>\n",
       "    <tr>\n",
       "      <th>12</th>\n",
       "      <td>27</td>\n",
       "      <td>4070</td>\n",
       "      <td>0</td>\n",
       "      <td>1</td>\n",
       "      <td>45759</td>\n",
       "    </tr>\n",
       "    <tr>\n",
       "      <th>13</th>\n",
       "      <td>27</td>\n",
       "      <td>4071</td>\n",
       "      <td>0</td>\n",
       "      <td>1</td>\n",
       "      <td>1136960</td>\n",
       "    </tr>\n",
       "    <tr>\n",
       "      <th>14</th>\n",
       "      <td>27</td>\n",
       "      <td>1623</td>\n",
       "      <td>0</td>\n",
       "      <td>1</td>\n",
       "      <td>719179</td>\n",
       "    </tr>\n",
       "    <tr>\n",
       "      <th>15</th>\n",
       "      <td>27</td>\n",
       "      <td>3375</td>\n",
       "      <td>0</td>\n",
       "      <td>1</td>\n",
       "      <td>32320</td>\n",
       "    </tr>\n",
       "    <tr>\n",
       "      <th>16</th>\n",
       "      <td>27</td>\n",
       "      <td>1624</td>\n",
       "      <td>0</td>\n",
       "      <td>1</td>\n",
       "      <td>729386</td>\n",
       "    </tr>\n",
       "    <tr>\n",
       "      <th>17</th>\n",
       "      <td>27</td>\n",
       "      <td>3376</td>\n",
       "      <td>0</td>\n",
       "      <td>1</td>\n",
       "      <td>245231</td>\n",
       "    </tr>\n",
       "    <tr>\n",
       "      <th>18</th>\n",
       "      <td>27</td>\n",
       "      <td>156</td>\n",
       "      <td>0</td>\n",
       "      <td>0</td>\n",
       "      <td>397648</td>\n",
       "    </tr>\n",
       "    <tr>\n",
       "      <th>19</th>\n",
       "      <td>26</td>\n",
       "      <td>492</td>\n",
       "      <td>0</td>\n",
       "      <td>1</td>\n",
       "      <td>1022204</td>\n",
       "    </tr>\n",
       "    <tr>\n",
       "      <th>20</th>\n",
       "      <td>26</td>\n",
       "      <td>4071</td>\n",
       "      <td>0</td>\n",
       "      <td>1</td>\n",
       "      <td>1129051</td>\n",
       "    </tr>\n",
       "    <tr>\n",
       "      <th>21</th>\n",
       "      <td>26</td>\n",
       "      <td>3803</td>\n",
       "      <td>0</td>\n",
       "      <td>1</td>\n",
       "      <td>21632</td>\n",
       "    </tr>\n",
       "    <tr>\n",
       "      <th>22</th>\n",
       "      <td>26</td>\n",
       "      <td>1623</td>\n",
       "      <td>0</td>\n",
       "      <td>1</td>\n",
       "      <td>745910</td>\n",
       "    </tr>\n",
       "    <tr>\n",
       "      <th>23</th>\n",
       "      <td>26</td>\n",
       "      <td>3375</td>\n",
       "      <td>0</td>\n",
       "      <td>1</td>\n",
       "      <td>31580</td>\n",
       "    </tr>\n",
       "    <tr>\n",
       "      <th>24</th>\n",
       "      <td>26</td>\n",
       "      <td>1624</td>\n",
       "      <td>0</td>\n",
       "      <td>1</td>\n",
       "      <td>834353</td>\n",
       "    </tr>\n",
       "    <tr>\n",
       "      <th>25</th>\n",
       "      <td>26</td>\n",
       "      <td>3376</td>\n",
       "      <td>0</td>\n",
       "      <td>1</td>\n",
       "      <td>248696</td>\n",
       "    </tr>\n",
       "    <tr>\n",
       "      <th>26</th>\n",
       "      <td>26</td>\n",
       "      <td>156</td>\n",
       "      <td>0</td>\n",
       "      <td>1</td>\n",
       "      <td>17543</td>\n",
       "    </tr>\n",
       "    <tr>\n",
       "      <th>27</th>\n",
       "      <td>25</td>\n",
       "      <td>1915</td>\n",
       "      <td>0</td>\n",
       "      <td>1</td>\n",
       "      <td>3597</td>\n",
       "    </tr>\n",
       "    <tr>\n",
       "      <th>28</th>\n",
       "      <td>25</td>\n",
       "      <td>282</td>\n",
       "      <td>0</td>\n",
       "      <td>1</td>\n",
       "      <td>6759</td>\n",
       "    </tr>\n",
       "    <tr>\n",
       "      <th>29</th>\n",
       "      <td>25</td>\n",
       "      <td>491</td>\n",
       "      <td>0</td>\n",
       "      <td>1</td>\n",
       "      <td>143565</td>\n",
       "    </tr>\n",
       "    <tr>\n",
       "      <th>30</th>\n",
       "      <td>25</td>\n",
       "      <td>492</td>\n",
       "      <td>0</td>\n",
       "      <td>1</td>\n",
       "      <td>1047086</td>\n",
       "    </tr>\n",
       "    <tr>\n",
       "      <th>31</th>\n",
       "      <td>25</td>\n",
       "      <td>4070</td>\n",
       "      <td>0</td>\n",
       "      <td>1</td>\n",
       "      <td>256541</td>\n",
       "    </tr>\n",
       "    <tr>\n",
       "      <th>32</th>\n",
       "      <td>25</td>\n",
       "      <td>4071</td>\n",
       "      <td>0</td>\n",
       "      <td>1</td>\n",
       "      <td>1109946</td>\n",
       "    </tr>\n",
       "    <tr>\n",
       "      <th>...</th>\n",
       "      <td>...</td>\n",
       "      <td>...</td>\n",
       "      <td>...</td>\n",
       "      <td>...</td>\n",
       "      <td>...</td>\n",
       "    </tr>\n",
       "    <tr>\n",
       "      <th>8225442</th>\n",
       "      <td>17</td>\n",
       "      <td>19</td>\n",
       "      <td>97</td>\n",
       "      <td>3</td>\n",
       "      <td>1500563</td>\n",
       "    </tr>\n",
       "    <tr>\n",
       "      <th>8225443</th>\n",
       "      <td>16</td>\n",
       "      <td>19</td>\n",
       "      <td>97</td>\n",
       "      <td>1</td>\n",
       "      <td>1502810</td>\n",
       "    </tr>\n",
       "    <tr>\n",
       "      <th>8225444</th>\n",
       "      <td>16</td>\n",
       "      <td>19</td>\n",
       "      <td>97</td>\n",
       "      <td>0</td>\n",
       "      <td>1502715</td>\n",
       "    </tr>\n",
       "    <tr>\n",
       "      <th>8225445</th>\n",
       "      <td>16</td>\n",
       "      <td>19</td>\n",
       "      <td>97</td>\n",
       "      <td>3</td>\n",
       "      <td>1500337</td>\n",
       "    </tr>\n",
       "    <tr>\n",
       "      <th>8225446</th>\n",
       "      <td>15</td>\n",
       "      <td>19</td>\n",
       "      <td>97</td>\n",
       "      <td>0</td>\n",
       "      <td>1502697</td>\n",
       "    </tr>\n",
       "    <tr>\n",
       "      <th>8225447</th>\n",
       "      <td>15</td>\n",
       "      <td>19</td>\n",
       "      <td>97</td>\n",
       "      <td>3</td>\n",
       "      <td>1500293</td>\n",
       "    </tr>\n",
       "    <tr>\n",
       "      <th>8225448</th>\n",
       "      <td>15</td>\n",
       "      <td>19</td>\n",
       "      <td>97</td>\n",
       "      <td>1</td>\n",
       "      <td>1502758</td>\n",
       "    </tr>\n",
       "    <tr>\n",
       "      <th>8225449</th>\n",
       "      <td>14</td>\n",
       "      <td>19</td>\n",
       "      <td>97</td>\n",
       "      <td>3</td>\n",
       "      <td>1500252</td>\n",
       "    </tr>\n",
       "    <tr>\n",
       "      <th>8225450</th>\n",
       "      <td>14</td>\n",
       "      <td>19</td>\n",
       "      <td>97</td>\n",
       "      <td>1</td>\n",
       "      <td>1502727</td>\n",
       "    </tr>\n",
       "    <tr>\n",
       "      <th>8225451</th>\n",
       "      <td>14</td>\n",
       "      <td>19</td>\n",
       "      <td>97</td>\n",
       "      <td>0</td>\n",
       "      <td>1502668</td>\n",
       "    </tr>\n",
       "    <tr>\n",
       "      <th>8225452</th>\n",
       "      <td>13</td>\n",
       "      <td>19</td>\n",
       "      <td>97</td>\n",
       "      <td>1</td>\n",
       "      <td>1502720</td>\n",
       "    </tr>\n",
       "    <tr>\n",
       "      <th>8225453</th>\n",
       "      <td>13</td>\n",
       "      <td>19</td>\n",
       "      <td>97</td>\n",
       "      <td>0</td>\n",
       "      <td>1502660</td>\n",
       "    </tr>\n",
       "    <tr>\n",
       "      <th>8225454</th>\n",
       "      <td>13</td>\n",
       "      <td>19</td>\n",
       "      <td>97</td>\n",
       "      <td>3</td>\n",
       "      <td>1500113</td>\n",
       "    </tr>\n",
       "    <tr>\n",
       "      <th>8225455</th>\n",
       "      <td>12</td>\n",
       "      <td>19</td>\n",
       "      <td>97</td>\n",
       "      <td>1</td>\n",
       "      <td>1502730</td>\n",
       "    </tr>\n",
       "    <tr>\n",
       "      <th>8225456</th>\n",
       "      <td>12</td>\n",
       "      <td>19</td>\n",
       "      <td>97</td>\n",
       "      <td>0</td>\n",
       "      <td>1502677</td>\n",
       "    </tr>\n",
       "    <tr>\n",
       "      <th>8225457</th>\n",
       "      <td>12</td>\n",
       "      <td>19</td>\n",
       "      <td>97</td>\n",
       "      <td>3</td>\n",
       "      <td>1499944</td>\n",
       "    </tr>\n",
       "    <tr>\n",
       "      <th>8225458</th>\n",
       "      <td>11</td>\n",
       "      <td>19</td>\n",
       "      <td>97</td>\n",
       "      <td>1</td>\n",
       "      <td>1502699</td>\n",
       "    </tr>\n",
       "    <tr>\n",
       "      <th>8225459</th>\n",
       "      <td>11</td>\n",
       "      <td>19</td>\n",
       "      <td>97</td>\n",
       "      <td>0</td>\n",
       "      <td>1502650</td>\n",
       "    </tr>\n",
       "    <tr>\n",
       "      <th>8225460</th>\n",
       "      <td>10</td>\n",
       "      <td>19</td>\n",
       "      <td>97</td>\n",
       "      <td>1</td>\n",
       "      <td>1502696</td>\n",
       "    </tr>\n",
       "    <tr>\n",
       "      <th>8225461</th>\n",
       "      <td>10</td>\n",
       "      <td>19</td>\n",
       "      <td>97</td>\n",
       "      <td>0</td>\n",
       "      <td>1502653</td>\n",
       "    </tr>\n",
       "    <tr>\n",
       "      <th>8225462</th>\n",
       "      <td>9</td>\n",
       "      <td>19</td>\n",
       "      <td>97</td>\n",
       "      <td>1</td>\n",
       "      <td>1502690</td>\n",
       "    </tr>\n",
       "    <tr>\n",
       "      <th>8225463</th>\n",
       "      <td>9</td>\n",
       "      <td>19</td>\n",
       "      <td>97</td>\n",
       "      <td>0</td>\n",
       "      <td>1502658</td>\n",
       "    </tr>\n",
       "    <tr>\n",
       "      <th>8225464</th>\n",
       "      <td>8</td>\n",
       "      <td>19</td>\n",
       "      <td>97</td>\n",
       "      <td>1</td>\n",
       "      <td>1502662</td>\n",
       "    </tr>\n",
       "    <tr>\n",
       "      <th>8225465</th>\n",
       "      <td>8</td>\n",
       "      <td>19</td>\n",
       "      <td>97</td>\n",
       "      <td>0</td>\n",
       "      <td>1502643</td>\n",
       "    </tr>\n",
       "    <tr>\n",
       "      <th>8225466</th>\n",
       "      <td>7</td>\n",
       "      <td>19</td>\n",
       "      <td>97</td>\n",
       "      <td>1</td>\n",
       "      <td>1502648</td>\n",
       "    </tr>\n",
       "    <tr>\n",
       "      <th>8225467</th>\n",
       "      <td>7</td>\n",
       "      <td>19</td>\n",
       "      <td>97</td>\n",
       "      <td>0</td>\n",
       "      <td>1502629</td>\n",
       "    </tr>\n",
       "    <tr>\n",
       "      <th>8225468</th>\n",
       "      <td>6</td>\n",
       "      <td>19</td>\n",
       "      <td>97</td>\n",
       "      <td>1</td>\n",
       "      <td>1502624</td>\n",
       "    </tr>\n",
       "    <tr>\n",
       "      <th>8225469</th>\n",
       "      <td>6</td>\n",
       "      <td>19</td>\n",
       "      <td>97</td>\n",
       "      <td>0</td>\n",
       "      <td>1502602</td>\n",
       "    </tr>\n",
       "    <tr>\n",
       "      <th>8225470</th>\n",
       "      <td>5</td>\n",
       "      <td>19</td>\n",
       "      <td>97</td>\n",
       "      <td>1</td>\n",
       "      <td>1502599</td>\n",
       "    </tr>\n",
       "    <tr>\n",
       "      <th>8225471</th>\n",
       "      <td>5</td>\n",
       "      <td>19</td>\n",
       "      <td>97</td>\n",
       "      <td>0</td>\n",
       "      <td>1502547</td>\n",
       "    </tr>\n",
       "  </tbody>\n",
       "</table>\n",
       "<p>2716122 rows × 5 columns</p>\n",
       "</div>"
      ],
      "text/plain": [
       "         year  commodity  category  flow  trade_usd\n",
       "3          28        492         0     1     725342\n",
       "4          28       4071         0     1    1140247\n",
       "5          28       1623         0     1     750939\n",
       "6          28       1623         0     0      86062\n",
       "7          28       3375         0     1      26484\n",
       "8          28       1624         0     1     726091\n",
       "9          28       3376         0     1     214246\n",
       "10         28        156         0     0     378641\n",
       "11         27        492         0     1     995695\n",
       "12         27       4070         0     1      45759\n",
       "13         27       4071         0     1    1136960\n",
       "14         27       1623         0     1     719179\n",
       "15         27       3375         0     1      32320\n",
       "16         27       1624         0     1     729386\n",
       "17         27       3376         0     1     245231\n",
       "18         27        156         0     0     397648\n",
       "19         26        492         0     1    1022204\n",
       "20         26       4071         0     1    1129051\n",
       "21         26       3803         0     1      21632\n",
       "22         26       1623         0     1     745910\n",
       "23         26       3375         0     1      31580\n",
       "24         26       1624         0     1     834353\n",
       "25         26       3376         0     1     248696\n",
       "26         26        156         0     1      17543\n",
       "27         25       1915         0     1       3597\n",
       "28         25        282         0     1       6759\n",
       "29         25        491         0     1     143565\n",
       "30         25        492         0     1    1047086\n",
       "31         25       4070         0     1     256541\n",
       "32         25       4071         0     1    1109946\n",
       "...       ...        ...       ...   ...        ...\n",
       "8225442    17         19        97     3    1500563\n",
       "8225443    16         19        97     1    1502810\n",
       "8225444    16         19        97     0    1502715\n",
       "8225445    16         19        97     3    1500337\n",
       "8225446    15         19        97     0    1502697\n",
       "8225447    15         19        97     3    1500293\n",
       "8225448    15         19        97     1    1502758\n",
       "8225449    14         19        97     3    1500252\n",
       "8225450    14         19        97     1    1502727\n",
       "8225451    14         19        97     0    1502668\n",
       "8225452    13         19        97     1    1502720\n",
       "8225453    13         19        97     0    1502660\n",
       "8225454    13         19        97     3    1500113\n",
       "8225455    12         19        97     1    1502730\n",
       "8225456    12         19        97     0    1502677\n",
       "8225457    12         19        97     3    1499944\n",
       "8225458    11         19        97     1    1502699\n",
       "8225459    11         19        97     0    1502650\n",
       "8225460    10         19        97     1    1502696\n",
       "8225461    10         19        97     0    1502653\n",
       "8225462     9         19        97     1    1502690\n",
       "8225463     9         19        97     0    1502658\n",
       "8225464     8         19        97     1    1502662\n",
       "8225465     8         19        97     0    1502643\n",
       "8225466     7         19        97     1    1502648\n",
       "8225467     7         19        97     0    1502629\n",
       "8225468     6         19        97     1    1502624\n",
       "8225469     6         19        97     0    1502602\n",
       "8225470     5         19        97     1    1502599\n",
       "8225471     5         19        97     0    1502547\n",
       "\n",
       "[2716122 rows x 5 columns]"
      ]
     },
     "execution_count": 42,
     "metadata": {},
     "output_type": "execute_result"
    }
   ],
   "source": [
    "X"
   ]
  },
  {
   "cell_type": "code",
   "execution_count": 43,
   "metadata": {},
   "outputs": [
    {
     "data": {
      "text/html": [
       "<div>\n",
       "<style scoped>\n",
       "    .dataframe tbody tr th:only-of-type {\n",
       "        vertical-align: middle;\n",
       "    }\n",
       "\n",
       "    .dataframe tbody tr th {\n",
       "        vertical-align: top;\n",
       "    }\n",
       "\n",
       "    .dataframe thead th {\n",
       "        text-align: right;\n",
       "    }\n",
       "</style>\n",
       "<table border=\"1\" class=\"dataframe\">\n",
       "  <thead>\n",
       "    <tr style=\"text-align: right;\">\n",
       "      <th></th>\n",
       "      <th>year</th>\n",
       "      <th>commodity</th>\n",
       "      <th>category</th>\n",
       "      <th>flow</th>\n",
       "      <th>trade_usd</th>\n",
       "    </tr>\n",
       "  </thead>\n",
       "  <tbody>\n",
       "    <tr>\n",
       "      <th>3</th>\n",
       "      <td>28</td>\n",
       "      <td>492</td>\n",
       "      <td>0</td>\n",
       "      <td>1</td>\n",
       "      <td>725342</td>\n",
       "    </tr>\n",
       "    <tr>\n",
       "      <th>4</th>\n",
       "      <td>28</td>\n",
       "      <td>4071</td>\n",
       "      <td>0</td>\n",
       "      <td>1</td>\n",
       "      <td>1140247</td>\n",
       "    </tr>\n",
       "    <tr>\n",
       "      <th>5</th>\n",
       "      <td>28</td>\n",
       "      <td>1623</td>\n",
       "      <td>0</td>\n",
       "      <td>1</td>\n",
       "      <td>750939</td>\n",
       "    </tr>\n",
       "    <tr>\n",
       "      <th>6</th>\n",
       "      <td>28</td>\n",
       "      <td>1623</td>\n",
       "      <td>0</td>\n",
       "      <td>0</td>\n",
       "      <td>86062</td>\n",
       "    </tr>\n",
       "    <tr>\n",
       "      <th>7</th>\n",
       "      <td>28</td>\n",
       "      <td>3375</td>\n",
       "      <td>0</td>\n",
       "      <td>1</td>\n",
       "      <td>26484</td>\n",
       "    </tr>\n",
       "  </tbody>\n",
       "</table>\n",
       "</div>"
      ],
      "text/plain": [
       "   year  commodity  category  flow  trade_usd\n",
       "3    28        492         0     1     725342\n",
       "4    28       4071         0     1    1140247\n",
       "5    28       1623         0     1     750939\n",
       "6    28       1623         0     0      86062\n",
       "7    28       3375         0     1      26484"
      ]
     },
     "execution_count": 43,
     "metadata": {},
     "output_type": "execute_result"
    }
   ],
   "source": [
    "X.head()\n"
   ]
  },
  {
   "cell_type": "code",
   "execution_count": 44,
   "metadata": {},
   "outputs": [
    {
     "data": {
      "text/html": [
       "<div>\n",
       "<style scoped>\n",
       "    .dataframe tbody tr th:only-of-type {\n",
       "        vertical-align: middle;\n",
       "    }\n",
       "\n",
       "    .dataframe tbody tr th {\n",
       "        vertical-align: top;\n",
       "    }\n",
       "\n",
       "    .dataframe thead th {\n",
       "        text-align: right;\n",
       "    }\n",
       "</style>\n",
       "<table border=\"1\" class=\"dataframe\">\n",
       "  <thead>\n",
       "    <tr style=\"text-align: right;\">\n",
       "      <th></th>\n",
       "      <th>country_or_area</th>\n",
       "      <th>year</th>\n",
       "      <th>commodity</th>\n",
       "      <th>category</th>\n",
       "      <th>flow</th>\n",
       "      <th>trade_usd</th>\n",
       "    </tr>\n",
       "  </thead>\n",
       "  <tbody>\n",
       "    <tr>\n",
       "      <th>3</th>\n",
       "      <td>Albania</td>\n",
       "      <td>2016</td>\n",
       "      <td>Bovine animals, live, except pure-bred breeding</td>\n",
       "      <td>01_live_animals</td>\n",
       "      <td>Import</td>\n",
       "      <td>2414533</td>\n",
       "    </tr>\n",
       "    <tr>\n",
       "      <th>4</th>\n",
       "      <td>Albania</td>\n",
       "      <td>2016</td>\n",
       "      <td>Swine, live except pure-bred breeding &gt; 50 kg</td>\n",
       "      <td>01_live_animals</td>\n",
       "      <td>Import</td>\n",
       "      <td>14265937</td>\n",
       "    </tr>\n",
       "    <tr>\n",
       "      <th>5</th>\n",
       "      <td>Albania</td>\n",
       "      <td>2016</td>\n",
       "      <td>Fowls, live domestic &lt; 185 grams</td>\n",
       "      <td>01_live_animals</td>\n",
       "      <td>Import</td>\n",
       "      <td>2671732</td>\n",
       "    </tr>\n",
       "    <tr>\n",
       "      <th>6</th>\n",
       "      <td>Albania</td>\n",
       "      <td>2016</td>\n",
       "      <td>Fowls, live domestic &lt; 185 grams</td>\n",
       "      <td>01_live_animals</td>\n",
       "      <td>Export</td>\n",
       "      <td>87581</td>\n",
       "    </tr>\n",
       "    <tr>\n",
       "      <th>7</th>\n",
       "      <td>Albania</td>\n",
       "      <td>2016</td>\n",
       "      <td>Poultry, live except domestic fowls, &lt; 185 grams</td>\n",
       "      <td>01_live_animals</td>\n",
       "      <td>Import</td>\n",
       "      <td>26485</td>\n",
       "    </tr>\n",
       "  </tbody>\n",
       "</table>\n",
       "</div>"
      ],
      "text/plain": [
       "  country_or_area  year                                         commodity  \\\n",
       "3         Albania  2016   Bovine animals, live, except pure-bred breeding   \n",
       "4         Albania  2016     Swine, live except pure-bred breeding > 50 kg   \n",
       "5         Albania  2016                  Fowls, live domestic < 185 grams   \n",
       "6         Albania  2016                  Fowls, live domestic < 185 grams   \n",
       "7         Albania  2016  Poultry, live except domestic fowls, < 185 grams   \n",
       "\n",
       "          category    flow  trade_usd  \n",
       "3  01_live_animals  Import    2414533  \n",
       "4  01_live_animals  Import   14265937  \n",
       "5  01_live_animals  Import    2671732  \n",
       "6  01_live_animals  Export      87581  \n",
       "7  01_live_animals  Import      26485  "
      ]
     },
     "execution_count": 44,
     "metadata": {},
     "output_type": "execute_result"
    }
   ],
   "source": [
    "europe_clean.head()"
   ]
  },
  {
   "cell_type": "code",
   "execution_count": 23,
   "metadata": {},
   "outputs": [],
   "source": [
    "#########"
   ]
  },
  {
   "cell_type": "code",
   "execution_count": 24,
   "metadata": {},
   "outputs": [
    {
     "data": {
      "text/html": [
       "<div>\n",
       "<style scoped>\n",
       "    .dataframe tbody tr th:only-of-type {\n",
       "        vertical-align: middle;\n",
       "    }\n",
       "\n",
       "    .dataframe tbody tr th {\n",
       "        vertical-align: top;\n",
       "    }\n",
       "\n",
       "    .dataframe thead th {\n",
       "        text-align: right;\n",
       "    }\n",
       "</style>\n",
       "<table border=\"1\" class=\"dataframe\">\n",
       "  <thead>\n",
       "    <tr style=\"text-align: right;\">\n",
       "      <th></th>\n",
       "      <th>country_or_area</th>\n",
       "      <th>year</th>\n",
       "      <th>category</th>\n",
       "      <th>trade_usd</th>\n",
       "    </tr>\n",
       "  </thead>\n",
       "  <tbody>\n",
       "    <tr>\n",
       "      <th>3</th>\n",
       "      <td>Albania</td>\n",
       "      <td>2016</td>\n",
       "      <td>01_live_animals</td>\n",
       "      <td>2414533</td>\n",
       "    </tr>\n",
       "    <tr>\n",
       "      <th>4</th>\n",
       "      <td>Albania</td>\n",
       "      <td>2016</td>\n",
       "      <td>01_live_animals</td>\n",
       "      <td>14265937</td>\n",
       "    </tr>\n",
       "    <tr>\n",
       "      <th>5</th>\n",
       "      <td>Albania</td>\n",
       "      <td>2016</td>\n",
       "      <td>01_live_animals</td>\n",
       "      <td>2671732</td>\n",
       "    </tr>\n",
       "    <tr>\n",
       "      <th>7</th>\n",
       "      <td>Albania</td>\n",
       "      <td>2016</td>\n",
       "      <td>01_live_animals</td>\n",
       "      <td>26485</td>\n",
       "    </tr>\n",
       "    <tr>\n",
       "      <th>8</th>\n",
       "      <td>Albania</td>\n",
       "      <td>2016</td>\n",
       "      <td>01_live_animals</td>\n",
       "      <td>2421513</td>\n",
       "    </tr>\n",
       "  </tbody>\n",
       "</table>\n",
       "</div>"
      ],
      "text/plain": [
       "  country_or_area  year         category  trade_usd\n",
       "3         Albania  2016  01_live_animals    2414533\n",
       "4         Albania  2016  01_live_animals   14265937\n",
       "5         Albania  2016  01_live_animals    2671732\n",
       "7         Albania  2016  01_live_animals      26485\n",
       "8         Albania  2016  01_live_animals    2421513"
      ]
     },
     "execution_count": 24,
     "metadata": {},
     "output_type": "execute_result"
    }
   ],
   "source": [
    "europe_clean.head()"
   ]
  },
  {
   "cell_type": "code",
   "execution_count": 136,
   "metadata": {},
   "outputs": [],
   "source": [
    "X = europe_clean.copy()"
   ]
  },
  {
   "cell_type": "code",
   "execution_count": 137,
   "metadata": {},
   "outputs": [
    {
     "data": {
      "text/html": [
       "<div>\n",
       "<style scoped>\n",
       "    .dataframe tbody tr th:only-of-type {\n",
       "        vertical-align: middle;\n",
       "    }\n",
       "\n",
       "    .dataframe tbody tr th {\n",
       "        vertical-align: top;\n",
       "    }\n",
       "\n",
       "    .dataframe thead th {\n",
       "        text-align: right;\n",
       "    }\n",
       "</style>\n",
       "<table border=\"1\" class=\"dataframe\">\n",
       "  <thead>\n",
       "    <tr style=\"text-align: right;\">\n",
       "      <th></th>\n",
       "      <th>country_or_area</th>\n",
       "      <th>year</th>\n",
       "      <th>category</th>\n",
       "      <th>trade_usd</th>\n",
       "    </tr>\n",
       "  </thead>\n",
       "  <tbody>\n",
       "    <tr>\n",
       "      <th>3</th>\n",
       "      <td>Albania</td>\n",
       "      <td>2016</td>\n",
       "      <td>01_live_animals</td>\n",
       "      <td>2414533</td>\n",
       "    </tr>\n",
       "    <tr>\n",
       "      <th>4</th>\n",
       "      <td>Albania</td>\n",
       "      <td>2016</td>\n",
       "      <td>01_live_animals</td>\n",
       "      <td>14265937</td>\n",
       "    </tr>\n",
       "    <tr>\n",
       "      <th>5</th>\n",
       "      <td>Albania</td>\n",
       "      <td>2016</td>\n",
       "      <td>01_live_animals</td>\n",
       "      <td>2671732</td>\n",
       "    </tr>\n",
       "    <tr>\n",
       "      <th>7</th>\n",
       "      <td>Albania</td>\n",
       "      <td>2016</td>\n",
       "      <td>01_live_animals</td>\n",
       "      <td>26485</td>\n",
       "    </tr>\n",
       "    <tr>\n",
       "      <th>8</th>\n",
       "      <td>Albania</td>\n",
       "      <td>2016</td>\n",
       "      <td>01_live_animals</td>\n",
       "      <td>2421513</td>\n",
       "    </tr>\n",
       "  </tbody>\n",
       "</table>\n",
       "</div>"
      ],
      "text/plain": [
       "  country_or_area  year         category  trade_usd\n",
       "3         Albania  2016  01_live_animals    2414533\n",
       "4         Albania  2016  01_live_animals   14265937\n",
       "5         Albania  2016  01_live_animals    2671732\n",
       "7         Albania  2016  01_live_animals      26485\n",
       "8         Albania  2016  01_live_animals    2421513"
      ]
     },
     "execution_count": 137,
     "metadata": {},
     "output_type": "execute_result"
    }
   ],
   "source": [
    "X.head()"
   ]
  },
  {
   "cell_type": "code",
   "execution_count": 138,
   "metadata": {},
   "outputs": [
    {
     "data": {
      "text/plain": [
       "(117860, 4)"
      ]
     },
     "execution_count": 138,
     "metadata": {},
     "output_type": "execute_result"
    }
   ],
   "source": [
    "X.shape"
   ]
  },
  {
   "cell_type": "code",
   "execution_count": 139,
   "metadata": {},
   "outputs": [],
   "source": [
    "X['country_or_area'] = preprocessing.LabelEncoder().fit_transform(X['country_or_area'])"
   ]
  },
  {
   "cell_type": "code",
   "execution_count": 140,
   "metadata": {},
   "outputs": [
    {
     "name": "stderr",
     "output_type": "stream",
     "text": [
      "/Users/mihailojoksimovic/miniconda3/lib/python3.6/site-packages/sklearn/utils/validation.py:475: DataConversionWarning: Data with input dtype int64 was converted to float64 by StandardScaler.\n",
      "  warnings.warn(msg, DataConversionWarning)\n"
     ]
    }
   ],
   "source": [
    "X['category'] = preprocessing.LabelEncoder().fit_transform(X['category'])\n",
    "X['year'] = preprocessing.LabelEncoder().fit_transform(X['year'])\n",
    "X['trade_usd'] = preprocessing.StandardScaler().fit_transform(X['trade_usd'].values.reshape(-1, 1))"
   ]
  },
  {
   "cell_type": "code",
   "execution_count": 141,
   "metadata": {},
   "outputs": [
    {
     "data": {
      "text/html": [
       "<div>\n",
       "<style scoped>\n",
       "    .dataframe tbody tr th:only-of-type {\n",
       "        vertical-align: middle;\n",
       "    }\n",
       "\n",
       "    .dataframe tbody tr th {\n",
       "        vertical-align: top;\n",
       "    }\n",
       "\n",
       "    .dataframe thead th {\n",
       "        text-align: right;\n",
       "    }\n",
       "</style>\n",
       "<table border=\"1\" class=\"dataframe\">\n",
       "  <thead>\n",
       "    <tr style=\"text-align: right;\">\n",
       "      <th></th>\n",
       "      <th>country_or_area</th>\n",
       "      <th>year</th>\n",
       "      <th>category</th>\n",
       "      <th>trade_usd</th>\n",
       "    </tr>\n",
       "  </thead>\n",
       "  <tbody>\n",
       "    <tr>\n",
       "      <th>3</th>\n",
       "      <td>0</td>\n",
       "      <td>1</td>\n",
       "      <td>0</td>\n",
       "      <td>-0.018133</td>\n",
       "    </tr>\n",
       "    <tr>\n",
       "      <th>4</th>\n",
       "      <td>0</td>\n",
       "      <td>1</td>\n",
       "      <td>0</td>\n",
       "      <td>-0.016357</td>\n",
       "    </tr>\n",
       "    <tr>\n",
       "      <th>5</th>\n",
       "      <td>0</td>\n",
       "      <td>1</td>\n",
       "      <td>0</td>\n",
       "      <td>-0.018094</td>\n",
       "    </tr>\n",
       "    <tr>\n",
       "      <th>7</th>\n",
       "      <td>0</td>\n",
       "      <td>1</td>\n",
       "      <td>0</td>\n",
       "      <td>-0.018491</td>\n",
       "    </tr>\n",
       "    <tr>\n",
       "      <th>8</th>\n",
       "      <td>0</td>\n",
       "      <td>1</td>\n",
       "      <td>0</td>\n",
       "      <td>-0.018132</td>\n",
       "    </tr>\n",
       "  </tbody>\n",
       "</table>\n",
       "</div>"
      ],
      "text/plain": [
       "   country_or_area  year  category  trade_usd\n",
       "3                0     1         0  -0.018133\n",
       "4                0     1         0  -0.016357\n",
       "5                0     1         0  -0.018094\n",
       "7                0     1         0  -0.018491\n",
       "8                0     1         0  -0.018132"
      ]
     },
     "execution_count": 141,
     "metadata": {},
     "output_type": "execute_result"
    }
   ],
   "source": [
    "X.head()"
   ]
  },
  {
   "cell_type": "code",
   "execution_count": 142,
   "metadata": {},
   "outputs": [
    {
     "data": {
      "text/plain": [
       "(117860, 4)"
      ]
     },
     "execution_count": 142,
     "metadata": {},
     "output_type": "execute_result"
    }
   ],
   "source": [
    "X.shape"
   ]
  },
  {
   "cell_type": "code",
   "execution_count": 143,
   "metadata": {},
   "outputs": [],
   "source": [
    "dbscan = DBSCAN().fit(X)"
   ]
  },
  {
   "cell_type": "code",
   "execution_count": 144,
   "metadata": {},
   "outputs": [
    {
     "data": {
      "text/plain": [
       "4802"
      ]
     },
     "execution_count": 144,
     "metadata": {},
     "output_type": "execute_result"
    }
   ],
   "source": [
    "len(set(dbscan.labels_))"
   ]
  },
  {
   "cell_type": "code",
   "execution_count": 65,
   "metadata": {},
   "outputs": [],
   "source": [
    "# Aj da probam country i trade_usd"
   ]
  },
  {
   "cell_type": "code",
   "execution_count": 150,
   "metadata": {},
   "outputs": [],
   "source": [
    "X = europe_clean[europe_clean['year'] == 2015][['country_or_area', 'trade_usd']].copy()"
   ]
  },
  {
   "cell_type": "code",
   "execution_count": 161,
   "metadata": {},
   "outputs": [],
   "source": [
    "X['country_or_area'] = preprocessing.LabelEncoder().fit_transform(X['country_or_area'])\n",
    "X['trade_usd'] = preprocessing.StandardScaler().fit_transform(X['trade_usd'].values.reshape(-1, 1))"
   ]
  },
  {
   "cell_type": "code",
   "execution_count": 162,
   "metadata": {},
   "outputs": [
    {
     "data": {
      "text/plain": [
       "(63076, 2)"
      ]
     },
     "execution_count": 162,
     "metadata": {},
     "output_type": "execute_result"
    }
   ],
   "source": [
    "X.shape"
   ]
  },
  {
   "cell_type": "code",
   "execution_count": 163,
   "metadata": {},
   "outputs": [],
   "source": [
    "dbscan = DBSCAN().fit(X)"
   ]
  },
  {
   "cell_type": "code",
   "execution_count": 164,
   "metadata": {},
   "outputs": [
    {
     "data": {
      "text/plain": [
       "41"
      ]
     },
     "execution_count": 164,
     "metadata": {},
     "output_type": "execute_result"
    }
   ],
   "source": [
    "len(set(dbscan.labels_))"
   ]
  },
  {
   "cell_type": "code",
   "execution_count": 165,
   "metadata": {},
   "outputs": [
    {
     "data": {
      "text/plain": [
       "(40,)"
      ]
     },
     "execution_count": 165,
     "metadata": {},
     "output_type": "execute_result"
    }
   ],
   "source": [
    "X.country_or_area.unique().shape"
   ]
  },
  {
   "cell_type": "code",
   "execution_count": 92,
   "metadata": {},
   "outputs": [],
   "source": [
    "X = europe_clean.loc[:, ['country_or_area', 'trade_usd']]"
   ]
  },
  {
   "cell_type": "code",
   "execution_count": 94,
   "metadata": {},
   "outputs": [
    {
     "data": {
      "text/plain": [
       "array([['Albania', 2414533],\n",
       "       ['Albania', 14265937],\n",
       "       ['Albania', 2671732],\n",
       "       ..., \n",
       "       ['Ukraine', 37516153220],\n",
       "       ['United Kingdom', 636367936193],\n",
       "       ['United Kingdom', 630251057548]], dtype=object)"
      ]
     },
     "execution_count": 94,
     "metadata": {},
     "output_type": "execute_result"
    }
   ],
   "source": [
    "X.values"
   ]
  },
  {
   "cell_type": "code",
   "execution_count": 118,
   "metadata": {},
   "outputs": [],
   "source": [
    "import numpy as np\n",
    "\n",
    "from sklearn.cluster import DBSCAN\n",
    "from sklearn import metrics\n",
    "from sklearn.datasets.samples_generator import make_blobs\n",
    "from sklearn.preprocessing import StandardScaler\n",
    "\n",
    "\n",
    "# #############################################################################\n",
    "# Generate sample data\n",
    "centers = [[1, 1], [-1, -1], [1, -1]]\n",
    "X, labels_true = make_blobs(n_samples=750, centers=centers, cluster_std=0.4,\n",
    "                            random_state=0)\n"
   ]
  },
  {
   "cell_type": "code",
   "execution_count": 119,
   "metadata": {},
   "outputs": [],
   "source": [
    "df = pd.DataFrame(X)"
   ]
  },
  {
   "cell_type": "code",
   "execution_count": 120,
   "metadata": {},
   "outputs": [
    {
     "data": {
      "text/html": [
       "<div>\n",
       "<style scoped>\n",
       "    .dataframe tbody tr th:only-of-type {\n",
       "        vertical-align: middle;\n",
       "    }\n",
       "\n",
       "    .dataframe tbody tr th {\n",
       "        vertical-align: top;\n",
       "    }\n",
       "\n",
       "    .dataframe thead th {\n",
       "        text-align: right;\n",
       "    }\n",
       "</style>\n",
       "<table border=\"1\" class=\"dataframe\">\n",
       "  <thead>\n",
       "    <tr style=\"text-align: right;\">\n",
       "      <th></th>\n",
       "      <th>0</th>\n",
       "      <th>1</th>\n",
       "    </tr>\n",
       "  </thead>\n",
       "  <tbody>\n",
       "    <tr>\n",
       "      <th>0</th>\n",
       "      <td>0.840220</td>\n",
       "      <td>1.148022</td>\n",
       "    </tr>\n",
       "    <tr>\n",
       "      <th>1</th>\n",
       "      <td>-1.154748</td>\n",
       "      <td>-1.204117</td>\n",
       "    </tr>\n",
       "    <tr>\n",
       "      <th>2</th>\n",
       "      <td>0.678636</td>\n",
       "      <td>0.724180</td>\n",
       "    </tr>\n",
       "    <tr>\n",
       "      <th>3</th>\n",
       "      <td>0.450783</td>\n",
       "      <td>-1.427097</td>\n",
       "    </tr>\n",
       "    <tr>\n",
       "      <th>4</th>\n",
       "      <td>1.492116</td>\n",
       "      <td>1.480952</td>\n",
       "    </tr>\n",
       "  </tbody>\n",
       "</table>\n",
       "</div>"
      ],
      "text/plain": [
       "          0         1\n",
       "0  0.840220  1.148022\n",
       "1 -1.154748 -1.204117\n",
       "2  0.678636  0.724180\n",
       "3  0.450783 -1.427097\n",
       "4  1.492116  1.480952"
      ]
     },
     "execution_count": 120,
     "metadata": {},
     "output_type": "execute_result"
    }
   ],
   "source": [
    "df.head()"
   ]
  },
  {
   "cell_type": "code",
   "execution_count": 121,
   "metadata": {},
   "outputs": [],
   "source": [
    "X = df"
   ]
  },
  {
   "cell_type": "code",
   "execution_count": 122,
   "metadata": {},
   "outputs": [
    {
     "name": "stdout",
     "output_type": "stream",
     "text": [
      "Estimated number of clusters: 3\n",
      "Homogeneity: 0.953\n",
      "Completeness: 0.883\n",
      "V-measure: 0.917\n",
      "Adjusted Rand Index: 0.952\n",
      "Adjusted Mutual Information: 0.883\n",
      "Silhouette Coefficient: 0.626\n"
     ]
    },
    {
     "data": {
      "image/png": "[encoded data removed]",
      "text/plain": [
       "<matplotlib.figure.Figure at 0x1a281be198>"
      ]
     },
     "metadata": {},
     "output_type": "display_data"
    }
   ],
   "source": [
    "\n",
    "X = StandardScaler().fit_transform(X)\n",
    "\n",
    "# #############################################################################\n",
    "# Compute DBSCAN\n",
    "db = DBSCAN(eps=0.3, min_samples=10).fit(X)\n",
    "core_samples_mask = np.zeros_like(db.labels_, dtype=bool)\n",
    "core_samples_mask[db.core_sample_indices_] = True\n",
    "labels = db.labels_\n",
    "\n",
    "# Number of clusters in labels, ignoring noise if present.\n",
    "n_clusters_ = len(set(labels)) - (1 if -1 in labels else 0)\n",
    "\n",
    "print('Estimated number of clusters: %d' % n_clusters_)\n",
    "print(\"Homogeneity: %0.3f\" % metrics.homogeneity_score(labels_true, labels))\n",
    "print(\"Completeness: %0.3f\" % metrics.completeness_score(labels_true, labels))\n",
    "print(\"V-measure: %0.3f\" % metrics.v_measure_score(labels_true, labels))\n",
    "print(\"Adjusted Rand Index: %0.3f\"\n",
    "      % metrics.adjusted_rand_score(labels_true, labels))\n",
    "print(\"Adjusted Mutual Information: %0.3f\"\n",
    "      % metrics.adjusted_mutual_info_score(labels_true, labels))\n",
    "print(\"Silhouette Coefficient: %0.3f\"\n",
    "      % metrics.silhouette_score(X, labels))\n",
    "\n",
    "# #############################################################################\n",
    "# Plot result\n",
    "import matplotlib.pyplot as plt\n",
    "\n",
    "# Black removed and is used for noise instead.\n",
    "unique_labels = set(labels)\n",
    "colors = [plt.cm.Spectral(each)\n",
    "          for each in np.linspace(0, 1, len(unique_labels))]\n",
    "for k, col in zip(unique_labels, colors):\n",
    "    if k == -1:\n",
    "        # Black used for noise.\n",
    "        col = [0, 0, 0, 1]\n",
    "\n",
    "    class_member_mask = (labels == k)\n",
    "\n",
    "    xy = X[class_member_mask & core_samples_mask]\n",
    "    plt.plot(xy[:, 0], xy[:, 1], 'o', markerfacecolor=tuple(col),\n",
    "             markeredgecolor='k', markersize=14)\n",
    "\n",
    "    xy = X[class_member_mask & ~core_samples_mask]\n",
    "    plt.plot(xy[:, 0], xy[:, 1], 'o', markerfacecolor=tuple(col),\n",
    "             markeredgecolor='k', markersize=6)\n",
    "\n",
    "plt.title('Estimated number of clusters: %d' % n_clusters_)\n",
    "plt.show()"
   ]
  },
  {
   "cell_type": "code",
   "execution_count": 124,
   "metadata": {},
   "outputs": [
    {
     "data": {
      "text/plain": [
       "(750,)"
      ]
     },
     "execution_count": 124,
     "metadata": {},
     "output_type": "execute_result"
    }
   ],
   "source": [
    "db.labels_.shape"
   ]
  },
  {
   "cell_type": "code",
   "execution_count": 125,
   "metadata": {},
   "outputs": [
    {
     "data": {
      "text/plain": [
       "4"
      ]
     },
     "execution_count": 125,
     "metadata": {},
     "output_type": "execute_result"
    }
   ],
   "source": [
    "len(set(labels))"
   ]
  },
  {
   "cell_type": "code",
   "execution_count": 166,
   "metadata": {},
   "outputs": [
    {
     "data": {
      "text/html": [
       "<div>\n",
       "<style scoped>\n",
       "    .dataframe tbody tr th:only-of-type {\n",
       "        vertical-align: middle;\n",
       "    }\n",
       "\n",
       "    .dataframe tbody tr th {\n",
       "        vertical-align: top;\n",
       "    }\n",
       "\n",
       "    .dataframe thead th {\n",
       "        text-align: right;\n",
       "    }\n",
       "</style>\n",
       "<table border=\"1\" class=\"dataframe\">\n",
       "  <thead>\n",
       "    <tr style=\"text-align: right;\">\n",
       "      <th></th>\n",
       "      <th>country_or_area</th>\n",
       "      <th>year</th>\n",
       "      <th>comm_code</th>\n",
       "      <th>commodity</th>\n",
       "      <th>flow</th>\n",
       "      <th>trade_usd</th>\n",
       "      <th>weight_kg</th>\n",
       "      <th>quantity_name</th>\n",
       "      <th>quantity</th>\n",
       "      <th>category</th>\n",
       "      <th>Region_x</th>\n",
       "      <th>Country</th>\n",
       "      <th>Region_y</th>\n",
       "    </tr>\n",
       "  </thead>\n",
       "  <tbody>\n",
       "    <tr>\n",
       "      <th>3</th>\n",
       "      <td>Albania</td>\n",
       "      <td>2016</td>\n",
       "      <td>10290</td>\n",
       "      <td>Bovine animals, live, except pure-bred breeding</td>\n",
       "      <td>Import</td>\n",
       "      <td>2414533</td>\n",
       "      <td>1114023.0</td>\n",
       "      <td>Number of items</td>\n",
       "      <td>6853.0</td>\n",
       "      <td>01_live_animals</td>\n",
       "      <td>NaN</td>\n",
       "      <td>Albania</td>\n",
       "      <td>EUROPE</td>\n",
       "    </tr>\n",
       "    <tr>\n",
       "      <th>4</th>\n",
       "      <td>Albania</td>\n",
       "      <td>2016</td>\n",
       "      <td>10392</td>\n",
       "      <td>Swine, live except pure-bred breeding &gt; 50 kg</td>\n",
       "      <td>Import</td>\n",
       "      <td>14265937</td>\n",
       "      <td>9484953.0</td>\n",
       "      <td>Number of items</td>\n",
       "      <td>96040.0</td>\n",
       "      <td>01_live_animals</td>\n",
       "      <td>NaN</td>\n",
       "      <td>Albania</td>\n",
       "      <td>EUROPE</td>\n",
       "    </tr>\n",
       "    <tr>\n",
       "      <th>5</th>\n",
       "      <td>Albania</td>\n",
       "      <td>2016</td>\n",
       "      <td>10511</td>\n",
       "      <td>Fowls, live domestic &lt; 185 grams</td>\n",
       "      <td>Import</td>\n",
       "      <td>2671732</td>\n",
       "      <td>254652.0</td>\n",
       "      <td>Number of items</td>\n",
       "      <td>5629138.0</td>\n",
       "      <td>01_live_animals</td>\n",
       "      <td>NaN</td>\n",
       "      <td>Albania</td>\n",
       "      <td>EUROPE</td>\n",
       "    </tr>\n",
       "    <tr>\n",
       "      <th>6</th>\n",
       "      <td>Albania</td>\n",
       "      <td>2016</td>\n",
       "      <td>10511</td>\n",
       "      <td>Fowls, live domestic &lt; 185 grams</td>\n",
       "      <td>Export</td>\n",
       "      <td>87581</td>\n",
       "      <td>5320.0</td>\n",
       "      <td>Number of items</td>\n",
       "      <td>115180.0</td>\n",
       "      <td>01_live_animals</td>\n",
       "      <td>NaN</td>\n",
       "      <td>Albania</td>\n",
       "      <td>EUROPE</td>\n",
       "    </tr>\n",
       "    <tr>\n",
       "      <th>7</th>\n",
       "      <td>Albania</td>\n",
       "      <td>2016</td>\n",
       "      <td>10519</td>\n",
       "      <td>Poultry, live except domestic fowls, &lt; 185 grams</td>\n",
       "      <td>Import</td>\n",
       "      <td>26485</td>\n",
       "      <td>2908.0</td>\n",
       "      <td>Number of items</td>\n",
       "      <td>64000.0</td>\n",
       "      <td>01_live_animals</td>\n",
       "      <td>NaN</td>\n",
       "      <td>Albania</td>\n",
       "      <td>EUROPE</td>\n",
       "    </tr>\n",
       "  </tbody>\n",
       "</table>\n",
       "</div>"
      ],
      "text/plain": [
       "  country_or_area  year comm_code  \\\n",
       "3         Albania  2016     10290   \n",
       "4         Albania  2016     10392   \n",
       "5         Albania  2016     10511   \n",
       "6         Albania  2016     10511   \n",
       "7         Albania  2016     10519   \n",
       "\n",
       "                                          commodity    flow  trade_usd  \\\n",
       "3   Bovine animals, live, except pure-bred breeding  Import    2414533   \n",
       "4     Swine, live except pure-bred breeding > 50 kg  Import   14265937   \n",
       "5                  Fowls, live domestic < 185 grams  Import    2671732   \n",
       "6                  Fowls, live domestic < 185 grams  Export      87581   \n",
       "7  Poultry, live except domestic fowls, < 185 grams  Import      26485   \n",
       "\n",
       "   weight_kg    quantity_name   quantity         category Region_x  Country  \\\n",
       "3  1114023.0  Number of items     6853.0  01_live_animals      NaN  Albania   \n",
       "4  9484953.0  Number of items    96040.0  01_live_animals      NaN  Albania   \n",
       "5   254652.0  Number of items  5629138.0  01_live_animals      NaN  Albania   \n",
       "6     5320.0  Number of items   115180.0  01_live_animals      NaN  Albania   \n",
       "7     2908.0  Number of items    64000.0  01_live_animals      NaN  Albania   \n",
       "\n",
       "  Region_y  \n",
       "3   EUROPE  \n",
       "4   EUROPE  \n",
       "5   EUROPE  \n",
       "6   EUROPE  \n",
       "7   EUROPE  "
      ]
     },
     "execution_count": 166,
     "metadata": {},
     "output_type": "execute_result"
    }
   ],
   "source": [
    "europe.head()"
   ]
  },
  {
   "cell_type": "code",
   "execution_count": 171,
   "metadata": {},
   "outputs": [],
   "source": [
    "is_import = europe['flow'] == 'Import'\n",
    "year_filter = europe['year'] == 2016\n",
    "quantity_filter = europe['quantity_name'] == 'Number of items'"
   ]
  },
  {
   "cell_type": "code",
   "execution_count": 172,
   "metadata": {},
   "outputs": [
    {
     "data": {
      "text/html": [
       "<div>\n",
       "<style scoped>\n",
       "    .dataframe tbody tr th:only-of-type {\n",
       "        vertical-align: middle;\n",
       "    }\n",
       "\n",
       "    .dataframe tbody tr th {\n",
       "        vertical-align: top;\n",
       "    }\n",
       "\n",
       "    .dataframe thead th {\n",
       "        text-align: right;\n",
       "    }\n",
       "</style>\n",
       "<table border=\"1\" class=\"dataframe\">\n",
       "  <thead>\n",
       "    <tr style=\"text-align: right;\">\n",
       "      <th></th>\n",
       "      <th>country_or_area</th>\n",
       "      <th>year</th>\n",
       "      <th>comm_code</th>\n",
       "      <th>commodity</th>\n",
       "      <th>flow</th>\n",
       "      <th>trade_usd</th>\n",
       "      <th>weight_kg</th>\n",
       "      <th>quantity_name</th>\n",
       "      <th>quantity</th>\n",
       "      <th>category</th>\n",
       "      <th>Region_x</th>\n",
       "      <th>Country</th>\n",
       "      <th>Region_y</th>\n",
       "    </tr>\n",
       "  </thead>\n",
       "  <tbody>\n",
       "    <tr>\n",
       "      <th>3</th>\n",
       "      <td>Albania</td>\n",
       "      <td>2016</td>\n",
       "      <td>10290</td>\n",
       "      <td>Bovine animals, live, except pure-bred breeding</td>\n",
       "      <td>Import</td>\n",
       "      <td>2414533</td>\n",
       "      <td>1114023.0</td>\n",
       "      <td>Number of items</td>\n",
       "      <td>6853.0</td>\n",
       "      <td>01_live_animals</td>\n",
       "      <td>NaN</td>\n",
       "      <td>Albania</td>\n",
       "      <td>EUROPE</td>\n",
       "    </tr>\n",
       "    <tr>\n",
       "      <th>4</th>\n",
       "      <td>Albania</td>\n",
       "      <td>2016</td>\n",
       "      <td>10392</td>\n",
       "      <td>Swine, live except pure-bred breeding &gt; 50 kg</td>\n",
       "      <td>Import</td>\n",
       "      <td>14265937</td>\n",
       "      <td>9484953.0</td>\n",
       "      <td>Number of items</td>\n",
       "      <td>96040.0</td>\n",
       "      <td>01_live_animals</td>\n",
       "      <td>NaN</td>\n",
       "      <td>Albania</td>\n",
       "      <td>EUROPE</td>\n",
       "    </tr>\n",
       "    <tr>\n",
       "      <th>5</th>\n",
       "      <td>Albania</td>\n",
       "      <td>2016</td>\n",
       "      <td>10511</td>\n",
       "      <td>Fowls, live domestic &lt; 185 grams</td>\n",
       "      <td>Import</td>\n",
       "      <td>2671732</td>\n",
       "      <td>254652.0</td>\n",
       "      <td>Number of items</td>\n",
       "      <td>5629138.0</td>\n",
       "      <td>01_live_animals</td>\n",
       "      <td>NaN</td>\n",
       "      <td>Albania</td>\n",
       "      <td>EUROPE</td>\n",
       "    </tr>\n",
       "    <tr>\n",
       "      <th>7</th>\n",
       "      <td>Albania</td>\n",
       "      <td>2016</td>\n",
       "      <td>10519</td>\n",
       "      <td>Poultry, live except domestic fowls, &lt; 185 grams</td>\n",
       "      <td>Import</td>\n",
       "      <td>26485</td>\n",
       "      <td>2908.0</td>\n",
       "      <td>Number of items</td>\n",
       "      <td>64000.0</td>\n",
       "      <td>01_live_animals</td>\n",
       "      <td>NaN</td>\n",
       "      <td>Albania</td>\n",
       "      <td>EUROPE</td>\n",
       "    </tr>\n",
       "    <tr>\n",
       "      <th>8</th>\n",
       "      <td>Albania</td>\n",
       "      <td>2016</td>\n",
       "      <td>10591</td>\n",
       "      <td>Fowls, live domestic &gt; 185 grams</td>\n",
       "      <td>Import</td>\n",
       "      <td>2421513</td>\n",
       "      <td>1926850.0</td>\n",
       "      <td>Number of items</td>\n",
       "      <td>1006990.0</td>\n",
       "      <td>01_live_animals</td>\n",
       "      <td>NaN</td>\n",
       "      <td>Albania</td>\n",
       "      <td>EUROPE</td>\n",
       "    </tr>\n",
       "  </tbody>\n",
       "</table>\n",
       "</div>"
      ],
      "text/plain": [
       "  country_or_area  year comm_code  \\\n",
       "3         Albania  2016     10290   \n",
       "4         Albania  2016     10392   \n",
       "5         Albania  2016     10511   \n",
       "7         Albania  2016     10519   \n",
       "8         Albania  2016     10591   \n",
       "\n",
       "                                          commodity    flow  trade_usd  \\\n",
       "3   Bovine animals, live, except pure-bred breeding  Import    2414533   \n",
       "4     Swine, live except pure-bred breeding > 50 kg  Import   14265937   \n",
       "5                  Fowls, live domestic < 185 grams  Import    2671732   \n",
       "7  Poultry, live except domestic fowls, < 185 grams  Import      26485   \n",
       "8                  Fowls, live domestic > 185 grams  Import    2421513   \n",
       "\n",
       "   weight_kg    quantity_name   quantity         category Region_x  Country  \\\n",
       "3  1114023.0  Number of items     6853.0  01_live_animals      NaN  Albania   \n",
       "4  9484953.0  Number of items    96040.0  01_live_animals      NaN  Albania   \n",
       "5   254652.0  Number of items  5629138.0  01_live_animals      NaN  Albania   \n",
       "7     2908.0  Number of items    64000.0  01_live_animals      NaN  Albania   \n",
       "8  1926850.0  Number of items  1006990.0  01_live_animals      NaN  Albania   \n",
       "\n",
       "  Region_y  \n",
       "3   EUROPE  \n",
       "4   EUROPE  \n",
       "5   EUROPE  \n",
       "7   EUROPE  \n",
       "8   EUROPE  "
      ]
     },
     "execution_count": 172,
     "metadata": {},
     "output_type": "execute_result"
    }
   ],
   "source": [
    "europe[is_import & year_filter & quantity_filter].head()"
   ]
  },
  {
   "cell_type": "code",
   "execution_count": 173,
   "metadata": {},
   "outputs": [],
   "source": [
    "features = ['trade_usd', 'weight_kg', 'quantity', 'category']"
   ]
  },
  {
   "cell_type": "code",
   "execution_count": 238,
   "metadata": {},
   "outputs": [],
   "source": [
    "X = europe[is_import & quantity_filter][features].dropna().copy()"
   ]
  },
  {
   "cell_type": "code",
   "execution_count": 239,
   "metadata": {},
   "outputs": [
    {
     "data": {
      "text/html": [
       "<div>\n",
       "<style scoped>\n",
       "    .dataframe tbody tr th:only-of-type {\n",
       "        vertical-align: middle;\n",
       "    }\n",
       "\n",
       "    .dataframe tbody tr th {\n",
       "        vertical-align: top;\n",
       "    }\n",
       "\n",
       "    .dataframe thead th {\n",
       "        text-align: right;\n",
       "    }\n",
       "</style>\n",
       "<table border=\"1\" class=\"dataframe\">\n",
       "  <thead>\n",
       "    <tr style=\"text-align: right;\">\n",
       "      <th></th>\n",
       "      <th>trade_usd</th>\n",
       "      <th>weight_kg</th>\n",
       "      <th>quantity</th>\n",
       "      <th>category</th>\n",
       "    </tr>\n",
       "  </thead>\n",
       "  <tbody>\n",
       "    <tr>\n",
       "      <th>3</th>\n",
       "      <td>2414533</td>\n",
       "      <td>1114023.0</td>\n",
       "      <td>6853.0</td>\n",
       "      <td>01_live_animals</td>\n",
       "    </tr>\n",
       "    <tr>\n",
       "      <th>4</th>\n",
       "      <td>14265937</td>\n",
       "      <td>9484953.0</td>\n",
       "      <td>96040.0</td>\n",
       "      <td>01_live_animals</td>\n",
       "    </tr>\n",
       "    <tr>\n",
       "      <th>5</th>\n",
       "      <td>2671732</td>\n",
       "      <td>254652.0</td>\n",
       "      <td>5629138.0</td>\n",
       "      <td>01_live_animals</td>\n",
       "    </tr>\n",
       "    <tr>\n",
       "      <th>7</th>\n",
       "      <td>26485</td>\n",
       "      <td>2908.0</td>\n",
       "      <td>64000.0</td>\n",
       "      <td>01_live_animals</td>\n",
       "    </tr>\n",
       "    <tr>\n",
       "      <th>8</th>\n",
       "      <td>2421513</td>\n",
       "      <td>1926850.0</td>\n",
       "      <td>1006990.0</td>\n",
       "      <td>01_live_animals</td>\n",
       "    </tr>\n",
       "  </tbody>\n",
       "</table>\n",
       "</div>"
      ],
      "text/plain": [
       "   trade_usd  weight_kg   quantity         category\n",
       "3    2414533  1114023.0     6853.0  01_live_animals\n",
       "4   14265937  9484953.0    96040.0  01_live_animals\n",
       "5    2671732   254652.0  5629138.0  01_live_animals\n",
       "7      26485     2908.0    64000.0  01_live_animals\n",
       "8    2421513  1926850.0  1006990.0  01_live_animals"
      ]
     },
     "execution_count": 239,
     "metadata": {},
     "output_type": "execute_result"
    }
   ],
   "source": [
    "X.head()"
   ]
  },
  {
   "cell_type": "code",
   "execution_count": 240,
   "metadata": {},
   "outputs": [
    {
     "data": {
      "text/plain": [
       "(121963, 4)"
      ]
     },
     "execution_count": 240,
     "metadata": {},
     "output_type": "execute_result"
    }
   ],
   "source": [
    "X.shape"
   ]
  },
  {
   "cell_type": "code",
   "execution_count": 241,
   "metadata": {},
   "outputs": [],
   "source": [
    "d = defaultdict(preprocessing.StandardScaler)"
   ]
  },
  {
   "cell_type": "code",
   "execution_count": 242,
   "metadata": {},
   "outputs": [],
   "source": [
    "X[['trade_usd', 'weight_kg', 'quantity']] = preprocessing.StandardScaler().fit_transform(X[['trade_usd', 'weight_kg', 'quantity']].values)\n",
    "X['category'] = preprocessing.LabelEncoder().fit_transform(X['category'])"
   ]
  },
  {
   "cell_type": "code",
   "execution_count": 243,
   "metadata": {},
   "outputs": [
    {
     "data": {
      "text/html": [
       "<div>\n",
       "<style scoped>\n",
       "    .dataframe tbody tr th:only-of-type {\n",
       "        vertical-align: middle;\n",
       "    }\n",
       "\n",
       "    .dataframe tbody tr th {\n",
       "        vertical-align: top;\n",
       "    }\n",
       "\n",
       "    .dataframe thead th {\n",
       "        text-align: right;\n",
       "    }\n",
       "</style>\n",
       "<table border=\"1\" class=\"dataframe\">\n",
       "  <thead>\n",
       "    <tr style=\"text-align: right;\">\n",
       "      <th></th>\n",
       "      <th>trade_usd</th>\n",
       "      <th>weight_kg</th>\n",
       "      <th>quantity</th>\n",
       "      <th>category</th>\n",
       "    </tr>\n",
       "  </thead>\n",
       "  <tbody>\n",
       "    <tr>\n",
       "      <th>3</th>\n",
       "      <td>-0.071471</td>\n",
       "      <td>-0.033587</td>\n",
       "      <td>-0.002987</td>\n",
       "      <td>0</td>\n",
       "    </tr>\n",
       "    <tr>\n",
       "      <th>4</th>\n",
       "      <td>-0.026676</td>\n",
       "      <td>0.123020</td>\n",
       "      <td>-0.002986</td>\n",
       "      <td>0</td>\n",
       "    </tr>\n",
       "    <tr>\n",
       "      <th>5</th>\n",
       "      <td>-0.070499</td>\n",
       "      <td>-0.049665</td>\n",
       "      <td>-0.002955</td>\n",
       "      <td>0</td>\n",
       "    </tr>\n",
       "    <tr>\n",
       "      <th>7</th>\n",
       "      <td>-0.080497</td>\n",
       "      <td>-0.054374</td>\n",
       "      <td>-0.002987</td>\n",
       "      <td>0</td>\n",
       "    </tr>\n",
       "    <tr>\n",
       "      <th>8</th>\n",
       "      <td>-0.071445</td>\n",
       "      <td>-0.018381</td>\n",
       "      <td>-0.002981</td>\n",
       "      <td>0</td>\n",
       "    </tr>\n",
       "  </tbody>\n",
       "</table>\n",
       "</div>"
      ],
      "text/plain": [
       "   trade_usd  weight_kg  quantity  category\n",
       "3  -0.071471  -0.033587 -0.002987         0\n",
       "4  -0.026676   0.123020 -0.002986         0\n",
       "5  -0.070499  -0.049665 -0.002955         0\n",
       "7  -0.080497  -0.054374 -0.002987         0\n",
       "8  -0.071445  -0.018381 -0.002981         0"
      ]
     },
     "execution_count": 243,
     "metadata": {},
     "output_type": "execute_result"
    }
   ],
   "source": [
    "X.head()"
   ]
  },
  {
   "cell_type": "code",
   "execution_count": 244,
   "metadata": {},
   "outputs": [],
   "source": [
    "db = DBSCAN().fit(X)"
   ]
  },
  {
   "cell_type": "code",
   "execution_count": 245,
   "metadata": {},
   "outputs": [
    {
     "data": {
      "text/plain": [
       "61"
      ]
     },
     "execution_count": 245,
     "metadata": {},
     "output_type": "execute_result"
    }
   ],
   "source": [
    "len(set(db.labels_)) - (1 if -1 in labels else 0)"
   ]
  },
  {
   "cell_type": "code",
   "execution_count": 227,
   "metadata": {},
   "outputs": [
    {
     "data": {
      "text/plain": [
       "(36,)"
      ]
     },
     "execution_count": 227,
     "metadata": {},
     "output_type": "execute_result"
    }
   ],
   "source": [
    "europe[is_import & year_filter & quantity_filter][['country_or_area']+features].dropna().country_or_area.unique().shape"
   ]
  },
  {
   "cell_type": "code",
   "execution_count": 247,
   "metadata": {},
   "outputs": [],
   "source": [
    "%matplotlib inline\n",
    "import numpy as np\n",
    "import matplotlib.pyplot as plt\n",
    "import seaborn as sns; sns.set()"
   ]
  },
  {
   "cell_type": "code",
   "execution_count": 248,
   "metadata": {},
   "outputs": [],
   "source": [
    "from sklearn.decomposition import PCA\n"
   ]
  },
  {
   "cell_type": "code",
   "execution_count": 251,
   "metadata": {},
   "outputs": [],
   "source": [
    "pca = PCA(2)"
   ]
  },
  {
   "cell_type": "code",
   "execution_count": 265,
   "metadata": {},
   "outputs": [
    {
     "data": {
      "text/plain": [
       "PCA(copy=True, iterated_power='auto', n_components=2, random_state=None,\n",
       "  svd_solver='auto', tol=0.0, whiten=False)"
      ]
     },
     "execution_count": 265,
     "metadata": {},
     "output_type": "execute_result"
    }
   ],
   "source": [
    "pca.fit(X)"
   ]
  },
  {
   "cell_type": "code",
   "execution_count": 267,
   "metadata": {},
   "outputs": [],
   "source": [
    "X_pca = pca.transform(X)"
   ]
  },
  {
   "cell_type": "code",
   "execution_count": 271,
   "metadata": {},
   "outputs": [
    {
     "data": {
      "text/plain": [
       "<matplotlib.collections.PathCollection at 0x1a2c819978>"
      ]
     },
     "execution_count": 271,
     "metadata": {},
     "output_type": "execute_result"
    },
    {
     "data": {
      "image/png": "[encoded data removed]",
      "text/plain": [
       "<matplotlib.figure.Figure at 0x1a2cfda9b0>"
      ]
     },
     "metadata": {},
     "output_type": "display_data"
    }
   ],
   "source": [
    "plt.scatter(X_pca[:,0], X_pca[:,1])\n"
   ]
  },
  {
   "cell_type": "code",
   "execution_count": 272,
   "metadata": {},
   "outputs": [
    {
     "ename": "TypeError",
     "evalue": "unhashable type: 'slice'",
     "output_type": "error",
     "traceback": [
      "\u001b[0;31m---------------------------------------------------------------------------\u001b[0m",
      "\u001b[0;31mTypeError\u001b[0m                                 Traceback (most recent call last)",
      "\u001b[0;32m<ipython-input-272-a9a6d6b99b7a>\u001b[0m in \u001b[0;36m<module>\u001b[0;34m()\u001b[0m\n\u001b[0;32m----> 1\u001b[0;31m \u001b[0mplt\u001b[0m\u001b[0;34m.\u001b[0m\u001b[0mscatter\u001b[0m\u001b[0;34m(\u001b[0m\u001b[0mX\u001b[0m\u001b[0;34m[\u001b[0m\u001b[0;34m:\u001b[0m\u001b[0;34m,\u001b[0m\u001b[0;36m0\u001b[0m\u001b[0;34m]\u001b[0m\u001b[0;34m,\u001b[0m \u001b[0mX\u001b[0m\u001b[0;34m[\u001b[0m\u001b[0;34m:\u001b[0m\u001b[0;34m,\u001b[0m\u001b[0;36m1\u001b[0m\u001b[0;34m]\u001b[0m\u001b[0;34m)\u001b[0m\u001b[0;34m\u001b[0m\u001b[0m\n\u001b[0m",
      "\u001b[0;32m~/miniconda3/lib/python3.6/site-packages/pandas/core/frame.py\u001b[0m in \u001b[0;36m__getitem__\u001b[0;34m(self, key)\u001b[0m\n\u001b[1;32m   2137\u001b[0m             \u001b[0;32mreturn\u001b[0m \u001b[0mself\u001b[0m\u001b[0;34m.\u001b[0m\u001b[0m_getitem_multilevel\u001b[0m\u001b[0;34m(\u001b[0m\u001b[0mkey\u001b[0m\u001b[0;34m)\u001b[0m\u001b[0;34m\u001b[0m\u001b[0m\n\u001b[1;32m   2138\u001b[0m         \u001b[0;32melse\u001b[0m\u001b[0;34m:\u001b[0m\u001b[0;34m\u001b[0m\u001b[0m\n\u001b[0;32m-> 2139\u001b[0;31m             \u001b[0;32mreturn\u001b[0m \u001b[0mself\u001b[0m\u001b[0;34m.\u001b[0m\u001b[0m_getitem_column\u001b[0m\u001b[0;34m(\u001b[0m\u001b[0mkey\u001b[0m\u001b[0;34m)\u001b[0m\u001b[0;34m\u001b[0m\u001b[0m\n\u001b[0m\u001b[1;32m   2140\u001b[0m \u001b[0;34m\u001b[0m\u001b[0m\n\u001b[1;32m   2141\u001b[0m     \u001b[0;32mdef\u001b[0m \u001b[0m_getitem_column\u001b[0m\u001b[0;34m(\u001b[0m\u001b[0mself\u001b[0m\u001b[0;34m,\u001b[0m \u001b[0mkey\u001b[0m\u001b[0;34m)\u001b[0m\u001b[0;34m:\u001b[0m\u001b[0;34m\u001b[0m\u001b[0m\n",
      "\u001b[0;32m~/miniconda3/lib/python3.6/site-packages/pandas/core/frame.py\u001b[0m in \u001b[0;36m_getitem_column\u001b[0;34m(self, key)\u001b[0m\n\u001b[1;32m   2144\u001b[0m         \u001b[0;31m# get column\u001b[0m\u001b[0;34m\u001b[0m\u001b[0;34m\u001b[0m\u001b[0m\n\u001b[1;32m   2145\u001b[0m         \u001b[0;32mif\u001b[0m \u001b[0mself\u001b[0m\u001b[0;34m.\u001b[0m\u001b[0mcolumns\u001b[0m\u001b[0;34m.\u001b[0m\u001b[0mis_unique\u001b[0m\u001b[0;34m:\u001b[0m\u001b[0;34m\u001b[0m\u001b[0m\n\u001b[0;32m-> 2146\u001b[0;31m             \u001b[0;32mreturn\u001b[0m \u001b[0mself\u001b[0m\u001b[0;34m.\u001b[0m\u001b[0m_get_item_cache\u001b[0m\u001b[0;34m(\u001b[0m\u001b[0mkey\u001b[0m\u001b[0;34m)\u001b[0m\u001b[0;34m\u001b[0m\u001b[0m\n\u001b[0m\u001b[1;32m   2147\u001b[0m \u001b[0;34m\u001b[0m\u001b[0m\n\u001b[1;32m   2148\u001b[0m         \u001b[0;31m# duplicate columns & possible reduce dimensionality\u001b[0m\u001b[0;34m\u001b[0m\u001b[0;34m\u001b[0m\u001b[0m\n",
      "\u001b[0;32m~/miniconda3/lib/python3.6/site-packages/pandas/core/generic.py\u001b[0m in \u001b[0;36m_get_item_cache\u001b[0;34m(self, item)\u001b[0m\n\u001b[1;32m   1838\u001b[0m         \u001b[0;34m\"\"\"Return the cached item, item represents a label indexer.\"\"\"\u001b[0m\u001b[0;34m\u001b[0m\u001b[0m\n\u001b[1;32m   1839\u001b[0m         \u001b[0mcache\u001b[0m \u001b[0;34m=\u001b[0m \u001b[0mself\u001b[0m\u001b[0;34m.\u001b[0m\u001b[0m_item_cache\u001b[0m\u001b[0;34m\u001b[0m\u001b[0m\n\u001b[0;32m-> 1840\u001b[0;31m         \u001b[0mres\u001b[0m \u001b[0;34m=\u001b[0m \u001b[0mcache\u001b[0m\u001b[0;34m.\u001b[0m\u001b[0mget\u001b[0m\u001b[0;34m(\u001b[0m\u001b[0mitem\u001b[0m\u001b[0;34m)\u001b[0m\u001b[0;34m\u001b[0m\u001b[0m\n\u001b[0m\u001b[1;32m   1841\u001b[0m         \u001b[0;32mif\u001b[0m \u001b[0mres\u001b[0m \u001b[0;32mis\u001b[0m \u001b[0;32mNone\u001b[0m\u001b[0;34m:\u001b[0m\u001b[0;34m\u001b[0m\u001b[0m\n\u001b[1;32m   1842\u001b[0m             \u001b[0mvalues\u001b[0m \u001b[0;34m=\u001b[0m \u001b[0mself\u001b[0m\u001b[0;34m.\u001b[0m\u001b[0m_data\u001b[0m\u001b[0;34m.\u001b[0m\u001b[0mget\u001b[0m\u001b[0;34m(\u001b[0m\u001b[0mitem\u001b[0m\u001b[0;34m)\u001b[0m\u001b[0;34m\u001b[0m\u001b[0m\n",
      "\u001b[0;31mTypeError\u001b[0m: unhashable type: 'slice'"
     ]
    }
   ],
   "source": [
    "plt.scatter(X[:,0], X[:,1])\n"
   ]
  },
  {
   "cell_type": "code",
   "execution_count": 273,
   "metadata": {},
   "outputs": [
    {
     "data": {
      "image/png": "[encoded data removed]",
      "text/plain": [
       "<matplotlib.figure.Figure at 0x1a29afdac8>"
      ]
     },
     "metadata": {},
     "output_type": "display_data"
    }
   ],
   "source": [
    "pca = PCA().fit(X)\n",
    "plt.plot(np.cumsum(pca.explained_variance_ratio_))\n",
    "plt.xlabel('number of components')\n",
    "plt.ylabel('cumulative explained variance');"
   ]
  },
  {
   "cell_type": "code",
   "execution_count": 278,
   "metadata": {},
   "outputs": [
    {
     "data": {
      "image/png": "[encoded data removed]",
      "text/plain": [
       "<matplotlib.figure.Figure at 0x1a2b7d0550>"
      ]
     },
     "metadata": {},
     "output_type": "display_data"
    }
   ],
   "source": [
    "features = ['trade_usd', 'weight_kg', 'category', 'quantity']\n",
    "X = europe[is_import & quantity_filter][features].dropna().copy()\n",
    "X['category'] = preprocessing.LabelEncoder().fit_transform(X['category'])\n",
    "pca = PCA().fit(X)\n",
    "plt.plot(np.cumsum(pca.explained_variance_ratio_))\n",
    "plt.xlabel('number of components')\n",
    "plt.ylabel('cumulative explained variance');"
   ]
  },
  {
   "cell_type": "code",
   "execution_count": 283,
   "metadata": {},
   "outputs": [
    {
     "data": {
      "image/png": "[encoded data removed]",
      "text/plain": [
       "<matplotlib.figure.Figure at 0x1a2ce97828>"
      ]
     },
     "metadata": {},
     "output_type": "display_data"
    }
   ],
   "source": [
    "features = ['trade_usd', 'weight_kg', 'category', 'year', 'quantity']\n",
    "X = europe[is_import & quantity_filter][features].dropna().copy()\n",
    "X[['trade_usd', 'weight_kg', 'quantity']] = preprocessing.StandardScaler().fit_transform(X[['trade_usd', 'weight_kg', 'quantity']].values)\n",
    "X['category'] = preprocessing.LabelEncoder().fit_transform(X['category'])\n",
    "X['year'] = preprocessing.LabelEncoder().fit_transform(X['year'])\n",
    "pca = PCA().fit(X)\n",
    "plt.plot(np.cumsum(pca.explained_variance_ratio_))\n",
    "plt.xlabel('number of components')\n",
    "plt.ylabel('cumulative explained variance');"
   ]
  },
  {
   "cell_type": "code",
   "execution_count": 284,
   "metadata": {},
   "outputs": [
    {
     "data": {
      "text/html": [
       "<div>\n",
       "<style scoped>\n",
       "    .dataframe tbody tr th:only-of-type {\n",
       "        vertical-align: middle;\n",
       "    }\n",
       "\n",
       "    .dataframe tbody tr th {\n",
       "        vertical-align: top;\n",
       "    }\n",
       "\n",
       "    .dataframe thead th {\n",
       "        text-align: right;\n",
       "    }\n",
       "</style>\n",
       "<table border=\"1\" class=\"dataframe\">\n",
       "  <thead>\n",
       "    <tr style=\"text-align: right;\">\n",
       "      <th></th>\n",
       "      <th>country_or_area</th>\n",
       "      <th>year</th>\n",
       "      <th>comm_code</th>\n",
       "      <th>commodity</th>\n",
       "      <th>flow</th>\n",
       "      <th>trade_usd</th>\n",
       "      <th>weight_kg</th>\n",
       "      <th>quantity_name</th>\n",
       "      <th>quantity</th>\n",
       "      <th>category</th>\n",
       "      <th>Region_x</th>\n",
       "      <th>Country</th>\n",
       "      <th>Region_y</th>\n",
       "    </tr>\n",
       "  </thead>\n",
       "  <tbody>\n",
       "    <tr>\n",
       "      <th>0</th>\n",
       "      <td>Afghanistan</td>\n",
       "      <td>2016</td>\n",
       "      <td>10410</td>\n",
       "      <td>Sheep, live</td>\n",
       "      <td>Export</td>\n",
       "      <td>6088</td>\n",
       "      <td>2339.0</td>\n",
       "      <td>Number of items</td>\n",
       "      <td>51.0</td>\n",
       "      <td>01_live_animals</td>\n",
       "      <td>NaN</td>\n",
       "      <td>Afghanistan</td>\n",
       "      <td>ASIA</td>\n",
       "    </tr>\n",
       "    <tr>\n",
       "      <th>1</th>\n",
       "      <td>Afghanistan</td>\n",
       "      <td>2016</td>\n",
       "      <td>10420</td>\n",
       "      <td>Goats, live</td>\n",
       "      <td>Export</td>\n",
       "      <td>3958</td>\n",
       "      <td>984.0</td>\n",
       "      <td>Number of items</td>\n",
       "      <td>53.0</td>\n",
       "      <td>01_live_animals</td>\n",
       "      <td>NaN</td>\n",
       "      <td>Afghanistan</td>\n",
       "      <td>ASIA</td>\n",
       "    </tr>\n",
       "    <tr>\n",
       "      <th>2</th>\n",
       "      <td>Afghanistan</td>\n",
       "      <td>2008</td>\n",
       "      <td>10210</td>\n",
       "      <td>Bovine animals, live pure-bred breeding</td>\n",
       "      <td>Import</td>\n",
       "      <td>1026804</td>\n",
       "      <td>272.0</td>\n",
       "      <td>Number of items</td>\n",
       "      <td>3769.0</td>\n",
       "      <td>01_live_animals</td>\n",
       "      <td>NaN</td>\n",
       "      <td>Afghanistan</td>\n",
       "      <td>ASIA</td>\n",
       "    </tr>\n",
       "    <tr>\n",
       "      <th>3</th>\n",
       "      <td>Albania</td>\n",
       "      <td>2016</td>\n",
       "      <td>10290</td>\n",
       "      <td>Bovine animals, live, except pure-bred breeding</td>\n",
       "      <td>Import</td>\n",
       "      <td>2414533</td>\n",
       "      <td>1114023.0</td>\n",
       "      <td>Number of items</td>\n",
       "      <td>6853.0</td>\n",
       "      <td>01_live_animals</td>\n",
       "      <td>NaN</td>\n",
       "      <td>Albania</td>\n",
       "      <td>EUROPE</td>\n",
       "    </tr>\n",
       "    <tr>\n",
       "      <th>4</th>\n",
       "      <td>Albania</td>\n",
       "      <td>2016</td>\n",
       "      <td>10392</td>\n",
       "      <td>Swine, live except pure-bred breeding &gt; 50 kg</td>\n",
       "      <td>Import</td>\n",
       "      <td>14265937</td>\n",
       "      <td>9484953.0</td>\n",
       "      <td>Number of items</td>\n",
       "      <td>96040.0</td>\n",
       "      <td>01_live_animals</td>\n",
       "      <td>NaN</td>\n",
       "      <td>Albania</td>\n",
       "      <td>EUROPE</td>\n",
       "    </tr>\n",
       "  </tbody>\n",
       "</table>\n",
       "</div>"
      ],
      "text/plain": [
       "  country_or_area  year comm_code  \\\n",
       "0     Afghanistan  2016     10410   \n",
       "1     Afghanistan  2016     10420   \n",
       "2     Afghanistan  2008     10210   \n",
       "3         Albania  2016     10290   \n",
       "4         Albania  2016     10392   \n",
       "\n",
       "                                         commodity    flow  trade_usd  \\\n",
       "0                                      Sheep, live  Export       6088   \n",
       "1                                      Goats, live  Export       3958   \n",
       "2          Bovine animals, live pure-bred breeding  Import    1026804   \n",
       "3  Bovine animals, live, except pure-bred breeding  Import    2414533   \n",
       "4    Swine, live except pure-bred breeding > 50 kg  Import   14265937   \n",
       "\n",
       "   weight_kg    quantity_name  quantity         category Region_x  \\\n",
       "0     2339.0  Number of items      51.0  01_live_animals      NaN   \n",
       "1      984.0  Number of items      53.0  01_live_animals      NaN   \n",
       "2      272.0  Number of items    3769.0  01_live_animals      NaN   \n",
       "3  1114023.0  Number of items    6853.0  01_live_animals      NaN   \n",
       "4  9484953.0  Number of items   96040.0  01_live_animals      NaN   \n",
       "\n",
       "       Country Region_y  \n",
       "0  Afghanistan     ASIA  \n",
       "1  Afghanistan     ASIA  \n",
       "2  Afghanistan     ASIA  \n",
       "3      Albania   EUROPE  \n",
       "4      Albania   EUROPE  "
      ]
     },
     "execution_count": 284,
     "metadata": {},
     "output_type": "execute_result"
    }
   ],
   "source": [
    "data.head()"
   ]
  },
  {
   "cell_type": "code",
   "execution_count": 292,
   "metadata": {},
   "outputs": [
    {
     "data": {
      "text/plain": [
       "array(['Horses, live pure-bred breeding',\n",
       "       'Horses, live except pure-bred breeding',\n",
       "       'Asses, mules and hinnies, live',\n",
       "       'Bovine animals, live pure-bred breeding',\n",
       "       'Bovine animals, live, except pure-bred breeding',\n",
       "       'Swine, live pure-bred breeding',\n",
       "       'Swine, live except pure-bred breeding < 50 kg',\n",
       "       'Swine, live except pure-bred breeding > 50 kg', 'Sheep, live',\n",
       "       'Goats, live', 'Fowls, live domestic < 185 grams',\n",
       "       'Poultry, live except domestic fowls, < 185 grams',\n",
       "       'Fowls, live domestic > 185 grams',\n",
       "       'Poultry, live except domestic fowls, > 185 grams',\n",
       "       'Animals, live, except farm animals'], dtype=object)"
      ]
     },
     "execution_count": 292,
     "metadata": {},
     "output_type": "execute_result"
    }
   ],
   "source": [
    "data[(data['country_or_area'] == 'Serbia') & (data['category'] == '01_live_animals')].commodity.unique()"
   ]
  },
  {
   "cell_type": "code",
   "execution_count": 293,
   "metadata": {},
   "outputs": [
    {
     "data": {
      "text/html": [
       "<div>\n",
       "<style scoped>\n",
       "    .dataframe tbody tr th:only-of-type {\n",
       "        vertical-align: middle;\n",
       "    }\n",
       "\n",
       "    .dataframe tbody tr th {\n",
       "        vertical-align: top;\n",
       "    }\n",
       "\n",
       "    .dataframe thead th {\n",
       "        text-align: right;\n",
       "    }\n",
       "</style>\n",
       "<table border=\"1\" class=\"dataframe\">\n",
       "  <thead>\n",
       "    <tr style=\"text-align: right;\">\n",
       "      <th></th>\n",
       "      <th>country_or_area</th>\n",
       "      <th>year</th>\n",
       "      <th>comm_code</th>\n",
       "      <th>commodity</th>\n",
       "      <th>flow</th>\n",
       "      <th>trade_usd</th>\n",
       "      <th>weight_kg</th>\n",
       "      <th>quantity_name</th>\n",
       "      <th>quantity</th>\n",
       "      <th>category</th>\n",
       "      <th>Region_x</th>\n",
       "      <th>Country</th>\n",
       "      <th>Region_y</th>\n",
       "    </tr>\n",
       "  </thead>\n",
       "  <tbody>\n",
       "    <tr>\n",
       "      <th>3</th>\n",
       "      <td>Albania</td>\n",
       "      <td>2016</td>\n",
       "      <td>10290</td>\n",
       "      <td>Bovine animals, live, except pure-bred breeding</td>\n",
       "      <td>Import</td>\n",
       "      <td>2414533</td>\n",
       "      <td>1114023.0</td>\n",
       "      <td>Number of items</td>\n",
       "      <td>6853.0</td>\n",
       "      <td>01_live_animals</td>\n",
       "      <td>NaN</td>\n",
       "      <td>Albania</td>\n",
       "      <td>EUROPE</td>\n",
       "    </tr>\n",
       "    <tr>\n",
       "      <th>4</th>\n",
       "      <td>Albania</td>\n",
       "      <td>2016</td>\n",
       "      <td>10392</td>\n",
       "      <td>Swine, live except pure-bred breeding &gt; 50 kg</td>\n",
       "      <td>Import</td>\n",
       "      <td>14265937</td>\n",
       "      <td>9484953.0</td>\n",
       "      <td>Number of items</td>\n",
       "      <td>96040.0</td>\n",
       "      <td>01_live_animals</td>\n",
       "      <td>NaN</td>\n",
       "      <td>Albania</td>\n",
       "      <td>EUROPE</td>\n",
       "    </tr>\n",
       "    <tr>\n",
       "      <th>5</th>\n",
       "      <td>Albania</td>\n",
       "      <td>2016</td>\n",
       "      <td>10511</td>\n",
       "      <td>Fowls, live domestic &lt; 185 grams</td>\n",
       "      <td>Import</td>\n",
       "      <td>2671732</td>\n",
       "      <td>254652.0</td>\n",
       "      <td>Number of items</td>\n",
       "      <td>5629138.0</td>\n",
       "      <td>01_live_animals</td>\n",
       "      <td>NaN</td>\n",
       "      <td>Albania</td>\n",
       "      <td>EUROPE</td>\n",
       "    </tr>\n",
       "    <tr>\n",
       "      <th>6</th>\n",
       "      <td>Albania</td>\n",
       "      <td>2016</td>\n",
       "      <td>10511</td>\n",
       "      <td>Fowls, live domestic &lt; 185 grams</td>\n",
       "      <td>Export</td>\n",
       "      <td>87581</td>\n",
       "      <td>5320.0</td>\n",
       "      <td>Number of items</td>\n",
       "      <td>115180.0</td>\n",
       "      <td>01_live_animals</td>\n",
       "      <td>NaN</td>\n",
       "      <td>Albania</td>\n",
       "      <td>EUROPE</td>\n",
       "    </tr>\n",
       "    <tr>\n",
       "      <th>7</th>\n",
       "      <td>Albania</td>\n",
       "      <td>2016</td>\n",
       "      <td>10519</td>\n",
       "      <td>Poultry, live except domestic fowls, &lt; 185 grams</td>\n",
       "      <td>Import</td>\n",
       "      <td>26485</td>\n",
       "      <td>2908.0</td>\n",
       "      <td>Number of items</td>\n",
       "      <td>64000.0</td>\n",
       "      <td>01_live_animals</td>\n",
       "      <td>NaN</td>\n",
       "      <td>Albania</td>\n",
       "      <td>EUROPE</td>\n",
       "    </tr>\n",
       "  </tbody>\n",
       "</table>\n",
       "</div>"
      ],
      "text/plain": [
       "  country_or_area  year comm_code  \\\n",
       "3         Albania  2016     10290   \n",
       "4         Albania  2016     10392   \n",
       "5         Albania  2016     10511   \n",
       "6         Albania  2016     10511   \n",
       "7         Albania  2016     10519   \n",
       "\n",
       "                                          commodity    flow  trade_usd  \\\n",
       "3   Bovine animals, live, except pure-bred breeding  Import    2414533   \n",
       "4     Swine, live except pure-bred breeding > 50 kg  Import   14265937   \n",
       "5                  Fowls, live domestic < 185 grams  Import    2671732   \n",
       "6                  Fowls, live domestic < 185 grams  Export      87581   \n",
       "7  Poultry, live except domestic fowls, < 185 grams  Import      26485   \n",
       "\n",
       "   weight_kg    quantity_name   quantity         category Region_x  Country  \\\n",
       "3  1114023.0  Number of items     6853.0  01_live_animals      NaN  Albania   \n",
       "4  9484953.0  Number of items    96040.0  01_live_animals      NaN  Albania   \n",
       "5   254652.0  Number of items  5629138.0  01_live_animals      NaN  Albania   \n",
       "6     5320.0  Number of items   115180.0  01_live_animals      NaN  Albania   \n",
       "7     2908.0  Number of items    64000.0  01_live_animals      NaN  Albania   \n",
       "\n",
       "  Region_y  \n",
       "3   EUROPE  \n",
       "4   EUROPE  \n",
       "5   EUROPE  \n",
       "6   EUROPE  \n",
       "7   EUROPE  "
      ]
     },
     "execution_count": 293,
     "metadata": {},
     "output_type": "execute_result"
    }
   ],
   "source": [
    "europe.head()"
   ]
  },
  {
   "cell_type": "code",
   "execution_count": 6,
   "metadata": {},
   "outputs": [],
   "source": [
    "features = ['year', 'flow', 'trade_usd', 'weight_kg', 'quantity_name', 'quantity']\n",
    "row_filter = europe['category'] == '01_live_animals'"
   ]
  },
  {
   "cell_type": "code",
   "execution_count": 9,
   "metadata": {},
   "outputs": [
    {
     "data": {
      "text/html": [
       "<div>\n",
       "<style scoped>\n",
       "    .dataframe tbody tr th:only-of-type {\n",
       "        vertical-align: middle;\n",
       "    }\n",
       "\n",
       "    .dataframe tbody tr th {\n",
       "        vertical-align: top;\n",
       "    }\n",
       "\n",
       "    .dataframe thead th {\n",
       "        text-align: right;\n",
       "    }\n",
       "</style>\n",
       "<table border=\"1\" class=\"dataframe\">\n",
       "  <thead>\n",
       "    <tr style=\"text-align: right;\">\n",
       "      <th></th>\n",
       "      <th>country_or_area</th>\n",
       "      <th>year</th>\n",
       "      <th>comm_code</th>\n",
       "      <th>commodity</th>\n",
       "      <th>flow</th>\n",
       "      <th>trade_usd</th>\n",
       "      <th>weight_kg</th>\n",
       "      <th>quantity_name</th>\n",
       "      <th>quantity</th>\n",
       "      <th>category</th>\n",
       "      <th>Region_x</th>\n",
       "      <th>Country</th>\n",
       "      <th>Region_y</th>\n",
       "    </tr>\n",
       "  </thead>\n",
       "  <tbody>\n",
       "    <tr>\n",
       "      <th>3</th>\n",
       "      <td>Albania</td>\n",
       "      <td>2016</td>\n",
       "      <td>10290</td>\n",
       "      <td>Bovine animals, live, except pure-bred breeding</td>\n",
       "      <td>Import</td>\n",
       "      <td>2414533</td>\n",
       "      <td>1114023.0</td>\n",
       "      <td>Number of items</td>\n",
       "      <td>6853.0</td>\n",
       "      <td>01_live_animals</td>\n",
       "      <td>NaN</td>\n",
       "      <td>Albania</td>\n",
       "      <td>EUROPE</td>\n",
       "    </tr>\n",
       "    <tr>\n",
       "      <th>4</th>\n",
       "      <td>Albania</td>\n",
       "      <td>2016</td>\n",
       "      <td>10392</td>\n",
       "      <td>Swine, live except pure-bred breeding &gt; 50 kg</td>\n",
       "      <td>Import</td>\n",
       "      <td>14265937</td>\n",
       "      <td>9484953.0</td>\n",
       "      <td>Number of items</td>\n",
       "      <td>96040.0</td>\n",
       "      <td>01_live_animals</td>\n",
       "      <td>NaN</td>\n",
       "      <td>Albania</td>\n",
       "      <td>EUROPE</td>\n",
       "    </tr>\n",
       "    <tr>\n",
       "      <th>5</th>\n",
       "      <td>Albania</td>\n",
       "      <td>2016</td>\n",
       "      <td>10511</td>\n",
       "      <td>Fowls, live domestic &lt; 185 grams</td>\n",
       "      <td>Import</td>\n",
       "      <td>2671732</td>\n",
       "      <td>254652.0</td>\n",
       "      <td>Number of items</td>\n",
       "      <td>5629138.0</td>\n",
       "      <td>01_live_animals</td>\n",
       "      <td>NaN</td>\n",
       "      <td>Albania</td>\n",
       "      <td>EUROPE</td>\n",
       "    </tr>\n",
       "    <tr>\n",
       "      <th>6</th>\n",
       "      <td>Albania</td>\n",
       "      <td>2016</td>\n",
       "      <td>10511</td>\n",
       "      <td>Fowls, live domestic &lt; 185 grams</td>\n",
       "      <td>Export</td>\n",
       "      <td>87581</td>\n",
       "      <td>5320.0</td>\n",
       "      <td>Number of items</td>\n",
       "      <td>115180.0</td>\n",
       "      <td>01_live_animals</td>\n",
       "      <td>NaN</td>\n",
       "      <td>Albania</td>\n",
       "      <td>EUROPE</td>\n",
       "    </tr>\n",
       "    <tr>\n",
       "      <th>7</th>\n",
       "      <td>Albania</td>\n",
       "      <td>2016</td>\n",
       "      <td>10519</td>\n",
       "      <td>Poultry, live except domestic fowls, &lt; 185 grams</td>\n",
       "      <td>Import</td>\n",
       "      <td>26485</td>\n",
       "      <td>2908.0</td>\n",
       "      <td>Number of items</td>\n",
       "      <td>64000.0</td>\n",
       "      <td>01_live_animals</td>\n",
       "      <td>NaN</td>\n",
       "      <td>Albania</td>\n",
       "      <td>EUROPE</td>\n",
       "    </tr>\n",
       "  </tbody>\n",
       "</table>\n",
       "</div>"
      ],
      "text/plain": [
       "  country_or_area  year comm_code  \\\n",
       "3         Albania  2016     10290   \n",
       "4         Albania  2016     10392   \n",
       "5         Albania  2016     10511   \n",
       "6         Albania  2016     10511   \n",
       "7         Albania  2016     10519   \n",
       "\n",
       "                                          commodity    flow  trade_usd  \\\n",
       "3   Bovine animals, live, except pure-bred breeding  Import    2414533   \n",
       "4     Swine, live except pure-bred breeding > 50 kg  Import   14265937   \n",
       "5                  Fowls, live domestic < 185 grams  Import    2671732   \n",
       "6                  Fowls, live domestic < 185 grams  Export      87581   \n",
       "7  Poultry, live except domestic fowls, < 185 grams  Import      26485   \n",
       "\n",
       "   weight_kg    quantity_name   quantity         category Region_x  Country  \\\n",
       "3  1114023.0  Number of items     6853.0  01_live_animals      NaN  Albania   \n",
       "4  9484953.0  Number of items    96040.0  01_live_animals      NaN  Albania   \n",
       "5   254652.0  Number of items  5629138.0  01_live_animals      NaN  Albania   \n",
       "6     5320.0  Number of items   115180.0  01_live_animals      NaN  Albania   \n",
       "7     2908.0  Number of items    64000.0  01_live_animals      NaN  Albania   \n",
       "\n",
       "  Region_y  \n",
       "3   EUROPE  \n",
       "4   EUROPE  \n",
       "5   EUROPE  \n",
       "6   EUROPE  \n",
       "7   EUROPE  "
      ]
     },
     "execution_count": 9,
     "metadata": {},
     "output_type": "execute_result"
    }
   ],
   "source": [
    "europe[row_filter].head()"
   ]
  },
  {
   "cell_type": "code",
   "execution_count": 10,
   "metadata": {},
   "outputs": [
    {
     "data": {
      "text/html": [
       "<div>\n",
       "<style scoped>\n",
       "    .dataframe tbody tr th:only-of-type {\n",
       "        vertical-align: middle;\n",
       "    }\n",
       "\n",
       "    .dataframe tbody tr th {\n",
       "        vertical-align: top;\n",
       "    }\n",
       "\n",
       "    .dataframe thead th {\n",
       "        text-align: right;\n",
       "    }\n",
       "</style>\n",
       "<table border=\"1\" class=\"dataframe\">\n",
       "  <thead>\n",
       "    <tr style=\"text-align: right;\">\n",
       "      <th></th>\n",
       "      <th>year</th>\n",
       "      <th>flow</th>\n",
       "      <th>trade_usd</th>\n",
       "      <th>weight_kg</th>\n",
       "      <th>quantity_name</th>\n",
       "      <th>quantity</th>\n",
       "    </tr>\n",
       "  </thead>\n",
       "  <tbody>\n",
       "    <tr>\n",
       "      <th>3</th>\n",
       "      <td>2016</td>\n",
       "      <td>Import</td>\n",
       "      <td>2414533</td>\n",
       "      <td>1114023.0</td>\n",
       "      <td>Number of items</td>\n",
       "      <td>6853.0</td>\n",
       "    </tr>\n",
       "    <tr>\n",
       "      <th>4</th>\n",
       "      <td>2016</td>\n",
       "      <td>Import</td>\n",
       "      <td>14265937</td>\n",
       "      <td>9484953.0</td>\n",
       "      <td>Number of items</td>\n",
       "      <td>96040.0</td>\n",
       "    </tr>\n",
       "    <tr>\n",
       "      <th>5</th>\n",
       "      <td>2016</td>\n",
       "      <td>Import</td>\n",
       "      <td>2671732</td>\n",
       "      <td>254652.0</td>\n",
       "      <td>Number of items</td>\n",
       "      <td>5629138.0</td>\n",
       "    </tr>\n",
       "    <tr>\n",
       "      <th>6</th>\n",
       "      <td>2016</td>\n",
       "      <td>Export</td>\n",
       "      <td>87581</td>\n",
       "      <td>5320.0</td>\n",
       "      <td>Number of items</td>\n",
       "      <td>115180.0</td>\n",
       "    </tr>\n",
       "    <tr>\n",
       "      <th>7</th>\n",
       "      <td>2016</td>\n",
       "      <td>Import</td>\n",
       "      <td>26485</td>\n",
       "      <td>2908.0</td>\n",
       "      <td>Number of items</td>\n",
       "      <td>64000.0</td>\n",
       "    </tr>\n",
       "  </tbody>\n",
       "</table>\n",
       "</div>"
      ],
      "text/plain": [
       "   year    flow  trade_usd  weight_kg    quantity_name   quantity\n",
       "3  2016  Import    2414533  1114023.0  Number of items     6853.0\n",
       "4  2016  Import   14265937  9484953.0  Number of items    96040.0\n",
       "5  2016  Import    2671732   254652.0  Number of items  5629138.0\n",
       "6  2016  Export      87581     5320.0  Number of items   115180.0\n",
       "7  2016  Import      26485     2908.0  Number of items    64000.0"
      ]
     },
     "execution_count": 10,
     "metadata": {},
     "output_type": "execute_result"
    }
   ],
   "source": [
    "europe[row_filter][features].head()"
   ]
  },
  {
   "cell_type": "code",
   "execution_count": 12,
   "metadata": {},
   "outputs": [
    {
     "data": {
      "text/plain": [
       "year                0\n",
       "flow                0\n",
       "trade_usd           0\n",
       "weight_kg         399\n",
       "quantity_name       0\n",
       "quantity         2383\n",
       "dtype: int64"
      ]
     },
     "execution_count": 12,
     "metadata": {},
     "output_type": "execute_result"
    }
   ],
   "source": [
    "europe[row_filter][features].isnull().sum()"
   ]
  },
  {
   "cell_type": "code",
   "execution_count": 21,
   "metadata": {},
   "outputs": [],
   "source": [
    "X = europe[row_filter][features]\n",
    "\n",
    "categoricalFeatures = ['year', 'flow', 'quantity_name']\n",
    "numericalFeatures = ['trade_usd', 'weight_kg', 'quantity']\n",
    "labelEncoderDict = defaultdict(preprocessing.LabelEncoder)\n",
    "\n",
    "X[categoricalFeatures] = X[categoricalFeatures].apply(lambda x: labelEncoderDict[x.name].fit_transform(x)) "
   ]
  },
  {
   "cell_type": "code",
   "execution_count": 22,
   "metadata": {},
   "outputs": [
    {
     "data": {
      "text/html": [
       "<div>\n",
       "<style scoped>\n",
       "    .dataframe tbody tr th:only-of-type {\n",
       "        vertical-align: middle;\n",
       "    }\n",
       "\n",
       "    .dataframe tbody tr th {\n",
       "        vertical-align: top;\n",
       "    }\n",
       "\n",
       "    .dataframe thead th {\n",
       "        text-align: right;\n",
       "    }\n",
       "</style>\n",
       "<table border=\"1\" class=\"dataframe\">\n",
       "  <thead>\n",
       "    <tr style=\"text-align: right;\">\n",
       "      <th></th>\n",
       "      <th>year</th>\n",
       "      <th>flow</th>\n",
       "      <th>trade_usd</th>\n",
       "      <th>weight_kg</th>\n",
       "      <th>quantity_name</th>\n",
       "      <th>quantity</th>\n",
       "    </tr>\n",
       "  </thead>\n",
       "  <tbody>\n",
       "    <tr>\n",
       "      <th>3</th>\n",
       "      <td>28</td>\n",
       "      <td>1</td>\n",
       "      <td>2414533</td>\n",
       "      <td>1114023.0</td>\n",
       "      <td>1</td>\n",
       "      <td>6853.0</td>\n",
       "    </tr>\n",
       "    <tr>\n",
       "      <th>4</th>\n",
       "      <td>28</td>\n",
       "      <td>1</td>\n",
       "      <td>14265937</td>\n",
       "      <td>9484953.0</td>\n",
       "      <td>1</td>\n",
       "      <td>96040.0</td>\n",
       "    </tr>\n",
       "    <tr>\n",
       "      <th>5</th>\n",
       "      <td>28</td>\n",
       "      <td>1</td>\n",
       "      <td>2671732</td>\n",
       "      <td>254652.0</td>\n",
       "      <td>1</td>\n",
       "      <td>5629138.0</td>\n",
       "    </tr>\n",
       "    <tr>\n",
       "      <th>6</th>\n",
       "      <td>28</td>\n",
       "      <td>0</td>\n",
       "      <td>87581</td>\n",
       "      <td>5320.0</td>\n",
       "      <td>1</td>\n",
       "      <td>115180.0</td>\n",
       "    </tr>\n",
       "    <tr>\n",
       "      <th>7</th>\n",
       "      <td>28</td>\n",
       "      <td>1</td>\n",
       "      <td>26485</td>\n",
       "      <td>2908.0</td>\n",
       "      <td>1</td>\n",
       "      <td>64000.0</td>\n",
       "    </tr>\n",
       "  </tbody>\n",
       "</table>\n",
       "</div>"
      ],
      "text/plain": [
       "   year  flow  trade_usd  weight_kg  quantity_name   quantity\n",
       "3    28     1    2414533  1114023.0              1     6853.0\n",
       "4    28     1   14265937  9484953.0              1    96040.0\n",
       "5    28     1    2671732   254652.0              1  5629138.0\n",
       "6    28     0      87581     5320.0              1   115180.0\n",
       "7    28     1      26485     2908.0              1    64000.0"
      ]
     },
     "execution_count": 22,
     "metadata": {},
     "output_type": "execute_result"
    }
   ],
   "source": [
    "X.head()"
   ]
  },
  {
   "cell_type": "code",
   "execution_count": 23,
   "metadata": {},
   "outputs": [
    {
     "data": {
      "text/plain": [
       "(19769, 6)"
      ]
     },
     "execution_count": 23,
     "metadata": {},
     "output_type": "execute_result"
    }
   ],
   "source": [
    "X.shape"
   ]
  },
  {
   "cell_type": "code",
   "execution_count": 24,
   "metadata": {},
   "outputs": [
    {
     "data": {
      "text/plain": [
       "(17106, 6)"
      ]
     },
     "execution_count": 24,
     "metadata": {},
     "output_type": "execute_result"
    }
   ],
   "source": [
    "X.dropna().shape"
   ]
  },
  {
   "cell_type": "code",
   "execution_count": 25,
   "metadata": {},
   "outputs": [],
   "source": [
    "X = X.dropna()"
   ]
  },
  {
   "cell_type": "code",
   "execution_count": 27,
   "metadata": {},
   "outputs": [
    {
     "data": {
      "text/html": [
       "<div>\n",
       "<style scoped>\n",
       "    .dataframe tbody tr th:only-of-type {\n",
       "        vertical-align: middle;\n",
       "    }\n",
       "\n",
       "    .dataframe tbody tr th {\n",
       "        vertical-align: top;\n",
       "    }\n",
       "\n",
       "    .dataframe thead th {\n",
       "        text-align: right;\n",
       "    }\n",
       "</style>\n",
       "<table border=\"1\" class=\"dataframe\">\n",
       "  <thead>\n",
       "    <tr style=\"text-align: right;\">\n",
       "      <th></th>\n",
       "      <th>year</th>\n",
       "      <th>flow</th>\n",
       "      <th>trade_usd</th>\n",
       "      <th>weight_kg</th>\n",
       "      <th>quantity_name</th>\n",
       "      <th>quantity</th>\n",
       "    </tr>\n",
       "  </thead>\n",
       "  <tbody>\n",
       "    <tr>\n",
       "      <th>3</th>\n",
       "      <td>28</td>\n",
       "      <td>1</td>\n",
       "      <td>2414533</td>\n",
       "      <td>1114023.0</td>\n",
       "      <td>1</td>\n",
       "      <td>6853.0</td>\n",
       "    </tr>\n",
       "    <tr>\n",
       "      <th>4</th>\n",
       "      <td>28</td>\n",
       "      <td>1</td>\n",
       "      <td>14265937</td>\n",
       "      <td>9484953.0</td>\n",
       "      <td>1</td>\n",
       "      <td>96040.0</td>\n",
       "    </tr>\n",
       "    <tr>\n",
       "      <th>5</th>\n",
       "      <td>28</td>\n",
       "      <td>1</td>\n",
       "      <td>2671732</td>\n",
       "      <td>254652.0</td>\n",
       "      <td>1</td>\n",
       "      <td>5629138.0</td>\n",
       "    </tr>\n",
       "    <tr>\n",
       "      <th>6</th>\n",
       "      <td>28</td>\n",
       "      <td>0</td>\n",
       "      <td>87581</td>\n",
       "      <td>5320.0</td>\n",
       "      <td>1</td>\n",
       "      <td>115180.0</td>\n",
       "    </tr>\n",
       "    <tr>\n",
       "      <th>7</th>\n",
       "      <td>28</td>\n",
       "      <td>1</td>\n",
       "      <td>26485</td>\n",
       "      <td>2908.0</td>\n",
       "      <td>1</td>\n",
       "      <td>64000.0</td>\n",
       "    </tr>\n",
       "  </tbody>\n",
       "</table>\n",
       "</div>"
      ],
      "text/plain": [
       "   year  flow  trade_usd  weight_kg  quantity_name   quantity\n",
       "3    28     1    2414533  1114023.0              1     6853.0\n",
       "4    28     1   14265937  9484953.0              1    96040.0\n",
       "5    28     1    2671732   254652.0              1  5629138.0\n",
       "6    28     0      87581     5320.0              1   115180.0\n",
       "7    28     1      26485     2908.0              1    64000.0"
      ]
     },
     "execution_count": 27,
     "metadata": {},
     "output_type": "execute_result"
    }
   ],
   "source": [
    "X.head()"
   ]
  },
  {
   "cell_type": "code",
   "execution_count": 28,
   "metadata": {},
   "outputs": [],
   "source": [
    "X[numericalFeatures] = preprocessing.RobustScaler().fit_transform(X[numericalFeatures])"
   ]
  },
  {
   "cell_type": "code",
   "execution_count": 29,
   "metadata": {},
   "outputs": [
    {
     "data": {
      "text/html": [
       "<div>\n",
       "<style scoped>\n",
       "    .dataframe tbody tr th:only-of-type {\n",
       "        vertical-align: middle;\n",
       "    }\n",
       "\n",
       "    .dataframe tbody tr th {\n",
       "        vertical-align: top;\n",
       "    }\n",
       "\n",
       "    .dataframe thead th {\n",
       "        text-align: right;\n",
       "    }\n",
       "</style>\n",
       "<table border=\"1\" class=\"dataframe\">\n",
       "  <thead>\n",
       "    <tr style=\"text-align: right;\">\n",
       "      <th></th>\n",
       "      <th>year</th>\n",
       "      <th>flow</th>\n",
       "      <th>trade_usd</th>\n",
       "      <th>weight_kg</th>\n",
       "      <th>quantity_name</th>\n",
       "      <th>quantity</th>\n",
       "    </tr>\n",
       "  </thead>\n",
       "  <tbody>\n",
       "    <tr>\n",
       "      <th>3</th>\n",
       "      <td>28</td>\n",
       "      <td>1</td>\n",
       "      <td>0.224803</td>\n",
       "      <td>0.680226</td>\n",
       "      <td>1</td>\n",
       "      <td>-0.040872</td>\n",
       "    </tr>\n",
       "    <tr>\n",
       "      <th>4</th>\n",
       "      <td>28</td>\n",
       "      <td>1</td>\n",
       "      <td>1.978866</td>\n",
       "      <td>6.501940</td>\n",
       "      <td>1</td>\n",
       "      <td>0.184883</td>\n",
       "    </tr>\n",
       "    <tr>\n",
       "      <th>5</th>\n",
       "      <td>28</td>\n",
       "      <td>1</td>\n",
       "      <td>0.262870</td>\n",
       "      <td>0.082560</td>\n",
       "      <td>1</td>\n",
       "      <td>14.190554</td>\n",
       "    </tr>\n",
       "    <tr>\n",
       "      <th>6</th>\n",
       "      <td>28</td>\n",
       "      <td>0</td>\n",
       "      <td>-0.119596</td>\n",
       "      <td>-0.090842</td>\n",
       "      <td>1</td>\n",
       "      <td>0.233331</td>\n",
       "    </tr>\n",
       "    <tr>\n",
       "      <th>7</th>\n",
       "      <td>28</td>\n",
       "      <td>1</td>\n",
       "      <td>-0.128639</td>\n",
       "      <td>-0.092520</td>\n",
       "      <td>1</td>\n",
       "      <td>0.103781</td>\n",
       "    </tr>\n",
       "  </tbody>\n",
       "</table>\n",
       "</div>"
      ],
      "text/plain": [
       "   year  flow  trade_usd  weight_kg  quantity_name   quantity\n",
       "3    28     1   0.224803   0.680226              1  -0.040872\n",
       "4    28     1   1.978866   6.501940              1   0.184883\n",
       "5    28     1   0.262870   0.082560              1  14.190554\n",
       "6    28     0  -0.119596  -0.090842              1   0.233331\n",
       "7    28     1  -0.128639  -0.092520              1   0.103781"
      ]
     },
     "execution_count": 29,
     "metadata": {},
     "output_type": "execute_result"
    }
   ],
   "source": [
    "X.head()"
   ]
  },
  {
   "cell_type": "code",
   "execution_count": 34,
   "metadata": {},
   "outputs": [
    {
     "data": {
      "text/plain": [
       "156"
      ]
     },
     "execution_count": 34,
     "metadata": {},
     "output_type": "execute_result"
    }
   ],
   "source": [
    "dbscan = DBSCAN().fit(X)\n",
    "len(set(dbscan.labels_))"
   ]
  },
  {
   "cell_type": "code",
   "execution_count": 39,
   "metadata": {},
   "outputs": [],
   "source": [
    "from sklearn.decomposition import PCA\n",
    "import matplotlib.pyplot as plt"
   ]
  },
  {
   "cell_type": "code",
   "execution_count": 36,
   "metadata": {},
   "outputs": [],
   "source": [
    "# Lets try PCA\n",
    "\n",
    "X2 = PCA(2).fit_transform(X)"
   ]
  },
  {
   "cell_type": "code",
   "execution_count": 37,
   "metadata": {},
   "outputs": [
    {
     "data": {
      "text/plain": [
       "(17106, 2)"
      ]
     },
     "execution_count": 37,
     "metadata": {},
     "output_type": "execute_result"
    }
   ],
   "source": [
    "X2.shape"
   ]
  },
  {
   "cell_type": "code",
   "execution_count": 40,
   "metadata": {},
   "outputs": [
    {
     "data": {
      "text/plain": [
       "<matplotlib.collections.PathCollection at 0x1a1ddf6f60>"
      ]
     },
     "execution_count": 40,
     "metadata": {},
     "output_type": "execute_result"
    },
    {
     "data": {
      "image/png": "[encoded data removed]",
      "text/plain": [
       "<matplotlib.figure.Figure at 0x1a1d808518>"
      ]
     },
     "metadata": {},
     "output_type": "display_data"
    }
   ],
   "source": [
    "plt.scatter(X2[:,0], X2[:,1])"
   ]
  },
  {
   "cell_type": "code",
   "execution_count": 41,
   "metadata": {},
   "outputs": [
    {
     "data": {
      "text/plain": [
       "(17106, 2)"
      ]
     },
     "execution_count": 41,
     "metadata": {},
     "output_type": "execute_result"
    }
   ],
   "source": [
    "X2.shape"
   ]
  },
  {
   "cell_type": "code",
   "execution_count": 42,
   "metadata": {},
   "outputs": [
    {
     "data": {
      "text/plain": [
       "(17106, 6)"
      ]
     },
     "execution_count": 42,
     "metadata": {},
     "output_type": "execute_result"
    }
   ],
   "source": [
    "X.shape"
   ]
  },
  {
   "cell_type": "code",
   "execution_count": 45,
   "metadata": {},
   "outputs": [
    {
     "data": {
      "text/plain": [
       "array([[-77.28272728,  -4.66651309],\n",
       "       [-77.05689703,   1.35999306],\n",
       "       [-63.05130805,  -5.19554366],\n",
       "       [-77.00853353,  -5.5100454 ],\n",
       "       [-77.13808423,  -5.51611765],\n",
       "       [-74.75112076,  -4.15108312],\n",
       "       [-76.78086184,  -5.37045102],\n",
       "       [-77.14941982,  -5.44543984],\n",
       "       [-77.2528827 ,  -2.8640974 ],\n",
       "       [-77.29808815,  -5.51513245]])"
      ]
     },
     "execution_count": 45,
     "metadata": {},
     "output_type": "execute_result"
    }
   ],
   "source": [
    "X2[0:10]"
   ]
  },
  {
   "cell_type": "code",
   "execution_count": 46,
   "metadata": {},
   "outputs": [
    {
     "data": {
      "text/html": [
       "<div>\n",
       "<style scoped>\n",
       "    .dataframe tbody tr th:only-of-type {\n",
       "        vertical-align: middle;\n",
       "    }\n",
       "\n",
       "    .dataframe tbody tr th {\n",
       "        vertical-align: top;\n",
       "    }\n",
       "\n",
       "    .dataframe thead th {\n",
       "        text-align: right;\n",
       "    }\n",
       "</style>\n",
       "<table border=\"1\" class=\"dataframe\">\n",
       "  <thead>\n",
       "    <tr style=\"text-align: right;\">\n",
       "      <th></th>\n",
       "      <th>year</th>\n",
       "      <th>flow</th>\n",
       "      <th>trade_usd</th>\n",
       "      <th>weight_kg</th>\n",
       "      <th>quantity_name</th>\n",
       "      <th>quantity</th>\n",
       "    </tr>\n",
       "  </thead>\n",
       "  <tbody>\n",
       "    <tr>\n",
       "      <th>3</th>\n",
       "      <td>28</td>\n",
       "      <td>1</td>\n",
       "      <td>0.224803</td>\n",
       "      <td>0.680226</td>\n",
       "      <td>1</td>\n",
       "      <td>-0.040872</td>\n",
       "    </tr>\n",
       "    <tr>\n",
       "      <th>4</th>\n",
       "      <td>28</td>\n",
       "      <td>1</td>\n",
       "      <td>1.978866</td>\n",
       "      <td>6.501940</td>\n",
       "      <td>1</td>\n",
       "      <td>0.184883</td>\n",
       "    </tr>\n",
       "    <tr>\n",
       "      <th>5</th>\n",
       "      <td>28</td>\n",
       "      <td>1</td>\n",
       "      <td>0.262870</td>\n",
       "      <td>0.082560</td>\n",
       "      <td>1</td>\n",
       "      <td>14.190554</td>\n",
       "    </tr>\n",
       "    <tr>\n",
       "      <th>6</th>\n",
       "      <td>28</td>\n",
       "      <td>0</td>\n",
       "      <td>-0.119596</td>\n",
       "      <td>-0.090842</td>\n",
       "      <td>1</td>\n",
       "      <td>0.233331</td>\n",
       "    </tr>\n",
       "    <tr>\n",
       "      <th>7</th>\n",
       "      <td>28</td>\n",
       "      <td>1</td>\n",
       "      <td>-0.128639</td>\n",
       "      <td>-0.092520</td>\n",
       "      <td>1</td>\n",
       "      <td>0.103781</td>\n",
       "    </tr>\n",
       "  </tbody>\n",
       "</table>\n",
       "</div>"
      ],
      "text/plain": [
       "   year  flow  trade_usd  weight_kg  quantity_name   quantity\n",
       "3    28     1   0.224803   0.680226              1  -0.040872\n",
       "4    28     1   1.978866   6.501940              1   0.184883\n",
       "5    28     1   0.262870   0.082560              1  14.190554\n",
       "6    28     0  -0.119596  -0.090842              1   0.233331\n",
       "7    28     1  -0.128639  -0.092520              1   0.103781"
      ]
     },
     "execution_count": 46,
     "metadata": {},
     "output_type": "execute_result"
    }
   ],
   "source": [
    "X.head()"
   ]
  },
  {
   "cell_type": "markdown",
   "metadata": {},
   "source": [
    "# Using PCA to find highest variability"
   ]
  },
  {
   "cell_type": "code",
   "execution_count": 48,
   "metadata": {},
   "outputs": [
    {
     "data": {
      "text/html": [
       "<div>\n",
       "<style scoped>\n",
       "    .dataframe tbody tr th:only-of-type {\n",
       "        vertical-align: middle;\n",
       "    }\n",
       "\n",
       "    .dataframe tbody tr th {\n",
       "        vertical-align: top;\n",
       "    }\n",
       "\n",
       "    .dataframe thead th {\n",
       "        text-align: right;\n",
       "    }\n",
       "</style>\n",
       "<table border=\"1\" class=\"dataframe\">\n",
       "  <thead>\n",
       "    <tr style=\"text-align: right;\">\n",
       "      <th></th>\n",
       "      <th>country_or_area</th>\n",
       "      <th>year</th>\n",
       "      <th>comm_code</th>\n",
       "      <th>commodity</th>\n",
       "      <th>flow</th>\n",
       "      <th>trade_usd</th>\n",
       "      <th>weight_kg</th>\n",
       "      <th>quantity_name</th>\n",
       "      <th>quantity</th>\n",
       "      <th>category</th>\n",
       "      <th>Region_x</th>\n",
       "      <th>Country</th>\n",
       "      <th>Region_y</th>\n",
       "    </tr>\n",
       "  </thead>\n",
       "  <tbody>\n",
       "    <tr>\n",
       "      <th>3</th>\n",
       "      <td>Albania</td>\n",
       "      <td>2016</td>\n",
       "      <td>10290</td>\n",
       "      <td>Bovine animals, live, except pure-bred breeding</td>\n",
       "      <td>Import</td>\n",
       "      <td>2414533</td>\n",
       "      <td>1114023.0</td>\n",
       "      <td>Number of items</td>\n",
       "      <td>6853.0</td>\n",
       "      <td>01_live_animals</td>\n",
       "      <td>NaN</td>\n",
       "      <td>Albania</td>\n",
       "      <td>EUROPE</td>\n",
       "    </tr>\n",
       "    <tr>\n",
       "      <th>4</th>\n",
       "      <td>Albania</td>\n",
       "      <td>2016</td>\n",
       "      <td>10392</td>\n",
       "      <td>Swine, live except pure-bred breeding &gt; 50 kg</td>\n",
       "      <td>Import</td>\n",
       "      <td>14265937</td>\n",
       "      <td>9484953.0</td>\n",
       "      <td>Number of items</td>\n",
       "      <td>96040.0</td>\n",
       "      <td>01_live_animals</td>\n",
       "      <td>NaN</td>\n",
       "      <td>Albania</td>\n",
       "      <td>EUROPE</td>\n",
       "    </tr>\n",
       "    <tr>\n",
       "      <th>5</th>\n",
       "      <td>Albania</td>\n",
       "      <td>2016</td>\n",
       "      <td>10511</td>\n",
       "      <td>Fowls, live domestic &lt; 185 grams</td>\n",
       "      <td>Import</td>\n",
       "      <td>2671732</td>\n",
       "      <td>254652.0</td>\n",
       "      <td>Number of items</td>\n",
       "      <td>5629138.0</td>\n",
       "      <td>01_live_animals</td>\n",
       "      <td>NaN</td>\n",
       "      <td>Albania</td>\n",
       "      <td>EUROPE</td>\n",
       "    </tr>\n",
       "    <tr>\n",
       "      <th>6</th>\n",
       "      <td>Albania</td>\n",
       "      <td>2016</td>\n",
       "      <td>10511</td>\n",
       "      <td>Fowls, live domestic &lt; 185 grams</td>\n",
       "      <td>Export</td>\n",
       "      <td>87581</td>\n",
       "      <td>5320.0</td>\n",
       "      <td>Number of items</td>\n",
       "      <td>115180.0</td>\n",
       "      <td>01_live_animals</td>\n",
       "      <td>NaN</td>\n",
       "      <td>Albania</td>\n",
       "      <td>EUROPE</td>\n",
       "    </tr>\n",
       "    <tr>\n",
       "      <th>7</th>\n",
       "      <td>Albania</td>\n",
       "      <td>2016</td>\n",
       "      <td>10519</td>\n",
       "      <td>Poultry, live except domestic fowls, &lt; 185 grams</td>\n",
       "      <td>Import</td>\n",
       "      <td>26485</td>\n",
       "      <td>2908.0</td>\n",
       "      <td>Number of items</td>\n",
       "      <td>64000.0</td>\n",
       "      <td>01_live_animals</td>\n",
       "      <td>NaN</td>\n",
       "      <td>Albania</td>\n",
       "      <td>EUROPE</td>\n",
       "    </tr>\n",
       "  </tbody>\n",
       "</table>\n",
       "</div>"
      ],
      "text/plain": [
       "  country_or_area  year comm_code  \\\n",
       "3         Albania  2016     10290   \n",
       "4         Albania  2016     10392   \n",
       "5         Albania  2016     10511   \n",
       "6         Albania  2016     10511   \n",
       "7         Albania  2016     10519   \n",
       "\n",
       "                                          commodity    flow  trade_usd  \\\n",
       "3   Bovine animals, live, except pure-bred breeding  Import    2414533   \n",
       "4     Swine, live except pure-bred breeding > 50 kg  Import   14265937   \n",
       "5                  Fowls, live domestic < 185 grams  Import    2671732   \n",
       "6                  Fowls, live domestic < 185 grams  Export      87581   \n",
       "7  Poultry, live except domestic fowls, < 185 grams  Import      26485   \n",
       "\n",
       "   weight_kg    quantity_name   quantity         category Region_x  Country  \\\n",
       "3  1114023.0  Number of items     6853.0  01_live_animals      NaN  Albania   \n",
       "4  9484953.0  Number of items    96040.0  01_live_animals      NaN  Albania   \n",
       "5   254652.0  Number of items  5629138.0  01_live_animals      NaN  Albania   \n",
       "6     5320.0  Number of items   115180.0  01_live_animals      NaN  Albania   \n",
       "7     2908.0  Number of items    64000.0  01_live_animals      NaN  Albania   \n",
       "\n",
       "  Region_y  \n",
       "3   EUROPE  \n",
       "4   EUROPE  \n",
       "5   EUROPE  \n",
       "6   EUROPE  \n",
       "7   EUROPE  "
      ]
     },
     "execution_count": 48,
     "metadata": {},
     "output_type": "execute_result"
    }
   ],
   "source": [
    "europe.head()"
   ]
  },
  {
   "cell_type": "code",
   "execution_count": 65,
   "metadata": {},
   "outputs": [],
   "source": [
    "is_import = europe['flow'] == 'Import'\n",
    "is_live_animals = europe['category'] == '01_live_animals'\n",
    "is_number_of_items_quantity = europe['quantity_name'] == 'Number of items'\n",
    "columns_to_consider = ['country_or_area', 'year', 'trade_usd', 'weight_kg', 'quantity', 'quantity_name']"
   ]
  },
  {
   "cell_type": "code",
   "execution_count": 66,
   "metadata": {},
   "outputs": [],
   "source": [
    "X = europe[is_import & is_live_animals & is_number_of_items_quantity][columns_to_consider]"
   ]
  },
  {
   "cell_type": "code",
   "execution_count": 67,
   "metadata": {},
   "outputs": [
    {
     "data": {
      "text/plain": [
       "(6291, 6)"
      ]
     },
     "execution_count": 67,
     "metadata": {},
     "output_type": "execute_result"
    }
   ],
   "source": [
    "X.shape"
   ]
  },
  {
   "cell_type": "code",
   "execution_count": 68,
   "metadata": {},
   "outputs": [
    {
     "data": {
      "text/plain": [
       "array(['Number of items'], dtype=object)"
      ]
     },
     "execution_count": 68,
     "metadata": {},
     "output_type": "execute_result"
    }
   ],
   "source": [
    "X.quantity_name.unique()"
   ]
  },
  {
   "cell_type": "code",
   "execution_count": 69,
   "metadata": {},
   "outputs": [
    {
     "data": {
      "text/html": [
       "<div>\n",
       "<style scoped>\n",
       "    .dataframe tbody tr th:only-of-type {\n",
       "        vertical-align: middle;\n",
       "    }\n",
       "\n",
       "    .dataframe tbody tr th {\n",
       "        vertical-align: top;\n",
       "    }\n",
       "\n",
       "    .dataframe thead th {\n",
       "        text-align: right;\n",
       "    }\n",
       "</style>\n",
       "<table border=\"1\" class=\"dataframe\">\n",
       "  <thead>\n",
       "    <tr style=\"text-align: right;\">\n",
       "      <th></th>\n",
       "      <th>country_or_area</th>\n",
       "      <th>year</th>\n",
       "      <th>trade_usd</th>\n",
       "      <th>weight_kg</th>\n",
       "      <th>quantity</th>\n",
       "      <th>quantity_name</th>\n",
       "    </tr>\n",
       "  </thead>\n",
       "  <tbody>\n",
       "    <tr>\n",
       "      <th>3</th>\n",
       "      <td>Albania</td>\n",
       "      <td>2016</td>\n",
       "      <td>2414533</td>\n",
       "      <td>1114023.0</td>\n",
       "      <td>6853.0</td>\n",
       "      <td>Number of items</td>\n",
       "    </tr>\n",
       "    <tr>\n",
       "      <th>4</th>\n",
       "      <td>Albania</td>\n",
       "      <td>2016</td>\n",
       "      <td>14265937</td>\n",
       "      <td>9484953.0</td>\n",
       "      <td>96040.0</td>\n",
       "      <td>Number of items</td>\n",
       "    </tr>\n",
       "    <tr>\n",
       "      <th>5</th>\n",
       "      <td>Albania</td>\n",
       "      <td>2016</td>\n",
       "      <td>2671732</td>\n",
       "      <td>254652.0</td>\n",
       "      <td>5629138.0</td>\n",
       "      <td>Number of items</td>\n",
       "    </tr>\n",
       "    <tr>\n",
       "      <th>7</th>\n",
       "      <td>Albania</td>\n",
       "      <td>2016</td>\n",
       "      <td>26485</td>\n",
       "      <td>2908.0</td>\n",
       "      <td>64000.0</td>\n",
       "      <td>Number of items</td>\n",
       "    </tr>\n",
       "    <tr>\n",
       "      <th>8</th>\n",
       "      <td>Albania</td>\n",
       "      <td>2016</td>\n",
       "      <td>2421513</td>\n",
       "      <td>1926850.0</td>\n",
       "      <td>1006990.0</td>\n",
       "      <td>Number of items</td>\n",
       "    </tr>\n",
       "  </tbody>\n",
       "</table>\n",
       "</div>"
      ],
      "text/plain": [
       "  country_or_area  year  trade_usd  weight_kg   quantity    quantity_name\n",
       "3         Albania  2016    2414533  1114023.0     6853.0  Number of items\n",
       "4         Albania  2016   14265937  9484953.0    96040.0  Number of items\n",
       "5         Albania  2016    2671732   254652.0  5629138.0  Number of items\n",
       "7         Albania  2016      26485     2908.0    64000.0  Number of items\n",
       "8         Albania  2016    2421513  1926850.0  1006990.0  Number of items"
      ]
     },
     "execution_count": 69,
     "metadata": {},
     "output_type": "execute_result"
    }
   ],
   "source": [
    "X.head()"
   ]
  },
  {
   "cell_type": "code",
   "execution_count": 70,
   "metadata": {},
   "outputs": [
    {
     "data": {
      "text/plain": [
       "country_or_area      0\n",
       "year                 0\n",
       "trade_usd            0\n",
       "weight_kg          148\n",
       "quantity             0\n",
       "quantity_name        0\n",
       "dtype: int64"
      ]
     },
     "execution_count": 70,
     "metadata": {},
     "output_type": "execute_result"
    }
   ],
   "source": [
    "X.isnull().sum()"
   ]
  },
  {
   "cell_type": "code",
   "execution_count": 71,
   "metadata": {},
   "outputs": [],
   "source": [
    "X = X.dropna()"
   ]
  },
  {
   "cell_type": "code",
   "execution_count": 72,
   "metadata": {},
   "outputs": [
    {
     "data": {
      "text/plain": [
       "(6143, 6)"
      ]
     },
     "execution_count": 72,
     "metadata": {},
     "output_type": "execute_result"
    }
   ],
   "source": [
    "X.shape"
   ]
  },
  {
   "cell_type": "code",
   "execution_count": 89,
   "metadata": {},
   "outputs": [
    {
     "data": {
      "text/plain": [
       "<matplotlib.axes._subplots.AxesSubplot at 0x1a1e761a58>"
      ]
     },
     "execution_count": 89,
     "metadata": {},
     "output_type": "execute_result"
    },
    {
     "data": {
      "image/png": "[encoded data removed]",
      "text/plain": [
       "<matplotlib.figure.Figure at 0x1a1f311048>"
      ]
     },
     "metadata": {},
     "output_type": "display_data"
    }
   ],
   "source": [
    "X.groupby('year', as_index=True)['trade_usd'].agg('sum').plot()"
   ]
  },
  {
   "cell_type": "code",
   "execution_count": 90,
   "metadata": {},
   "outputs": [
    {
     "data": {
      "text/html": [
       "<div>\n",
       "<style scoped>\n",
       "    .dataframe tbody tr th:only-of-type {\n",
       "        vertical-align: middle;\n",
       "    }\n",
       "\n",
       "    .dataframe tbody tr th {\n",
       "        vertical-align: top;\n",
       "    }\n",
       "\n",
       "    .dataframe thead th {\n",
       "        text-align: right;\n",
       "    }\n",
       "</style>\n",
       "<table border=\"1\" class=\"dataframe\">\n",
       "  <thead>\n",
       "    <tr style=\"text-align: right;\">\n",
       "      <th></th>\n",
       "      <th>country_or_area</th>\n",
       "      <th>year</th>\n",
       "      <th>trade_usd</th>\n",
       "      <th>weight_kg</th>\n",
       "      <th>quantity</th>\n",
       "      <th>quantity_name</th>\n",
       "    </tr>\n",
       "  </thead>\n",
       "  <tbody>\n",
       "    <tr>\n",
       "      <th>3</th>\n",
       "      <td>Albania</td>\n",
       "      <td>2016</td>\n",
       "      <td>2414533</td>\n",
       "      <td>1114023.0</td>\n",
       "      <td>6853.0</td>\n",
       "      <td>Number of items</td>\n",
       "    </tr>\n",
       "    <tr>\n",
       "      <th>4</th>\n",
       "      <td>Albania</td>\n",
       "      <td>2016</td>\n",
       "      <td>14265937</td>\n",
       "      <td>9484953.0</td>\n",
       "      <td>96040.0</td>\n",
       "      <td>Number of items</td>\n",
       "    </tr>\n",
       "    <tr>\n",
       "      <th>5</th>\n",
       "      <td>Albania</td>\n",
       "      <td>2016</td>\n",
       "      <td>2671732</td>\n",
       "      <td>254652.0</td>\n",
       "      <td>5629138.0</td>\n",
       "      <td>Number of items</td>\n",
       "    </tr>\n",
       "    <tr>\n",
       "      <th>7</th>\n",
       "      <td>Albania</td>\n",
       "      <td>2016</td>\n",
       "      <td>26485</td>\n",
       "      <td>2908.0</td>\n",
       "      <td>64000.0</td>\n",
       "      <td>Number of items</td>\n",
       "    </tr>\n",
       "    <tr>\n",
       "      <th>8</th>\n",
       "      <td>Albania</td>\n",
       "      <td>2016</td>\n",
       "      <td>2421513</td>\n",
       "      <td>1926850.0</td>\n",
       "      <td>1006990.0</td>\n",
       "      <td>Number of items</td>\n",
       "    </tr>\n",
       "  </tbody>\n",
       "</table>\n",
       "</div>"
      ],
      "text/plain": [
       "  country_or_area  year  trade_usd  weight_kg   quantity    quantity_name\n",
       "3         Albania  2016    2414533  1114023.0     6853.0  Number of items\n",
       "4         Albania  2016   14265937  9484953.0    96040.0  Number of items\n",
       "5         Albania  2016    2671732   254652.0  5629138.0  Number of items\n",
       "7         Albania  2016      26485     2908.0    64000.0  Number of items\n",
       "8         Albania  2016    2421513  1926850.0  1006990.0  Number of items"
      ]
     },
     "execution_count": 90,
     "metadata": {},
     "output_type": "execute_result"
    }
   ],
   "source": [
    "X.head()"
   ]
  },
  {
   "cell_type": "code",
   "execution_count": 91,
   "metadata": {},
   "outputs": [
    {
     "data": {
      "text/plain": [
       "array(['Albania', 'Andorra', 'Armenia', 'Austria', 'Azerbaijan', 'Belarus',\n",
       "       'Belgium', 'Bosnia and Herzegovina', 'Bulgaria', 'Croatia',\n",
       "       'Cyprus', 'Czech Republic', 'Denmark', 'Estonia', 'Finland',\n",
       "       'France', 'Georgia', 'Germany', 'Greece', 'Hungary', 'Iceland',\n",
       "       'Ireland', 'Italy', 'Latvia', 'Lithuania', 'Luxembourg', 'Malta',\n",
       "       'Montenegro', 'Netherlands', 'Norway', 'Poland', 'Portugal',\n",
       "       'Romania', 'Serbia', 'Slovakia', 'Slovenia', 'Spain', 'Sweden',\n",
       "       'Switzerland', 'Ukraine', 'United Kingdom'], dtype=object)"
      ]
     },
     "execution_count": 91,
     "metadata": {},
     "output_type": "execute_result"
    }
   ],
   "source": [
    "X.country_or_area.unique()"
   ]
  },
  {
   "cell_type": "code",
   "execution_count": 92,
   "metadata": {},
   "outputs": [
    {
     "data": {
      "text/plain": [
       "(41,)"
      ]
     },
     "execution_count": 92,
     "metadata": {},
     "output_type": "execute_result"
    }
   ],
   "source": [
    "X.country_or_area.unique().shape"
   ]
  },
  {
   "cell_type": "code",
   "execution_count": 95,
   "metadata": {},
   "outputs": [],
   "source": [
    "categoricalFeatures = ['country_or_area', 'year', 'quantity_name']\n",
    "numericalFeatures = ['trade_usd', 'weight_kg', 'quantity']\n",
    "labelEncoderDict = defaultdict(preprocessing.LabelEncoder)\n",
    "\n",
    "X[categoricalFeatures] = X[categoricalFeatures].apply(lambda x: labelEncoderDict[x.name].fit_transform(x)) "
   ]
  },
  {
   "cell_type": "code",
   "execution_count": 96,
   "metadata": {},
   "outputs": [
    {
     "data": {
      "text/html": [
       "<div>\n",
       "<style scoped>\n",
       "    .dataframe tbody tr th:only-of-type {\n",
       "        vertical-align: middle;\n",
       "    }\n",
       "\n",
       "    .dataframe tbody tr th {\n",
       "        vertical-align: top;\n",
       "    }\n",
       "\n",
       "    .dataframe thead th {\n",
       "        text-align: right;\n",
       "    }\n",
       "</style>\n",
       "<table border=\"1\" class=\"dataframe\">\n",
       "  <thead>\n",
       "    <tr style=\"text-align: right;\">\n",
       "      <th></th>\n",
       "      <th>country_or_area</th>\n",
       "      <th>year</th>\n",
       "      <th>trade_usd</th>\n",
       "      <th>weight_kg</th>\n",
       "      <th>quantity</th>\n",
       "      <th>quantity_name</th>\n",
       "    </tr>\n",
       "  </thead>\n",
       "  <tbody>\n",
       "    <tr>\n",
       "      <th>3</th>\n",
       "      <td>0</td>\n",
       "      <td>28</td>\n",
       "      <td>2414533</td>\n",
       "      <td>1114023.0</td>\n",
       "      <td>6853.0</td>\n",
       "      <td>0</td>\n",
       "    </tr>\n",
       "    <tr>\n",
       "      <th>4</th>\n",
       "      <td>0</td>\n",
       "      <td>28</td>\n",
       "      <td>14265937</td>\n",
       "      <td>9484953.0</td>\n",
       "      <td>96040.0</td>\n",
       "      <td>0</td>\n",
       "    </tr>\n",
       "    <tr>\n",
       "      <th>5</th>\n",
       "      <td>0</td>\n",
       "      <td>28</td>\n",
       "      <td>2671732</td>\n",
       "      <td>254652.0</td>\n",
       "      <td>5629138.0</td>\n",
       "      <td>0</td>\n",
       "    </tr>\n",
       "    <tr>\n",
       "      <th>7</th>\n",
       "      <td>0</td>\n",
       "      <td>28</td>\n",
       "      <td>26485</td>\n",
       "      <td>2908.0</td>\n",
       "      <td>64000.0</td>\n",
       "      <td>0</td>\n",
       "    </tr>\n",
       "    <tr>\n",
       "      <th>8</th>\n",
       "      <td>0</td>\n",
       "      <td>28</td>\n",
       "      <td>2421513</td>\n",
       "      <td>1926850.0</td>\n",
       "      <td>1006990.0</td>\n",
       "      <td>0</td>\n",
       "    </tr>\n",
       "  </tbody>\n",
       "</table>\n",
       "</div>"
      ],
      "text/plain": [
       "   country_or_area  year  trade_usd  weight_kg   quantity  quantity_name\n",
       "3                0    28    2414533  1114023.0     6853.0              0\n",
       "4                0    28   14265937  9484953.0    96040.0              0\n",
       "5                0    28    2671732   254652.0  5629138.0              0\n",
       "7                0    28      26485     2908.0    64000.0              0\n",
       "8                0    28    2421513  1926850.0  1006990.0              0"
      ]
     },
     "execution_count": 96,
     "metadata": {},
     "output_type": "execute_result"
    }
   ],
   "source": [
    "X.head()"
   ]
  },
  {
   "cell_type": "code",
   "execution_count": 102,
   "metadata": {},
   "outputs": [],
   "source": [
    "X_pca = PCA(2).fit_transform(X)"
   ]
  },
  {
   "cell_type": "code",
   "execution_count": 103,
   "metadata": {},
   "outputs": [
    {
     "data": {
      "text/plain": [
       "(6143, 2)"
      ]
     },
     "execution_count": 103,
     "metadata": {},
     "output_type": "execute_result"
    }
   ],
   "source": [
    "X_pca.shape"
   ]
  },
  {
   "cell_type": "code",
   "execution_count": 104,
   "metadata": {},
   "outputs": [
    {
     "data": {
      "text/plain": [
       "<matplotlib.collections.PathCollection at 0x1a1eb18978>"
      ]
     },
     "execution_count": 104,
     "metadata": {},
     "output_type": "execute_result"
    },
    {
     "data": {
      "image/png": "[encoded data removed]",
      "text/plain": [
       "<matplotlib.figure.Figure at 0x1a1eb14438>"
      ]
     },
     "metadata": {},
     "output_type": "display_data"
    }
   ],
   "source": [
    "plt.scatter(X_pca[:, 0], X_pca[:, 1])"
   ]
  },
  {
   "cell_type": "code",
   "execution_count": 105,
   "metadata": {},
   "outputs": [],
   "source": [
    "X.drop('quantity_name', axis=1, inplace=True)"
   ]
  },
  {
   "cell_type": "code",
   "execution_count": 106,
   "metadata": {},
   "outputs": [
    {
     "data": {
      "text/html": [
       "<div>\n",
       "<style scoped>\n",
       "    .dataframe tbody tr th:only-of-type {\n",
       "        vertical-align: middle;\n",
       "    }\n",
       "\n",
       "    .dataframe tbody tr th {\n",
       "        vertical-align: top;\n",
       "    }\n",
       "\n",
       "    .dataframe thead th {\n",
       "        text-align: right;\n",
       "    }\n",
       "</style>\n",
       "<table border=\"1\" class=\"dataframe\">\n",
       "  <thead>\n",
       "    <tr style=\"text-align: right;\">\n",
       "      <th></th>\n",
       "      <th>country_or_area</th>\n",
       "      <th>year</th>\n",
       "      <th>trade_usd</th>\n",
       "      <th>weight_kg</th>\n",
       "      <th>quantity</th>\n",
       "    </tr>\n",
       "  </thead>\n",
       "  <tbody>\n",
       "    <tr>\n",
       "      <th>3</th>\n",
       "      <td>0</td>\n",
       "      <td>28</td>\n",
       "      <td>2414533</td>\n",
       "      <td>1114023.0</td>\n",
       "      <td>6853.0</td>\n",
       "    </tr>\n",
       "    <tr>\n",
       "      <th>4</th>\n",
       "      <td>0</td>\n",
       "      <td>28</td>\n",
       "      <td>14265937</td>\n",
       "      <td>9484953.0</td>\n",
       "      <td>96040.0</td>\n",
       "    </tr>\n",
       "    <tr>\n",
       "      <th>5</th>\n",
       "      <td>0</td>\n",
       "      <td>28</td>\n",
       "      <td>2671732</td>\n",
       "      <td>254652.0</td>\n",
       "      <td>5629138.0</td>\n",
       "    </tr>\n",
       "    <tr>\n",
       "      <th>7</th>\n",
       "      <td>0</td>\n",
       "      <td>28</td>\n",
       "      <td>26485</td>\n",
       "      <td>2908.0</td>\n",
       "      <td>64000.0</td>\n",
       "    </tr>\n",
       "    <tr>\n",
       "      <th>8</th>\n",
       "      <td>0</td>\n",
       "      <td>28</td>\n",
       "      <td>2421513</td>\n",
       "      <td>1926850.0</td>\n",
       "      <td>1006990.0</td>\n",
       "    </tr>\n",
       "  </tbody>\n",
       "</table>\n",
       "</div>"
      ],
      "text/plain": [
       "   country_or_area  year  trade_usd  weight_kg   quantity\n",
       "3                0    28    2414533  1114023.0     6853.0\n",
       "4                0    28   14265937  9484953.0    96040.0\n",
       "5                0    28    2671732   254652.0  5629138.0\n",
       "7                0    28      26485     2908.0    64000.0\n",
       "8                0    28    2421513  1926850.0  1006990.0"
      ]
     },
     "execution_count": 106,
     "metadata": {},
     "output_type": "execute_result"
    }
   ],
   "source": [
    "X.head()"
   ]
  },
  {
   "cell_type": "code",
   "execution_count": 107,
   "metadata": {},
   "outputs": [
    {
     "data": {
      "text/plain": [
       "<matplotlib.collections.PathCollection at 0x1a1ddb5470>"
      ]
     },
     "execution_count": 107,
     "metadata": {},
     "output_type": "execute_result"
    },
    {
     "data": {
      "image/png": "[encoded data removed]",
      "text/plain": [
       "<matplotlib.figure.Figure at 0x1a1f429f60>"
      ]
     },
     "metadata": {},
     "output_type": "display_data"
    }
   ],
   "source": [
    "X_pca = PCA(2).fit_transform(X)\n",
    "plt.scatter(X_pca[:, 0], X_pca[:, 1])"
   ]
  },
  {
   "cell_type": "code",
   "execution_count": 108,
   "metadata": {},
   "outputs": [
    {
     "data": {
      "text/plain": [
       "<matplotlib.collections.PathCollection at 0x1a1eb6b4a8>"
      ]
     },
     "execution_count": 108,
     "metadata": {},
     "output_type": "execute_result"
    },
    {
     "data": {
      "image/png": "[encoded data removed]",
      "text/plain": [
       "<matplotlib.figure.Figure at 0x1a1f4154e0>"
      ]
     },
     "metadata": {},
     "output_type": "display_data"
    }
   ],
   "source": [
    "X_pca = PCA(2).fit_transform(X.drop('country_or_area', axis=1))\n",
    "plt.scatter(X_pca[:, 0], X_pca[:, 1])"
   ]
  },
  {
   "cell_type": "code",
   "execution_count": 109,
   "metadata": {},
   "outputs": [
    {
     "data": {
      "text/plain": [
       "<matplotlib.collections.PathCollection at 0x1a1fb09470>"
      ]
     },
     "execution_count": 109,
     "metadata": {},
     "output_type": "execute_result"
    },
    {
     "data": {
      "image/png": "[encoded data removed]",
      "text/plain": [
       "<matplotlib.figure.Figure at 0x1a1f9b62e8>"
      ]
     },
     "metadata": {},
     "output_type": "display_data"
    }
   ],
   "source": [
    "X_pca = PCA(2).fit_transform(X.drop(['country_or_area', 'year'], axis=1))\n",
    "plt.scatter(X_pca[:, 0], X_pca[:, 1])"
   ]
  },
  {
   "cell_type": "code",
   "execution_count": 110,
   "metadata": {},
   "outputs": [
    {
     "data": {
      "text/plain": [
       "<matplotlib.collections.PathCollection at 0x1a1f5ec3c8>"
      ]
     },
     "execution_count": 110,
     "metadata": {},
     "output_type": "execute_result"
    },
    {
     "data": {
      "image/png": "[encoded data removed]",
      "text/plain": [
       "<matplotlib.figure.Figure at 0x1a1f6d1b70>"
      ]
     },
     "metadata": {},
     "output_type": "display_data"
    }
   ],
   "source": [
    "X_pca = PCA(2).fit_transform(X.drop(['country_or_area', 'year', 'quantity'], axis=1))\n",
    "plt.scatter(X_pca[:, 0], X_pca[:, 1])"
   ]
  },
  {
   "cell_type": "code",
   "execution_count": 113,
   "metadata": {},
   "outputs": [
    {
     "data": {
      "text/html": [
       "<div>\n",
       "<style scoped>\n",
       "    .dataframe tbody tr th:only-of-type {\n",
       "        vertical-align: middle;\n",
       "    }\n",
       "\n",
       "    .dataframe tbody tr th {\n",
       "        vertical-align: top;\n",
       "    }\n",
       "\n",
       "    .dataframe thead th {\n",
       "        text-align: right;\n",
       "    }\n",
       "</style>\n",
       "<table border=\"1\" class=\"dataframe\">\n",
       "  <thead>\n",
       "    <tr style=\"text-align: right;\">\n",
       "      <th></th>\n",
       "      <th>trade_usd</th>\n",
       "      <th>weight_kg</th>\n",
       "    </tr>\n",
       "  </thead>\n",
       "  <tbody>\n",
       "    <tr>\n",
       "      <th>3</th>\n",
       "      <td>2414533</td>\n",
       "      <td>1114023.0</td>\n",
       "    </tr>\n",
       "    <tr>\n",
       "      <th>4</th>\n",
       "      <td>14265937</td>\n",
       "      <td>9484953.0</td>\n",
       "    </tr>\n",
       "    <tr>\n",
       "      <th>5</th>\n",
       "      <td>2671732</td>\n",
       "      <td>254652.0</td>\n",
       "    </tr>\n",
       "    <tr>\n",
       "      <th>7</th>\n",
       "      <td>26485</td>\n",
       "      <td>2908.0</td>\n",
       "    </tr>\n",
       "    <tr>\n",
       "      <th>8</th>\n",
       "      <td>2421513</td>\n",
       "      <td>1926850.0</td>\n",
       "    </tr>\n",
       "  </tbody>\n",
       "</table>\n",
       "</div>"
      ],
      "text/plain": [
       "   trade_usd  weight_kg\n",
       "3    2414533  1114023.0\n",
       "4   14265937  9484953.0\n",
       "5    2671732   254652.0\n",
       "7      26485     2908.0\n",
       "8    2421513  1926850.0"
      ]
     },
     "execution_count": 113,
     "metadata": {},
     "output_type": "execute_result"
    }
   ],
   "source": [
    "X.drop(['country_or_area', 'year', 'quantity'], axis=1).head()"
   ]
  },
  {
   "cell_type": "code",
   "execution_count": 115,
   "metadata": {},
   "outputs": [
    {
     "data": {
      "text/plain": [
       "<matplotlib.collections.PathCollection at 0x1a1fb2ef98>"
      ]
     },
     "execution_count": 115,
     "metadata": {},
     "output_type": "execute_result"
    },
    {
     "data": {
      "image/png": "[encoded data removed]",
      "text/plain": [
       "<matplotlib.figure.Figure at 0x1a1f6c4588>"
      ]
     },
     "metadata": {},
     "output_type": "display_data"
    }
   ],
   "source": [
    "X_pca = PCA(2).fit_transform(X.drop(['year', 'quantity'], axis=1))\n",
    "plt.scatter(X_pca[:, 0], X_pca[:, 1])"
   ]
  },
  {
   "cell_type": "code",
   "execution_count": 117,
   "metadata": {},
   "outputs": [
    {
     "data": {
      "text/plain": [
       "<matplotlib.collections.PathCollection at 0x1a205e04e0>"
      ]
     },
     "execution_count": 117,
     "metadata": {},
     "output_type": "execute_result"
    },
    {
     "data": {
      "image/png": "[encoded data removed]",
      "text/plain": [
       "<matplotlib.figure.Figure at 0x1a200df7f0>"
      ]
     },
     "metadata": {},
     "output_type": "display_data"
    }
   ],
   "source": [
    "X_pca = PCA(2).fit_transform(X.drop(['quantity', 'weight_kg'], axis=1))\n",
    "plt.scatter(X_pca[:, 0], X_pca[:, 1])"
   ]
  },
  {
   "cell_type": "code",
   "execution_count": 118,
   "metadata": {},
   "outputs": [
    {
     "data": {
      "text/html": [
       "<div>\n",
       "<style scoped>\n",
       "    .dataframe tbody tr th:only-of-type {\n",
       "        vertical-align: middle;\n",
       "    }\n",
       "\n",
       "    .dataframe tbody tr th {\n",
       "        vertical-align: top;\n",
       "    }\n",
       "\n",
       "    .dataframe thead th {\n",
       "        text-align: right;\n",
       "    }\n",
       "</style>\n",
       "<table border=\"1\" class=\"dataframe\">\n",
       "  <thead>\n",
       "    <tr style=\"text-align: right;\">\n",
       "      <th></th>\n",
       "      <th>country_or_area</th>\n",
       "      <th>year</th>\n",
       "      <th>trade_usd</th>\n",
       "      <th>weight_kg</th>\n",
       "      <th>quantity</th>\n",
       "    </tr>\n",
       "  </thead>\n",
       "  <tbody>\n",
       "    <tr>\n",
       "      <th>3</th>\n",
       "      <td>0</td>\n",
       "      <td>28</td>\n",
       "      <td>2414533</td>\n",
       "      <td>1114023.0</td>\n",
       "      <td>6853.0</td>\n",
       "    </tr>\n",
       "    <tr>\n",
       "      <th>4</th>\n",
       "      <td>0</td>\n",
       "      <td>28</td>\n",
       "      <td>14265937</td>\n",
       "      <td>9484953.0</td>\n",
       "      <td>96040.0</td>\n",
       "    </tr>\n",
       "    <tr>\n",
       "      <th>5</th>\n",
       "      <td>0</td>\n",
       "      <td>28</td>\n",
       "      <td>2671732</td>\n",
       "      <td>254652.0</td>\n",
       "      <td>5629138.0</td>\n",
       "    </tr>\n",
       "    <tr>\n",
       "      <th>7</th>\n",
       "      <td>0</td>\n",
       "      <td>28</td>\n",
       "      <td>26485</td>\n",
       "      <td>2908.0</td>\n",
       "      <td>64000.0</td>\n",
       "    </tr>\n",
       "    <tr>\n",
       "      <th>8</th>\n",
       "      <td>0</td>\n",
       "      <td>28</td>\n",
       "      <td>2421513</td>\n",
       "      <td>1926850.0</td>\n",
       "      <td>1006990.0</td>\n",
       "    </tr>\n",
       "  </tbody>\n",
       "</table>\n",
       "</div>"
      ],
      "text/plain": [
       "   country_or_area  year  trade_usd  weight_kg   quantity\n",
       "3                0    28    2414533  1114023.0     6853.0\n",
       "4                0    28   14265937  9484953.0    96040.0\n",
       "5                0    28    2671732   254652.0  5629138.0\n",
       "7                0    28      26485     2908.0    64000.0\n",
       "8                0    28    2421513  1926850.0  1006990.0"
      ]
     },
     "execution_count": 118,
     "metadata": {},
     "output_type": "execute_result"
    }
   ],
   "source": [
    "X.head()"
   ]
  },
  {
   "cell_type": "code",
   "execution_count": 203,
   "metadata": {},
   "outputs": [],
   "source": [
    "is_import = europe['flow'] == 'Import'\n",
    "is_live_animals = europe['category'] == '01_live_animals'\n",
    "is_number_of_items_quantity = europe['quantity_name'] == 'Number of items'\n",
    "year_filter = europe['year'] >= 2010\n",
    "\n",
    "columns_to_consider = ['country_or_area','trade_usd']\n",
    "\n",
    "X = europe[is_import & is_live_animals & is_number_of_items_quantity & year_filter][columns_to_consider]\n",
    "\n",
    "categoricalFeatures = ['country_or_area']\n",
    "numericalFeatures = ['trade_usd', 'quantity']\n",
    "labelEncoderDict = defaultdict(preprocessing.LabelEncoder)\n",
    "\n",
    "X[categoricalFeatures] = X[categoricalFeatures].apply(lambda x: labelEncoderDict[x.name].fit_transform(x)) "
   ]
  },
  {
   "cell_type": "code",
   "execution_count": 204,
   "metadata": {},
   "outputs": [
    {
     "data": {
      "text/html": [
       "<div>\n",
       "<style scoped>\n",
       "    .dataframe tbody tr th:only-of-type {\n",
       "        vertical-align: middle;\n",
       "    }\n",
       "\n",
       "    .dataframe tbody tr th {\n",
       "        vertical-align: top;\n",
       "    }\n",
       "\n",
       "    .dataframe thead th {\n",
       "        text-align: right;\n",
       "    }\n",
       "</style>\n",
       "<table border=\"1\" class=\"dataframe\">\n",
       "  <thead>\n",
       "    <tr style=\"text-align: right;\">\n",
       "      <th></th>\n",
       "      <th>country_or_area</th>\n",
       "      <th>trade_usd</th>\n",
       "    </tr>\n",
       "  </thead>\n",
       "  <tbody>\n",
       "    <tr>\n",
       "      <th>3</th>\n",
       "      <td>0</td>\n",
       "      <td>2414533</td>\n",
       "    </tr>\n",
       "    <tr>\n",
       "      <th>4</th>\n",
       "      <td>0</td>\n",
       "      <td>14265937</td>\n",
       "    </tr>\n",
       "    <tr>\n",
       "      <th>5</th>\n",
       "      <td>0</td>\n",
       "      <td>2671732</td>\n",
       "    </tr>\n",
       "    <tr>\n",
       "      <th>7</th>\n",
       "      <td>0</td>\n",
       "      <td>26485</td>\n",
       "    </tr>\n",
       "    <tr>\n",
       "      <th>8</th>\n",
       "      <td>0</td>\n",
       "      <td>2421513</td>\n",
       "    </tr>\n",
       "  </tbody>\n",
       "</table>\n",
       "</div>"
      ],
      "text/plain": [
       "   country_or_area  trade_usd\n",
       "3                0    2414533\n",
       "4                0   14265937\n",
       "5                0    2671732\n",
       "7                0      26485\n",
       "8                0    2421513"
      ]
     },
     "execution_count": 204,
     "metadata": {},
     "output_type": "execute_result"
    }
   ],
   "source": [
    "X.head()"
   ]
  },
  {
   "cell_type": "code",
   "execution_count": null,
   "metadata": {},
   "outputs": [],
   "source": []
  },
  {
   "cell_type": "code",
   "execution_count": 199,
   "metadata": {},
   "outputs": [
    {
     "data": {
      "text/html": [
       "<div>\n",
       "<style scoped>\n",
       "    .dataframe tbody tr th:only-of-type {\n",
       "        vertical-align: middle;\n",
       "    }\n",
       "\n",
       "    .dataframe tbody tr th {\n",
       "        vertical-align: top;\n",
       "    }\n",
       "\n",
       "    .dataframe thead th {\n",
       "        text-align: right;\n",
       "    }\n",
       "</style>\n",
       "<table border=\"1\" class=\"dataframe\">\n",
       "  <thead>\n",
       "    <tr style=\"text-align: right;\">\n",
       "      <th></th>\n",
       "      <th>country_or_area</th>\n",
       "      <th>trade_usd</th>\n",
       "    </tr>\n",
       "  </thead>\n",
       "  <tbody>\n",
       "    <tr>\n",
       "      <th>3</th>\n",
       "      <td>0</td>\n",
       "      <td>2414533</td>\n",
       "    </tr>\n",
       "    <tr>\n",
       "      <th>4</th>\n",
       "      <td>0</td>\n",
       "      <td>14265937</td>\n",
       "    </tr>\n",
       "    <tr>\n",
       "      <th>5</th>\n",
       "      <td>0</td>\n",
       "      <td>2671732</td>\n",
       "    </tr>\n",
       "    <tr>\n",
       "      <th>7</th>\n",
       "      <td>0</td>\n",
       "      <td>26485</td>\n",
       "    </tr>\n",
       "    <tr>\n",
       "      <th>8</th>\n",
       "      <td>0</td>\n",
       "      <td>2421513</td>\n",
       "    </tr>\n",
       "  </tbody>\n",
       "</table>\n",
       "</div>"
      ],
      "text/plain": [
       "   country_or_area  trade_usd\n",
       "3                0    2414533\n",
       "4                0   14265937\n",
       "5                0    2671732\n",
       "7                0      26485\n",
       "8                0    2421513"
      ]
     },
     "execution_count": 199,
     "metadata": {},
     "output_type": "execute_result"
    }
   ],
   "source": [
    "X.head()"
   ]
  },
  {
   "cell_type": "code",
   "execution_count": 200,
   "metadata": {},
   "outputs": [
    {
     "data": {
      "text/plain": [
       "(5941, 2)"
      ]
     },
     "execution_count": 200,
     "metadata": {},
     "output_type": "execute_result"
    }
   ],
   "source": [
    "X.shape"
   ]
  },
  {
   "cell_type": "code",
   "execution_count": 205,
   "metadata": {},
   "outputs": [],
   "source": [
    "X_pca2d = PCA(2).fit_transform(X)\n",
    "#X_pca3d = PCA(3).fit_transform(X)"
   ]
  },
  {
   "cell_type": "code",
   "execution_count": 206,
   "metadata": {},
   "outputs": [
    {
     "data": {
      "text/plain": [
       "<matplotlib.collections.PathCollection at 0x1a25294908>"
      ]
     },
     "execution_count": 206,
     "metadata": {},
     "output_type": "execute_result"
    },
    {
     "data": {
      "image/png": "[encoded data removed]",
      "text/plain": [
       "<matplotlib.figure.Figure at 0x1a25002438>"
      ]
     },
     "metadata": {},
     "output_type": "display_data"
    }
   ],
   "source": [
    "plt.scatter(X_pca2d[:, 0], X_pca2d[:, 1])"
   ]
  },
  {
   "cell_type": "code",
   "execution_count": 238,
   "metadata": {},
   "outputs": [],
   "source": [
    "is_import = europe['flow'] == 'Import'\n",
    "is_live_animals = europe['category'] == '01_live_animals'\n",
    "is_number_of_items_quantity = europe['quantity_name'] == 'Number of items'\n",
    "year_filter = europe['year'] >= 2010\n",
    "\n",
    "columns_to_consider = ['comm_code', 'trade_usd', 'quantity']\n",
    "\n",
    "data_filter = is_import & is_live_animals & is_number_of_items_quantity\n",
    "\n",
    "X = europe[data_filter][columns_to_consider]\n",
    "\n",
    "categoricalFeatures = ['comm_code']\n",
    "numericalFeatures = ['quantity']\n",
    "labelEncoderDict = defaultdict(preprocessing.LabelEncoder)\n",
    "\n",
    "X[categoricalFeatures] = X[categoricalFeatures].apply(lambda x: labelEncoderDict[x.name].fit_transform(x)) "
   ]
  },
  {
   "cell_type": "code",
   "execution_count": 230,
   "metadata": {},
   "outputs": [
    {
     "data": {
      "text/html": [
       "<div>\n",
       "<style scoped>\n",
       "    .dataframe tbody tr th:only-of-type {\n",
       "        vertical-align: middle;\n",
       "    }\n",
       "\n",
       "    .dataframe tbody tr th {\n",
       "        vertical-align: top;\n",
       "    }\n",
       "\n",
       "    .dataframe thead th {\n",
       "        text-align: right;\n",
       "    }\n",
       "</style>\n",
       "<table border=\"1\" class=\"dataframe\">\n",
       "  <thead>\n",
       "    <tr style=\"text-align: right;\">\n",
       "      <th></th>\n",
       "      <th>country_or_area</th>\n",
       "      <th>year</th>\n",
       "      <th>comm_code</th>\n",
       "      <th>commodity</th>\n",
       "      <th>flow</th>\n",
       "      <th>trade_usd</th>\n",
       "      <th>weight_kg</th>\n",
       "      <th>quantity_name</th>\n",
       "      <th>quantity</th>\n",
       "      <th>category</th>\n",
       "      <th>Region_x</th>\n",
       "      <th>Country</th>\n",
       "      <th>Region_y</th>\n",
       "    </tr>\n",
       "  </thead>\n",
       "  <tbody>\n",
       "    <tr>\n",
       "      <th>3</th>\n",
       "      <td>Albania</td>\n",
       "      <td>2016</td>\n",
       "      <td>10290</td>\n",
       "      <td>Bovine animals, live, except pure-bred breeding</td>\n",
       "      <td>Import</td>\n",
       "      <td>2414533</td>\n",
       "      <td>1114023.0</td>\n",
       "      <td>Number of items</td>\n",
       "      <td>6853.0</td>\n",
       "      <td>01_live_animals</td>\n",
       "      <td>NaN</td>\n",
       "      <td>Albania</td>\n",
       "      <td>EUROPE</td>\n",
       "    </tr>\n",
       "    <tr>\n",
       "      <th>4</th>\n",
       "      <td>Albania</td>\n",
       "      <td>2016</td>\n",
       "      <td>10392</td>\n",
       "      <td>Swine, live except pure-bred breeding &gt; 50 kg</td>\n",
       "      <td>Import</td>\n",
       "      <td>14265937</td>\n",
       "      <td>9484953.0</td>\n",
       "      <td>Number of items</td>\n",
       "      <td>96040.0</td>\n",
       "      <td>01_live_animals</td>\n",
       "      <td>NaN</td>\n",
       "      <td>Albania</td>\n",
       "      <td>EUROPE</td>\n",
       "    </tr>\n",
       "    <tr>\n",
       "      <th>5</th>\n",
       "      <td>Albania</td>\n",
       "      <td>2016</td>\n",
       "      <td>10511</td>\n",
       "      <td>Fowls, live domestic &lt; 185 grams</td>\n",
       "      <td>Import</td>\n",
       "      <td>2671732</td>\n",
       "      <td>254652.0</td>\n",
       "      <td>Number of items</td>\n",
       "      <td>5629138.0</td>\n",
       "      <td>01_live_animals</td>\n",
       "      <td>NaN</td>\n",
       "      <td>Albania</td>\n",
       "      <td>EUROPE</td>\n",
       "    </tr>\n",
       "    <tr>\n",
       "      <th>7</th>\n",
       "      <td>Albania</td>\n",
       "      <td>2016</td>\n",
       "      <td>10519</td>\n",
       "      <td>Poultry, live except domestic fowls, &lt; 185 grams</td>\n",
       "      <td>Import</td>\n",
       "      <td>26485</td>\n",
       "      <td>2908.0</td>\n",
       "      <td>Number of items</td>\n",
       "      <td>64000.0</td>\n",
       "      <td>01_live_animals</td>\n",
       "      <td>NaN</td>\n",
       "      <td>Albania</td>\n",
       "      <td>EUROPE</td>\n",
       "    </tr>\n",
       "    <tr>\n",
       "      <th>8</th>\n",
       "      <td>Albania</td>\n",
       "      <td>2016</td>\n",
       "      <td>10591</td>\n",
       "      <td>Fowls, live domestic &gt; 185 grams</td>\n",
       "      <td>Import</td>\n",
       "      <td>2421513</td>\n",
       "      <td>1926850.0</td>\n",
       "      <td>Number of items</td>\n",
       "      <td>1006990.0</td>\n",
       "      <td>01_live_animals</td>\n",
       "      <td>NaN</td>\n",
       "      <td>Albania</td>\n",
       "      <td>EUROPE</td>\n",
       "    </tr>\n",
       "  </tbody>\n",
       "</table>\n",
       "</div>"
      ],
      "text/plain": [
       "  country_or_area  year comm_code  \\\n",
       "3         Albania  2016     10290   \n",
       "4         Albania  2016     10392   \n",
       "5         Albania  2016     10511   \n",
       "7         Albania  2016     10519   \n",
       "8         Albania  2016     10591   \n",
       "\n",
       "                                          commodity    flow  trade_usd  \\\n",
       "3   Bovine animals, live, except pure-bred breeding  Import    2414533   \n",
       "4     Swine, live except pure-bred breeding > 50 kg  Import   14265937   \n",
       "5                  Fowls, live domestic < 185 grams  Import    2671732   \n",
       "7  Poultry, live except domestic fowls, < 185 grams  Import      26485   \n",
       "8                  Fowls, live domestic > 185 grams  Import    2421513   \n",
       "\n",
       "   weight_kg    quantity_name   quantity         category Region_x  Country  \\\n",
       "3  1114023.0  Number of items     6853.0  01_live_animals      NaN  Albania   \n",
       "4  9484953.0  Number of items    96040.0  01_live_animals      NaN  Albania   \n",
       "5   254652.0  Number of items  5629138.0  01_live_animals      NaN  Albania   \n",
       "7     2908.0  Number of items    64000.0  01_live_animals      NaN  Albania   \n",
       "8  1926850.0  Number of items  1006990.0  01_live_animals      NaN  Albania   \n",
       "\n",
       "  Region_y  \n",
       "3   EUROPE  \n",
       "4   EUROPE  \n",
       "5   EUROPE  \n",
       "7   EUROPE  \n",
       "8   EUROPE  "
      ]
     },
     "execution_count": 230,
     "metadata": {},
     "output_type": "execute_result"
    }
   ],
   "source": [
    "europe[data_filter].head()"
   ]
  },
  {
   "cell_type": "code",
   "execution_count": 231,
   "metadata": {},
   "outputs": [
    {
     "data": {
      "text/plain": [
       "country_or_area    False\n",
       "year               False\n",
       "comm_code          False\n",
       "commodity          False\n",
       "flow               False\n",
       "trade_usd          False\n",
       "weight_kg           True\n",
       "quantity_name      False\n",
       "quantity           False\n",
       "category           False\n",
       "Region_x            True\n",
       "Country            False\n",
       "Region_y           False\n",
       "dtype: bool"
      ]
     },
     "execution_count": 231,
     "metadata": {},
     "output_type": "execute_result"
    }
   ],
   "source": [
    "europe[data_filter].isnull().any()"
   ]
  },
  {
   "cell_type": "code",
   "execution_count": 232,
   "metadata": {},
   "outputs": [
    {
     "data": {
      "text/html": [
       "<div>\n",
       "<style scoped>\n",
       "    .dataframe tbody tr th:only-of-type {\n",
       "        vertical-align: middle;\n",
       "    }\n",
       "\n",
       "    .dataframe tbody tr th {\n",
       "        vertical-align: top;\n",
       "    }\n",
       "\n",
       "    .dataframe thead th {\n",
       "        text-align: right;\n",
       "    }\n",
       "</style>\n",
       "<table border=\"1\" class=\"dataframe\">\n",
       "  <thead>\n",
       "    <tr style=\"text-align: right;\">\n",
       "      <th></th>\n",
       "      <th>year</th>\n",
       "      <th>comm_code</th>\n",
       "      <th>trade_usd</th>\n",
       "      <th>quantity</th>\n",
       "    </tr>\n",
       "  </thead>\n",
       "  <tbody>\n",
       "    <tr>\n",
       "      <th>3</th>\n",
       "      <td>28</td>\n",
       "      <td>4</td>\n",
       "      <td>2414533</td>\n",
       "      <td>6853.0</td>\n",
       "    </tr>\n",
       "    <tr>\n",
       "      <th>4</th>\n",
       "      <td>28</td>\n",
       "      <td>7</td>\n",
       "      <td>14265937</td>\n",
       "      <td>96040.0</td>\n",
       "    </tr>\n",
       "    <tr>\n",
       "      <th>5</th>\n",
       "      <td>28</td>\n",
       "      <td>10</td>\n",
       "      <td>2671732</td>\n",
       "      <td>5629138.0</td>\n",
       "    </tr>\n",
       "    <tr>\n",
       "      <th>7</th>\n",
       "      <td>28</td>\n",
       "      <td>11</td>\n",
       "      <td>26485</td>\n",
       "      <td>64000.0</td>\n",
       "    </tr>\n",
       "    <tr>\n",
       "      <th>8</th>\n",
       "      <td>28</td>\n",
       "      <td>12</td>\n",
       "      <td>2421513</td>\n",
       "      <td>1006990.0</td>\n",
       "    </tr>\n",
       "  </tbody>\n",
       "</table>\n",
       "</div>"
      ],
      "text/plain": [
       "   year  comm_code  trade_usd   quantity\n",
       "3    28          4    2414533     6853.0\n",
       "4    28          7   14265937    96040.0\n",
       "5    28         10    2671732  5629138.0\n",
       "7    28         11      26485    64000.0\n",
       "8    28         12    2421513  1006990.0"
      ]
     },
     "execution_count": 232,
     "metadata": {},
     "output_type": "execute_result"
    }
   ],
   "source": [
    "X[columns_to_consider].head()"
   ]
  },
  {
   "cell_type": "code",
   "execution_count": 223,
   "metadata": {},
   "outputs": [
    {
     "data": {
      "text/plain": [
       "(6291, 5)"
      ]
     },
     "execution_count": 223,
     "metadata": {},
     "output_type": "execute_result"
    }
   ],
   "source": [
    "X[columns_to_consider].shape"
   ]
  },
  {
   "cell_type": "code",
   "execution_count": 242,
   "metadata": {},
   "outputs": [
    {
     "data": {
      "text/plain": [
       "<matplotlib.collections.PathCollection at 0x1a244f9748>"
      ]
     },
     "execution_count": 242,
     "metadata": {},
     "output_type": "execute_result"
    },
    {
     "data": {
      "image/png": "[encoded data removed]",
      "text/plain": [
       "<matplotlib.figure.Figure at 0x1a243f1860>"
      ]
     },
     "metadata": {},
     "output_type": "display_data"
    }
   ],
   "source": [
    "X_pca2d = PCA(2).fit_transform(X)\n",
    "plt.scatter(X_pca2d[:, 0], X_pca2d[:, 1])"
   ]
  },
  {
   "cell_type": "code",
   "execution_count": null,
   "metadata": {},
   "outputs": [],
   "source": []
  }
 ],
 "metadata": {
  "kernelspec": {
   "display_name": "Python 3",
   "language": "python",
   "name": "python3"
  },
  "language_info": {
   "codemirror_mode": {
    "name": "ipython",
    "version": 3
   },
   "file_extension": ".py",
   "mimetype": "text/x-python",
   "name": "python",
   "nbconvert_exporter": "python",
   "pygments_lexer": "ipython3",
   "version": "3.6.3"
  }
 },
 "nbformat": 4,
 "nbformat_minor": 2
}
